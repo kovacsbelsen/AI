{
 "cells": [
  {
   "cell_type": "markdown",
   "metadata": {},
   "source": [
    "## Linear Algebra Quiz #2\n",
    "\n",
    "![title](./img/2_1.jpeg)\n",
    "\n",
    "We strongly suggest working with numpy :)"
   ]
  },
  {
   "cell_type": "code",
   "execution_count": 9,
   "metadata": {
    "ExecuteTime": {
     "end_time": "2020-12-20T19:04:46.087087Z",
     "start_time": "2020-12-20T19:04:45.956447Z"
    }
   },
   "outputs": [],
   "source": [
    "#Do your imports here\n",
    "import numpy as np"
   ]
  },
  {
   "cell_type": "markdown",
   "metadata": {},
   "source": [
    "![title](./img/2_2.png)\n",
    "- Which vectors below define a plane spanned by a linear combination?"
   ]
  },
  {
   "cell_type": "code",
   "execution_count": 63,
   "metadata": {
    "ExecuteTime": {
     "end_time": "2020-12-20T20:17:04.712985Z",
     "start_time": "2020-12-20T20:17:04.699022Z"
    }
   },
   "outputs": [
    {
     "name": "stdout",
     "output_type": "stream",
     "text": [
      "[0.28867513 0.57735027 0.8660254 ]\n",
      "[0.07216878 0.14433757 0.21650635]\n",
      "[0.53452248 0.53452248 0.53452248]\n",
      "[0.14433757 0.14433757 0.14433757]\n",
      "[2.13808994 2.13808994 2.13808994]\n",
      "[2.30940108 2.30940108 2.30940108]\n",
      "0.38759668665518016\n"
     ]
    },
    {
     "data": {
      "text/plain": [
       "()"
      ]
     },
     "execution_count": 63,
     "metadata": {},
     "output_type": "execute_result"
    }
   ],
   "source": [
    "    a = np.array([1, 2, 3])\n",
    "    b = np.array([2, 2, 2])\n",
    "    c = np.array([8, 8, 8])\n",
    "    \n",
    "\n",
    "\n",
    "def plane(a,b,c):\n",
    "    #returns false if the vectors do define a plane and returns which are those vectors if true\n",
    "    \n",
    "        \"\"\" \n",
    "        The intuition is that x [1,0,0], y [0, 1, 0]  --> will form a plane\n",
    "        That happens because they linearly independent --> There is an angle between both vectors that is not 0 or 180*.\n",
    "        x [1,0,0] and -x [-1,0,0], do not form a plane, only a line\n",
    "        \"\"\"\n",
    "    # dot product between the two vector\n",
    "    #we want to look at the angle between the two vectors (resulting vector)\n",
    "    \n",
    "        unit_a = a / np.linalg.norm(b)\n",
    "        print(unit_a)\n",
    "        \n",
    "        unit_a1 = a / np.linalg.norm(c)\n",
    "        print(unit_a1)\n",
    "        \n",
    "        unit_b = b / np.linalg.norm(a)\n",
    "        print(unit_b)\n",
    "        \n",
    "        unit_b1 = b / np.linalg.norm(c)\n",
    "        print(unit_b1)\n",
    "        \n",
    "        unit_c = c / np.linalg.norm(a)\n",
    "        print(unit_c)\n",
    "        \n",
    "        unit_c1 = c / np.linalg.norm(b)\n",
    "        print(unit_c1)\n",
    "        \n",
    "        \n",
    "        dot_product_ab = np.dot(unit_a, unit_b)\n",
    "      \n",
    "        angle_ab = np.arccos(dot_product_ab)\n",
    "        \n",
    "        \n",
    "        #dot_product_bc = np.dot(unit_b, unit_c)   # doesnt fucking work!!!!!!!\n",
    "        \n",
    "        #print(dot_product_bc)\n",
    "        \n",
    "        print(angle_ab)\n",
    "        \n",
    "        return()\n",
    "    \n",
    "plane(a,b,c)    \n",
    "    # check a,b\n",
    "    # check b,c\n",
    "    # check a,c"
   ]
  },
  {
   "cell_type": "code",
   "execution_count": 61,
   "metadata": {
    "ExecuteTime": {
     "end_time": "2020-12-20T20:16:45.429038Z",
     "start_time": "2020-12-20T20:16:45.424038Z"
    }
   },
   "outputs": [],
   "source": [
    "def plane(a,b,c):\n",
    "    #returns false if the vectors do define a plane and returns which are those vectors if true\n",
    "    \n",
    "    matrix = np.stack((a,b,c))\n",
    "    \n",
    "    lambdas, V = np.linalg.eig(matrix.T)\n",
    "    \n",
    "    e = 0.000000001\n",
    "    \n",
    "    plane_test = abs(lambdas) > e \n",
    "    \n",
    "    if plane_test.sum() >= 2:\n",
    "        \n",
    "        print('Vectors form a plane!')\n",
    "        \n",
    "        vectors = matrix[plane_test]\n",
    "        return vectors\n",
    "    else:\n",
    "        print('Vectors are all linearly dependent. No plane exists.')"
   ]
  },
  {
   "cell_type": "code",
   "execution_count": 40,
   "metadata": {
    "ExecuteTime": {
     "end_time": "2020-12-20T19:46:54.156245Z",
     "start_time": "2020-12-20T19:46:54.148265Z"
    }
   },
   "outputs": [
    {
     "name": "stdout",
     "output_type": "stream",
     "text": [
      "Vectors form a plane!\n"
     ]
    },
    {
     "data": {
      "text/plain": [
       "array([[1, 2, 3],\n",
       "       [2, 2, 2],\n",
       "       [4, 7, 9]])"
      ]
     },
     "execution_count": 40,
     "metadata": {},
     "output_type": "execute_result"
    }
   ],
   "source": [
    "a = np.array([1,2,3])\n",
    "b = np.array([2,2,2])\n",
    "c = np.array([4,7,9])\n",
    "\n",
    "plane(a,b,c)"
   ]
  },
  {
   "cell_type": "code",
   "execution_count": 4,
   "metadata": {
    "ExecuteTime": {
     "end_time": "2020-12-20T19:03:36.946903Z",
     "start_time": "2020-12-20T19:03:36.940918Z"
    }
   },
   "outputs": [
    {
     "ename": "SyntaxError",
     "evalue": "unexpected EOF while parsing (<ipython-input-4-5f93bfa34679>, line 5)",
     "output_type": "error",
     "traceback": [
      "\u001b[1;36m  File \u001b[1;32m\"<ipython-input-4-5f93bfa34679>\"\u001b[1;36m, line \u001b[1;32m5\u001b[0m\n\u001b[1;33m    #returns the first set of vectors to complete a plane, false otherwise\u001b[0m\n\u001b[1;37m                                                                          ^\u001b[0m\n\u001b[1;31mSyntaxError\u001b[0m\u001b[1;31m:\u001b[0m unexpected EOF while parsing\n"
     ]
    }
   ],
   "source": [
    "# Harder exercise\n",
    "\n",
    "def complete_plane(#inputs):\n",
    "    \n",
    "#returns the first set of vectors to complete a plane, false otherwise"
   ]
  },
  {
   "cell_type": "markdown",
   "metadata": {},
   "source": [
    "![title](./img/2_3.png)\n",
    "- What is the solution for a and b?"
   ]
  },
  {
   "cell_type": "code",
   "execution_count": null,
   "metadata": {},
   "outputs": [],
   "source": [
    "# do you need a function for this? What is the most efficient way to solve it?\n",
    "#2*a + 3*b +1 =0\n",
    "\n",
    "#10*a+15*b+5 = 0"
   ]
  },
  {
   "cell_type": "markdown",
   "metadata": {},
   "source": [
    "![title](./img/2_4.png)\n",
    "- What is the solution for a and b?"
   ]
  },
  {
   "cell_type": "code",
   "execution_count": null,
   "metadata": {},
   "outputs": [],
   "source": [
    "# Idem. Do you need a function for this? What is the most efficient way to solve it?"
   ]
  }
 ],
 "metadata": {
  "kernelspec": {
   "display_name": "Python 3",
   "language": "python",
   "name": "python3"
  },
  "language_info": {
   "codemirror_mode": {
    "name": "ipython",
    "version": 3
   },
   "file_extension": ".py",
   "mimetype": "text/x-python",
   "name": "python",
   "nbconvert_exporter": "python",
   "pygments_lexer": "ipython3",
   "version": "3.8.5"
  }
 },
 "nbformat": 4,
 "nbformat_minor": 2
}
