{
 "cells": [
  {
   "cell_type": "code",
   "execution_count": 1,
   "metadata": {
    "ExecuteTime": {
     "end_time": "2021-03-22T10:13:45.820409Z",
     "start_time": "2021-03-22T10:13:45.672776Z"
    }
   },
   "outputs": [],
   "source": [
    "import cv2\n",
    "import numpy as np\n",
    "\n"
   ]
  },
  {
   "cell_type": "code",
   "execution_count": 2,
   "metadata": {
    "ExecuteTime": {
     "end_time": "2021-03-22T10:14:47.787335Z",
     "start_time": "2021-03-22T10:13:46.502683Z"
    }
   },
   "outputs": [
    {
     "data": {
      "text/plain": [
       "<function destroyAllWindows>"
      ]
     },
     "execution_count": 2,
     "metadata": {},
     "output_type": "execute_result"
    }
   ],
   "source": [
    "cap = cv2.VideoCapture(0)\n",
    "\n",
    "fgbg = cv2.createBackgroundSubtractorMOG2()\n",
    "\n",
    "while True:\n",
    "    ret, frame = cap.read()\n",
    "    fgmask = fgbg.apply(frame)\n",
    "    \n",
    "    cv2.imshow('original', frame)\n",
    "    cv2.imshow('fg', fgmask)\n",
    "    \n",
    "    k = cv2.waitKey(30) & 0xff\n",
    "    if k == 27:\n",
    "        break\n",
    "        \n",
    "cap.release()\n",
    "cv2.destroyAllWindows"
   ]
  },
  {
   "cell_type": "code",
   "execution_count": 6,
   "metadata": {
    "ExecuteTime": {
     "end_time": "2021-03-17T16:32:01.406246Z",
     "start_time": "2021-03-17T16:30:56.130352Z"
    }
   },
   "outputs": [
    {
     "ename": "KeyboardInterrupt",
     "evalue": "",
     "output_type": "error",
     "traceback": [
      "\u001b[1;31m---------------------------------------------------------------------------\u001b[0m",
      "\u001b[1;31mKeyboardInterrupt\u001b[0m                         Traceback (most recent call last)",
      "\u001b[1;32m<ipython-input-6-009b2585fb28>\u001b[0m in \u001b[0;36m<module>\u001b[1;34m\u001b[0m\n\u001b[0;32m      7\u001b[0m \u001b[1;32mwhile\u001b[0m \u001b[1;32mTrue\u001b[0m\u001b[1;33m:\u001b[0m\u001b[1;33m\u001b[0m\u001b[1;33m\u001b[0m\u001b[0m\n\u001b[0;32m      8\u001b[0m \u001b[1;33m\u001b[0m\u001b[0m\n\u001b[1;32m----> 9\u001b[1;33m     \u001b[0mret\u001b[0m\u001b[1;33m,\u001b[0m \u001b[0mframe\u001b[0m \u001b[1;33m=\u001b[0m \u001b[0mvideo\u001b[0m\u001b[1;33m.\u001b[0m\u001b[0mread\u001b[0m\u001b[1;33m(\u001b[0m\u001b[1;33m)\u001b[0m\u001b[1;33m\u001b[0m\u001b[1;33m\u001b[0m\u001b[0m\n\u001b[0m\u001b[0;32m     10\u001b[0m \u001b[1;33m\u001b[0m\u001b[0m\n\u001b[0;32m     11\u001b[0m     \u001b[0mframe\u001b[0m \u001b[1;33m=\u001b[0m \u001b[0mcv2\u001b[0m\u001b[1;33m.\u001b[0m\u001b[0mresize\u001b[0m\u001b[1;33m(\u001b[0m\u001b[0mframe\u001b[0m\u001b[1;33m,\u001b[0m \u001b[1;33m(\u001b[0m\u001b[1;36m640\u001b[0m\u001b[1;33m,\u001b[0m \u001b[1;36m480\u001b[0m\u001b[1;33m)\u001b[0m\u001b[1;33m)\u001b[0m\u001b[1;33m\u001b[0m\u001b[1;33m\u001b[0m\u001b[0m\n",
      "\u001b[1;31mKeyboardInterrupt\u001b[0m: "
     ]
    }
   ],
   "source": [
    "import cv2  \n",
    "import numpy as np  \n",
    "  \n",
    "video = cv2.VideoCapture(0) \n",
    "image = cv2.imread(\"image1.png\") \n",
    "  \n",
    "while True: \n",
    "  \n",
    "    ret, frame = video.read() \n",
    "  \n",
    "    frame = cv2.resize(frame, (640, 480)) \n",
    "    image = cv2.resize(image, (640, 480)) \n",
    "  \n",
    "  \n",
    "    u_green = np.array([104, 153, 70]) \n",
    "    l_green = np.array([30, 30, 0]) \n",
    "  \n",
    "    mask = cv2.inRange(frame, l_green, u_green) \n",
    "    res = cv2.bitwise_and(frame, frame, mask = mask) \n",
    "  \n",
    "    f = frame - res \n",
    "    f = np.where(f == 0, image, f) \n",
    "  \n",
    "    cv2.imshow(\"video\", frame) \n",
    "    cv2.imshow(\"mask\", f) \n",
    "  \n",
    "    if cv2.waitKey(25) == 27: \n",
    "        break \n",
    "  \n",
    "video.release() \n",
    "cv2.destroyAllWindows() "
   ]
  },
  {
   "cell_type": "code",
   "execution_count": 2,
   "metadata": {
    "ExecuteTime": {
     "end_time": "2021-03-17T16:07:16.244315Z",
     "start_time": "2021-03-17T16:07:16.231308Z"
    }
   },
   "outputs": [],
   "source": [
    "def decode_segmap(image, source, nc=21):\n",
    "\n",
    "        # Load the foreground input image\n",
    "    foreground = cv2.imread(source)\n",
    "\n",
    "        # Change the color of foreground image to RGB\n",
    "        # and resize image to match shape of R-band in RGB output map\n",
    "\n",
    "    foreground = cv2.cvtColor(foreground, cv2.COLOR_BGR2RGB)\n",
    "    foreground = cv2.resize(foreground,(r.shape[1],r.shape[0]))\n",
    "\n",
    "        # Create a background array to hold white pixels\n",
    "        # with the same size as RGB output map\n",
    "\n",
    "    background = 255 * np.ones_like(rgb).astype(np.uint8)\n",
    "\n",
    "        # Convert uint8 to float\n",
    "\n",
    "    foreground = foreground.astype(float)\n",
    "    background = background.astype(float)\n",
    "\n",
    "        # Create a binary mask of the RGB output map using the threshold value 0\n",
    "\n",
    "    th, alpha = cv2.threshold(np.array(rgb),0,255, cv2.THRESH_BINARY)\n",
    "\n",
    "        # Apply a slight blur to the mask to soften edges\n",
    "\n",
    "    alpha = cv2.GaussianBlur(alpha, (7,7),0)\n",
    "\n",
    "        # Normalize the alpha mask to keep intensity between 0 and 1\n",
    "\n",
    "    alpha = alpha.astype(float)/255\n",
    "\n",
    "        # Multiply the foreground with the alpha matte\n",
    "\n",
    "    foreground = cv2.multiply(alpha, foreground)\n",
    "\n",
    "        # Multiply the background with ( 1 - alpha )\n",
    "\n",
    "    background = cv2.multiply(1.0 - alpha, background)\n",
    "\n",
    "        # Add the masked foreground and background\n",
    "\n",
    "    outImage = cv2.add(foreground, background)\n",
    "\n",
    "        # Return a normalized output image for display\n",
    "\n",
    "    return outImage/255\n",
    "    "
   ]
  },
  {
   "cell_type": "code",
   "execution_count": 3,
   "metadata": {
    "ExecuteTime": {
     "end_time": "2021-03-17T16:08:19.470575Z",
     "start_time": "2021-03-17T16:08:19.230228Z"
    }
   },
   "outputs": [
    {
     "ename": "NameError",
     "evalue": "name 'segment' is not defined",
     "output_type": "error",
     "traceback": [
      "\u001b[1;31m---------------------------------------------------------------------------\u001b[0m",
      "\u001b[1;31mNameError\u001b[0m                                 Traceback (most recent call last)",
      "\u001b[1;32m<ipython-input-3-68d0aba3e854>\u001b[0m in \u001b[0;36m<module>\u001b[1;34m\u001b[0m\n\u001b[1;32m----> 1\u001b[1;33m \u001b[0msegment\u001b[0m\u001b[1;33m(\u001b[0m\u001b[0mdlab\u001b[0m\u001b[1;33m,\u001b[0m \u001b[1;34m'cars3.jpg'\u001b[0m\u001b[1;33m,\u001b[0m \u001b[0mshow_orig\u001b[0m\u001b[1;33m=\u001b[0m\u001b[1;32mFalse\u001b[0m\u001b[1;33m)\u001b[0m\u001b[1;33m\u001b[0m\u001b[1;33m\u001b[0m\u001b[0m\n\u001b[0m",
      "\u001b[1;31mNameError\u001b[0m: name 'segment' is not defined"
     ]
    }
   ],
   "source": [
    "segment(dlab, 'cars3.jpg', show_orig=False)"
   ]
  },
  {
   "cell_type": "code",
   "execution_count": 4,
   "metadata": {
    "ExecuteTime": {
     "end_time": "2021-03-17T16:09:35.687271Z",
     "start_time": "2021-03-17T16:09:35.681262Z"
    }
   },
   "outputs": [],
   "source": [
    "def decode_segmap(image, source, bgimg, nc=21):\n",
    "        # Load the foreground input image\n",
    "    foreground = cv2.imread(source)\n",
    "\n",
    "    # Load the background input image\n",
    "    background = cv2.imread(bgimg)\n",
    "\n",
    "    # Change the color of foreground &amp;amp;amp;amp;amp; background images to RGB\n",
    "    # and resize images to match shape of R-band in RGB output map\n",
    "    foreground = cv2.cvtColor(foreground, cv2.COLOR_BGR2RGB)\n",
    "    background = cv2.cvtColor(background, cv2.COLOR_BGR2RGB)\n",
    "    foreground = cv2.resize(foreground,(r.shape[1],r.shape[0]))\n",
    "    background = cv2.resize(background,(r.shape[1],r.shape[0]))\n",
    "\n",
    "    # Convert uint8 to float\n",
    "    foreground = foreground.astype(float)\n",
    "    background = background.astype(float)\n",
    "\n",
    "    # Create a binary mask of the RGB output map using the threshold value 0\n",
    "    th, alpha = cv2.threshold(np.array(rgb),0,255, cv2.THRESH_BINARY)\n",
    "\n",
    "    # Apply a slight blur to the mask to soften edges\n",
    "    alpha = cv2.GaussianBlur(alpha, (7,7),0)\n",
    "\n",
    "    # Normalize the alpha mask to keep intensity between 0 and 1\n",
    "    alpha = alpha.astype(float)/255\n",
    "\n",
    "    # Multiply the foreground with the alpha matte\n",
    "    foreground = cv2.multiply(alpha, foreground)\n",
    "\n",
    "    # Multiply the background with ( 1 - alpha )\n",
    "    background = cv2.multiply(1.0 - alpha, background)\n",
    "\n",
    "    # Add the masked foreground and background\n",
    "    outImage = cv2.add(foreground, background)\n",
    "    # Return a normalized output image for display\n",
    "    return outImage/255\n"
   ]
  },
  {
   "cell_type": "code",
   "execution_count": null,
   "metadata": {},
   "outputs": [],
   "source": []
  }
 ],
 "metadata": {
  "kernelspec": {
   "display_name": "Python 3",
   "language": "python",
   "name": "python3"
  },
  "language_info": {
   "codemirror_mode": {
    "name": "ipython",
    "version": 3
   },
   "file_extension": ".py",
   "mimetype": "text/x-python",
   "name": "python",
   "nbconvert_exporter": "python",
   "pygments_lexer": "ipython3",
   "version": "3.8.5"
  }
 },
 "nbformat": 4,
 "nbformat_minor": 4
}
