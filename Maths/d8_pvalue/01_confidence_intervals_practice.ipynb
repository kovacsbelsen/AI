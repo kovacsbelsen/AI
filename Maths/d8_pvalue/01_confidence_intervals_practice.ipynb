{
 "cells": [
  {
   "cell_type": "markdown",
   "metadata": {},
   "source": [
    "# Practice notebook for confidence intervals using NHANES data\n",
    "\n",
    "This notebook will give you the opportunity to practice working with confidence intervals using the NHANES data.\n",
    "\n",
    "You can enter your code into the cells that say \"enter your code here\", and you can type responses to the questions into the cells that say \"Type Markdown and Latex\".\n",
    "\n",
    "Note that most of the code that you will need to write below is very similar to code that appears in the case study notebook.  You will need to edit code from that notebook in small ways to adapt it to the prompts below.\n",
    "\n",
    "To get started, we will use the same module imports and read the data in the same way as we did in the case study:"
   ]
  },
  {
   "cell_type": "code",
   "execution_count": 66,
   "metadata": {
    "ExecuteTime": {
     "end_time": "2021-01-10T19:27:21.135418Z",
     "start_time": "2021-01-10T19:27:21.058645Z"
    }
   },
   "outputs": [
    {
     "data": {
      "text/html": [
       "<div>\n",
       "<style scoped>\n",
       "    .dataframe tbody tr th:only-of-type {\n",
       "        vertical-align: middle;\n",
       "    }\n",
       "\n",
       "    .dataframe tbody tr th {\n",
       "        vertical-align: top;\n",
       "    }\n",
       "\n",
       "    .dataframe thead th {\n",
       "        text-align: right;\n",
       "    }\n",
       "</style>\n",
       "<table border=\"1\" class=\"dataframe\">\n",
       "  <thead>\n",
       "    <tr style=\"text-align: right;\">\n",
       "      <th></th>\n",
       "      <th>College</th>\n",
       "      <th>Not College</th>\n",
       "      <th>N</th>\n",
       "    </tr>\n",
       "    <tr>\n",
       "      <th>DMDMARTL</th>\n",
       "      <th></th>\n",
       "      <th></th>\n",
       "      <th></th>\n",
       "    </tr>\n",
       "  </thead>\n",
       "  <tbody>\n",
       "    <tr>\n",
       "      <th>Married</th>\n",
       "      <td>0.676020</td>\n",
       "      <td>0.323980</td>\n",
       "      <td>392</td>\n",
       "    </tr>\n",
       "    <tr>\n",
       "      <th>Not</th>\n",
       "      <td>0.562092</td>\n",
       "      <td>0.437908</td>\n",
       "      <td>306</td>\n",
       "    </tr>\n",
       "  </tbody>\n",
       "</table>\n",
       "</div>"
      ],
      "text/plain": [
       "           College  Not College    N\n",
       "DMDMARTL                            \n",
       "Married   0.676020     0.323980  392\n",
       "Not       0.562092     0.437908  306"
      ]
     },
     "execution_count": 66,
     "metadata": {},
     "output_type": "execute_result"
    }
   ],
   "source": [
    "%matplotlib inline\n",
    "import matplotlib.pyplot as plt\n",
    "import pandas as pd\n",
    "import numpy as np\n",
    "import seaborn as sns\n",
    "import statsmodels.api as sm\n",
    "\n",
    "da = pd.read_csv(\"nhanes_2015_2016.csv\")\n",
    "da\n",
    "\n",
    "da = da[(da['RIDAGEYR'] >35) & (da['RIDAGEYR'] <50)]      # only ages between 35 and 50\n",
    "da = da.loc[(da.RIAGENDR == 2), :]                        # only women\n",
    "da[\"RIAGENDR\"] = da.RIAGENDR.replace({1: \"Male\", 2: \"Female\"})   # change values, to make gender easier to read\n",
    "\n",
    "da[\"DMDMARTL\"] = da.DMDMARTL.replace({1: \"Married\", 2: \"Not\", 3: \"Not\", 4: \"Not\", 5: \"Not\", 6: \"Not\", 77: np.nan, 99: np.nan})\n",
    "da[\"DMDEDUC2\"] = da.DMDEDUC2.replace({1: \"No\", 2: \"No\", 3: \"No\", 4: \"Graduated\", 5: \"Graduated\",  7: np.nan, 9: np.nan})\n",
    "\n",
    "dx = da[[\"DMDMARTL\", \"RIAGENDR\", \"DMDEDUC2\"]].dropna()\n",
    "dx\n",
    "\n",
    "p_college = dx.groupby(\"DMDMARTL\")[\"DMDEDUC2\"].agg([lambda z: np.mean(z == \"Graduated\"), lambda z: np.mean(z == \"No\"), \"size\"])\n",
    "p_college.columns = [\"College\", \"Not College\", \"N\"]\n",
    "\n",
    "p_college"
   ]
  },
  {
   "cell_type": "code",
   "execution_count": 65,
   "metadata": {
    "ExecuteTime": {
     "end_time": "2021-01-10T19:14:36.449528Z",
     "start_time": "2021-01-10T19:14:36.387692Z"
    }
   },
   "outputs": [
    {
     "data": {
      "text/html": [
       "<div>\n",
       "<style scoped>\n",
       "    .dataframe tbody tr th:only-of-type {\n",
       "        vertical-align: middle;\n",
       "    }\n",
       "\n",
       "    .dataframe tbody tr th {\n",
       "        vertical-align: top;\n",
       "    }\n",
       "\n",
       "    .dataframe thead th {\n",
       "        text-align: right;\n",
       "    }\n",
       "</style>\n",
       "<table border=\"1\" class=\"dataframe\">\n",
       "  <thead>\n",
       "    <tr style=\"text-align: right;\">\n",
       "      <th></th>\n",
       "      <th>College</th>\n",
       "      <th>Not College</th>\n",
       "      <th>N</th>\n",
       "    </tr>\n",
       "    <tr>\n",
       "      <th>DMDMARTL</th>\n",
       "      <th></th>\n",
       "      <th></th>\n",
       "      <th></th>\n",
       "    </tr>\n",
       "  </thead>\n",
       "  <tbody>\n",
       "    <tr>\n",
       "      <th>Married</th>\n",
       "      <td>0.676020</td>\n",
       "      <td>0.323980</td>\n",
       "      <td>392</td>\n",
       "    </tr>\n",
       "    <tr>\n",
       "      <th>Not</th>\n",
       "      <td>0.562092</td>\n",
       "      <td>0.437908</td>\n",
       "      <td>306</td>\n",
       "    </tr>\n",
       "  </tbody>\n",
       "</table>\n",
       "</div>"
      ],
      "text/plain": [
       "           College  Not College    N\n",
       "DMDMARTL                            \n",
       "Married   0.676020     0.323980  392\n",
       "Not       0.562092     0.437908  306"
      ]
     },
     "execution_count": 65,
     "metadata": {},
     "output_type": "execute_result"
    }
   ],
   "source": [
    "da = pd.read_csv(\"nhanes_2015_2016.csv\")\n",
    "da\n",
    "\n",
    "da = da[(da['RIDAGEYR'] >35) & (da['RIDAGEYR'] <50)]      # only ages between 35 and 50\n",
    "da = da.loc[(da.RIAGENDR == 2), :]                        # only women\n",
    "da[\"RIAGENDR\"] = da.RIAGENDR.replace({1: \"Male\", 2: \"Female\"})   # change values, to make gender easier to read\n",
    "\n",
    "da[\"DMDMARTL\"] = da.DMDMARTL.replace({1: \"Married\", 2: \"Not\", 3: \"Not\", 4: \"Not\", 5: \"Not\", 6: \"Not\", 77: np.nan, 99: np.nan})\n",
    "da[\"DMDEDUC2\"] = da.DMDEDUC2.replace({1: \"No\", 2: \"No\", 3: \"No\", 4: \"Graduated\", 5: \"Graduated\",  7: np.nan, 9: np.nan})\n",
    "\n",
    "dx = da[[\"DMDMARTL\", \"RIAGENDR\", \"DMDEDUC2\"]].dropna()\n",
    "dx\n",
    "\n",
    "#p_college = dx.groupby(\"DMDMARTL\")[\"DMDEDUC2\"].agg([lambda z: np.mean(z>=4.0), lambda z: np.mean(z<=3.0), \"size\"])\n",
    "p_college = dx.groupby(\"DMDMARTL\")[\"DMDEDUC2\"].agg([lambda z: np.mean(z == \"Graduated\"), lambda z: np.mean(z == \"No\"), \"size\"])\n",
    "p_college.columns = [\"College\", \"Not College\", \"N\"]\n",
    "\n",
    "p_college"
   ]
  },
  {
   "cell_type": "markdown",
   "metadata": {},
   "source": [
    "## Question 1\n",
    "\n",
    "Restrict the sample to women between 35 and 50, then use the marital status variable [DMDMARTL](https://wwwn.cdc.gov/Nchs/Nhanes/2015-2016/DEMO_I.htm#DMDMARTL) to partition this sample into two groups - women who are currently married, and women who are not currently married.  Within each of these groups, calculate the proportion of women who have completed college.  Calculate 95% confidence intervals for each of these proportions."
   ]
  },
  {
   "cell_type": "code",
   "execution_count": 33,
   "metadata": {
    "ExecuteTime": {
     "end_time": "2021-01-10T17:04:55.615797Z",
     "start_time": "2021-01-10T17:04:55.464327Z"
    }
   },
   "outputs": [
    {
     "data": {
      "text/html": [
       "<div>\n",
       "<style scoped>\n",
       "    .dataframe tbody tr th:only-of-type {\n",
       "        vertical-align: middle;\n",
       "    }\n",
       "\n",
       "    .dataframe tbody tr th {\n",
       "        vertical-align: top;\n",
       "    }\n",
       "\n",
       "    .dataframe thead tr th {\n",
       "        text-align: left;\n",
       "    }\n",
       "\n",
       "    .dataframe thead tr:last-of-type th {\n",
       "        text-align: right;\n",
       "    }\n",
       "</style>\n",
       "<table border=\"1\" class=\"dataframe\">\n",
       "  <thead>\n",
       "    <tr>\n",
       "      <th></th>\n",
       "      <th></th>\n",
       "      <th colspan=\"3\" halign=\"left\">SEQN</th>\n",
       "      <th colspan=\"3\" halign=\"left\">ALQ101</th>\n",
       "      <th colspan=\"3\" halign=\"left\">ALQ110</th>\n",
       "      <th>ALQ130</th>\n",
       "      <th>...</th>\n",
       "      <th>BMXARML</th>\n",
       "      <th colspan=\"3\" halign=\"left\">BMXARMC</th>\n",
       "      <th colspan=\"3\" halign=\"left\">BMXWAIST</th>\n",
       "      <th colspan=\"3\" halign=\"left\">HIQ210</th>\n",
       "    </tr>\n",
       "    <tr>\n",
       "      <th></th>\n",
       "      <th></th>\n",
       "      <th>&lt;lambda_0&gt;</th>\n",
       "      <th>&lt;lambda_1&gt;</th>\n",
       "      <th>size</th>\n",
       "      <th>&lt;lambda_0&gt;</th>\n",
       "      <th>&lt;lambda_1&gt;</th>\n",
       "      <th>size</th>\n",
       "      <th>&lt;lambda_0&gt;</th>\n",
       "      <th>&lt;lambda_1&gt;</th>\n",
       "      <th>size</th>\n",
       "      <th>&lt;lambda_0&gt;</th>\n",
       "      <th>...</th>\n",
       "      <th>size</th>\n",
       "      <th>&lt;lambda_0&gt;</th>\n",
       "      <th>&lt;lambda_1&gt;</th>\n",
       "      <th>size</th>\n",
       "      <th>&lt;lambda_0&gt;</th>\n",
       "      <th>&lt;lambda_1&gt;</th>\n",
       "      <th>size</th>\n",
       "      <th>&lt;lambda_0&gt;</th>\n",
       "      <th>&lt;lambda_1&gt;</th>\n",
       "      <th>size</th>\n",
       "    </tr>\n",
       "    <tr>\n",
       "      <th>DMDMARTL</th>\n",
       "      <th>DMDEDUC2</th>\n",
       "      <th></th>\n",
       "      <th></th>\n",
       "      <th></th>\n",
       "      <th></th>\n",
       "      <th></th>\n",
       "      <th></th>\n",
       "      <th></th>\n",
       "      <th></th>\n",
       "      <th></th>\n",
       "      <th></th>\n",
       "      <th></th>\n",
       "      <th></th>\n",
       "      <th></th>\n",
       "      <th></th>\n",
       "      <th></th>\n",
       "      <th></th>\n",
       "      <th></th>\n",
       "      <th></th>\n",
       "      <th></th>\n",
       "      <th></th>\n",
       "      <th></th>\n",
       "    </tr>\n",
       "  </thead>\n",
       "  <tbody>\n",
       "    <tr>\n",
       "      <th rowspan=\"2\" valign=\"top\">Married</th>\n",
       "      <th>Graduated</th>\n",
       "      <td>1</td>\n",
       "      <td>0</td>\n",
       "      <td>265</td>\n",
       "      <td>0.0</td>\n",
       "      <td>0.837736</td>\n",
       "      <td>265</td>\n",
       "      <td>0.0</td>\n",
       "      <td>0.347170</td>\n",
       "      <td>265</td>\n",
       "      <td>0.064151</td>\n",
       "      <td>...</td>\n",
       "      <td>265</td>\n",
       "      <td>0.939623</td>\n",
       "      <td>0.0</td>\n",
       "      <td>265</td>\n",
       "      <td>0.932075</td>\n",
       "      <td>0.0</td>\n",
       "      <td>265</td>\n",
       "      <td>0.000000</td>\n",
       "      <td>0.890566</td>\n",
       "      <td>265</td>\n",
       "    </tr>\n",
       "    <tr>\n",
       "      <th>No</th>\n",
       "      <td>1</td>\n",
       "      <td>0</td>\n",
       "      <td>127</td>\n",
       "      <td>0.0</td>\n",
       "      <td>0.811024</td>\n",
       "      <td>127</td>\n",
       "      <td>0.0</td>\n",
       "      <td>0.488189</td>\n",
       "      <td>127</td>\n",
       "      <td>0.047244</td>\n",
       "      <td>...</td>\n",
       "      <td>127</td>\n",
       "      <td>0.929134</td>\n",
       "      <td>0.0</td>\n",
       "      <td>127</td>\n",
       "      <td>0.889764</td>\n",
       "      <td>0.0</td>\n",
       "      <td>127</td>\n",
       "      <td>0.000000</td>\n",
       "      <td>0.637795</td>\n",
       "      <td>127</td>\n",
       "    </tr>\n",
       "    <tr>\n",
       "      <th rowspan=\"2\" valign=\"top\">Not</th>\n",
       "      <th>Graduated</th>\n",
       "      <td>1</td>\n",
       "      <td>0</td>\n",
       "      <td>172</td>\n",
       "      <td>0.0</td>\n",
       "      <td>0.906977</td>\n",
       "      <td>172</td>\n",
       "      <td>0.0</td>\n",
       "      <td>0.308140</td>\n",
       "      <td>172</td>\n",
       "      <td>0.081395</td>\n",
       "      <td>...</td>\n",
       "      <td>172</td>\n",
       "      <td>0.936047</td>\n",
       "      <td>0.0</td>\n",
       "      <td>172</td>\n",
       "      <td>0.930233</td>\n",
       "      <td>0.0</td>\n",
       "      <td>172</td>\n",
       "      <td>0.000000</td>\n",
       "      <td>0.848837</td>\n",
       "      <td>172</td>\n",
       "    </tr>\n",
       "    <tr>\n",
       "      <th>No</th>\n",
       "      <td>1</td>\n",
       "      <td>0</td>\n",
       "      <td>134</td>\n",
       "      <td>0.0</td>\n",
       "      <td>0.917910</td>\n",
       "      <td>134</td>\n",
       "      <td>0.0</td>\n",
       "      <td>0.432836</td>\n",
       "      <td>134</td>\n",
       "      <td>0.134328</td>\n",
       "      <td>...</td>\n",
       "      <td>134</td>\n",
       "      <td>0.932836</td>\n",
       "      <td>0.0</td>\n",
       "      <td>134</td>\n",
       "      <td>0.917910</td>\n",
       "      <td>0.0</td>\n",
       "      <td>134</td>\n",
       "      <td>0.007463</td>\n",
       "      <td>0.634328</td>\n",
       "      <td>134</td>\n",
       "    </tr>\n",
       "  </tbody>\n",
       "</table>\n",
       "<p>4 rows × 75 columns</p>\n",
       "</div>"
      ],
      "text/plain": [
       "                         SEQN                     ALQ101                  \\\n",
       "                   <lambda_0> <lambda_1> size <lambda_0> <lambda_1> size   \n",
       "DMDMARTL DMDEDUC2                                                          \n",
       "Married  Graduated          1          0  265        0.0   0.837736  265   \n",
       "         No                 1          0  127        0.0   0.811024  127   \n",
       "Not      Graduated          1          0  172        0.0   0.906977  172   \n",
       "         No                 1          0  134        0.0   0.917910  134   \n",
       "\n",
       "                       ALQ110                     ALQ130  ... BMXARML  \\\n",
       "                   <lambda_0> <lambda_1> size <lambda_0>  ...    size   \n",
       "DMDMARTL DMDEDUC2                                         ...           \n",
       "Married  Graduated        0.0   0.347170  265   0.064151  ...     265   \n",
       "         No               0.0   0.488189  127   0.047244  ...     127   \n",
       "Not      Graduated        0.0   0.308140  172   0.081395  ...     172   \n",
       "         No               0.0   0.432836  134   0.134328  ...     134   \n",
       "\n",
       "                      BMXARMC                   BMXWAIST                  \\\n",
       "                   <lambda_0> <lambda_1> size <lambda_0> <lambda_1> size   \n",
       "DMDMARTL DMDEDUC2                                                          \n",
       "Married  Graduated   0.939623        0.0  265   0.932075        0.0  265   \n",
       "         No          0.929134        0.0  127   0.889764        0.0  127   \n",
       "Not      Graduated   0.936047        0.0  172   0.930233        0.0  172   \n",
       "         No          0.932836        0.0  134   0.917910        0.0  134   \n",
       "\n",
       "                       HIQ210                  \n",
       "                   <lambda_0> <lambda_1> size  \n",
       "DMDMARTL DMDEDUC2                              \n",
       "Married  Graduated   0.000000   0.890566  265  \n",
       "         No          0.000000   0.637795  127  \n",
       "Not      Graduated   0.000000   0.848837  172  \n",
       "         No          0.007463   0.634328  134  \n",
       "\n",
       "[4 rows x 75 columns]"
      ]
     },
     "execution_count": 33,
     "metadata": {},
     "output_type": "execute_result"
    }
   ],
   "source": [
    "da = da[(da['RIDAGEYR'] >35) & (da['RIDAGEYR'] <50)]      # only ages between 35 and 50\n",
    "da = da.loc[(da.RIAGENDR == 2), :]                        # only women\n",
    "da[\"RIAGENDR\"] = da.RIAGENDR.replace({1: \"Male\", 2: \"Female\"})   # change values, to make gender easier to read\n",
    "da[\"DMDMARTL\"] = da.DMDMARTL.replace({1: \"Married\", 2: \"Not\", 3: \"Not\", 4: \"Not\", 5: \"Not\", 6: \"Not\", 77: np.nan, 99: np.nan})\n",
    "da[\"DMDEDUC2\"] = da.DMDEDUC2.replace({1: \"No\", 2: \"No\", 3: \"No\", 4: \"Graduated\", 5: \"Graduated\",  7: np.nan, 9: np.nan})\n",
    "#dx = da.groupby(da.DMDEDUC2).agg({\"DMDEDUC2\": [lambda x: np.mean(x==\"Graduated\"), np.size]})\n",
    "dx = da.groupby(['DMDMARTL','DMDEDUC2']).agg([lambda z: np.mean(z>=4.0), lambda z: np.mean(z<=3.0), \"size\"])\n",
    "dx"
   ]
  },
  {
   "cell_type": "code",
   "execution_count": 4,
   "metadata": {
    "ExecuteTime": {
     "end_time": "2021-01-10T12:17:02.913191Z",
     "start_time": "2021-01-10T12:17:02.909192Z"
    }
   },
   "outputs": [],
   "source": [
    "#dr = da[(da['RIDAGEYR'] >35) & (da['RIDAGEYR'] <50)]     # get all ages\n",
    "#drs = dr\n",
    "#drs"
   ]
  },
  {
   "cell_type": "code",
   "execution_count": 5,
   "metadata": {
    "ExecuteTime": {
     "end_time": "2021-01-10T12:17:04.904785Z",
     "start_time": "2021-01-10T12:17:04.901784Z"
    }
   },
   "outputs": [],
   "source": [
    "#dw = dr.loc[(da.RIAGENDR == 2), :]                # get all women\n",
    "#dw"
   ]
  },
  {
   "cell_type": "code",
   "execution_count": 6,
   "metadata": {
    "ExecuteTime": {
     "end_time": "2021-01-10T12:17:07.075828Z",
     "start_time": "2021-01-10T12:17:07.072808Z"
    }
   },
   "outputs": [],
   "source": [
    "#dw[\"RIAGENDR\"] = dw.RIAGENDR.replace({1: \"Male\", 2: \"Female\"})\n",
    "#dw"
   ]
  },
  {
   "cell_type": "code",
   "execution_count": 7,
   "metadata": {
    "ExecuteTime": {
     "end_time": "2021-01-10T12:17:09.028445Z",
     "start_time": "2021-01-10T12:17:09.024442Z"
    }
   },
   "outputs": [],
   "source": [
    "#dw[\"DMDMARTL\"] = dw.DMDMARTL.replace({1: \"Married\", 2: \"Not\", 3: \"Not\", 4: \"Not\", 5: \"Not\", 6: \"Not\", 77: np.nan, 99: np.nan})"
   ]
  },
  {
   "cell_type": "code",
   "execution_count": 8,
   "metadata": {
    "ExecuteTime": {
     "end_time": "2021-01-10T12:17:10.889836Z",
     "start_time": "2021-01-10T12:17:10.886817Z"
    }
   },
   "outputs": [],
   "source": [
    "#dw[\"DMDEDUC2\"] = dw.DMDEDUC2.replace({1: \"No\", 2: \"No\", 3: \"No\", 4: \"Graduated\", 5: \"Graduated\",  7: np.nan, 9: np.nan})\n",
    "#dw"
   ]
  },
  {
   "cell_type": "code",
   "execution_count": 9,
   "metadata": {
    "ExecuteTime": {
     "end_time": "2021-01-10T12:17:13.622439Z",
     "start_time": "2021-01-10T12:17:13.620435Z"
    }
   },
   "outputs": [],
   "source": [
    "#dw = dw[[\"RIAGENDR\", \"DMDMARTL\", \"DMDEDUC2\"]].dropna()\n",
    "#dw"
   ]
  },
  {
   "cell_type": "code",
   "execution_count": 10,
   "metadata": {
    "ExecuteTime": {
     "end_time": "2021-01-10T12:17:15.473049Z",
     "start_time": "2021-01-10T12:17:15.470077Z"
    }
   },
   "outputs": [],
   "source": [
    "#dx = dw[[\"DMDMARTL\", \"DMDEDUC2\"]].dropna()\n",
    "#dx"
   ]
  },
  {
   "cell_type": "code",
   "execution_count": 11,
   "metadata": {
    "ExecuteTime": {
     "end_time": "2021-01-10T12:17:17.150681Z",
     "start_time": "2021-01-10T12:17:17.147664Z"
    }
   },
   "outputs": [],
   "source": [
    "#de = dw.groupby(dw.DMDEDUC2).agg({\"DMDEDUC2\": [lambda x: np.mean(x==\"Graduated\"), np.size]})\n",
    "#de"
   ]
  },
  {
   "cell_type": "code",
   "execution_count": 12,
   "metadata": {
    "ExecuteTime": {
     "end_time": "2021-01-10T12:17:19.606118Z",
     "start_time": "2021-01-10T12:17:19.603098Z"
    }
   },
   "outputs": [],
   "source": [
    "#sm.stats.proportion_confint(437, 437+261)"
   ]
  },
  {
   "cell_type": "code",
   "execution_count": 13,
   "metadata": {
    "ExecuteTime": {
     "end_time": "2021-01-10T12:17:21.444957Z",
     "start_time": "2021-01-10T12:17:21.441963Z"
    }
   },
   "outputs": [],
   "source": [
    "#dm = dw.groupby(dw.DMDMARTL).agg({\"DMDMARTL\": [lambda x: np.mean(x==\"Married\"), np.size]})\n",
    "#dm"
   ]
  },
  {
   "cell_type": "code",
   "execution_count": 14,
   "metadata": {
    "ExecuteTime": {
     "end_time": "2021-01-10T12:17:24.053058Z",
     "start_time": "2021-01-10T12:17:24.049069Z"
    }
   },
   "outputs": [],
   "source": [
    "#sm.stats.proportion_confint(392, 392+306)"
   ]
  },
  {
   "cell_type": "markdown",
   "metadata": {},
   "source": [
    "__Q1a.__ Identify which of the two confidence intervals is wider, and explain why this is the case. "
   ]
  },
  {
   "cell_type": "markdown",
   "metadata": {},
   "source": []
  },
  {
   "cell_type": "markdown",
   "metadata": {},
   "source": [
    "__Q1b.__ Write 1-2 sentences summarizing these findings for an audience that does not know what a confidence interval is (the goal here is to report the substance of what you learned about how marital status and educational attainment are related, not to teach a person what a confidence interval is)."
   ]
  },
  {
   "cell_type": "markdown",
   "metadata": {},
   "source": []
  },
  {
   "cell_type": "markdown",
   "metadata": {},
   "source": [
    "## Question 2\n",
    "\n",
    "Construct 95% confidence intervals for the proportion of smokers who are female, and for the proportion of smokers who are male.  Then construct a 95% confidence interval for the difference between these proportions."
   ]
  },
  {
   "cell_type": "code",
   "execution_count": null,
   "metadata": {},
   "outputs": [],
   "source": [
    "# enter your code here"
   ]
  },
  {
   "cell_type": "markdown",
   "metadata": {},
   "source": [
    "__Q2a.__ Discuss why it may be relevant to report the proportions of smokers who are female and male, and contrast this to reporting the proportions of males and females who smoke."
   ]
  },
  {
   "cell_type": "markdown",
   "metadata": {},
   "source": []
  },
  {
   "cell_type": "markdown",
   "metadata": {},
   "source": [
    "__Q2b.__ How does the width of the confidence interval for the difference of the two proportions compare to the widths of the confidence intervals for each proportion separately?"
   ]
  },
  {
   "cell_type": "markdown",
   "metadata": {},
   "source": []
  },
  {
   "cell_type": "markdown",
   "metadata": {},
   "source": [
    "## Question 3\n",
    "\n",
    "Construct a 95% interval for height ([BMXHT](https://wwwn.cdc.gov/Nchs/Nhanes/2015-2016/BMX_I.htm#BMXHT)) in centimeters.  Then convert height from centimeters to inches by dividing by 2.54, and construct a 95% confidence interval for height in inches.  Finally, convert the endpoints (the lower and upper confidence limits) of the confidence interval from inches to back to centimeters   "
   ]
  },
  {
   "cell_type": "code",
   "execution_count": null,
   "metadata": {},
   "outputs": [],
   "source": [
    "# enter your code here"
   ]
  },
  {
   "cell_type": "markdown",
   "metadata": {},
   "source": [
    "__Q3a.__ Describe how the confidence interval constructed in centimeters relates to the confidence interval constructed in inches."
   ]
  },
  {
   "cell_type": "markdown",
   "metadata": {},
   "source": []
  },
  {
   "cell_type": "markdown",
   "metadata": {},
   "source": [
    "## Question 4\n",
    "\n",
    "Partition the sample based on 10-year age bands, i.e. the resulting groups will consist of people with ages from 18-28, 29-38, etc. Construct 95% confidence intervals for the difference between the mean BMI for females and for males within each age band."
   ]
  },
  {
   "cell_type": "code",
   "execution_count": null,
   "metadata": {},
   "outputs": [],
   "source": [
    "# enter your code here"
   ]
  },
  {
   "cell_type": "markdown",
   "metadata": {},
   "source": [
    "__Q4a.__ How do the widths of these confidence intervals differ?  Provide an explanation for any substantial diferences in the confidence interval widths that you see."
   ]
  },
  {
   "cell_type": "markdown",
   "metadata": {},
   "source": []
  },
  {
   "cell_type": "markdown",
   "metadata": {},
   "source": [
    "## Question 5\n",
    "\n",
    "Construct a 95% confidence interval for the first and second systolic blood pressure measures, and for the difference between the first and second systolic blood pressure measurements within a subject."
   ]
  },
  {
   "cell_type": "code",
   "execution_count": null,
   "metadata": {},
   "outputs": [],
   "source": [
    "# enter code here"
   ]
  },
  {
   "cell_type": "markdown",
   "metadata": {},
   "source": [
    "__Q5a.__ Based on these confidence intervals, would you say that a difference of zero between the population mean values of the first and second systolic blood pressure measures is consistent with the data?"
   ]
  },
  {
   "cell_type": "markdown",
   "metadata": {},
   "source": []
  },
  {
   "cell_type": "markdown",
   "metadata": {},
   "source": [
    "\n",
    "__Q5b.__ Discuss how the width of the confidence interval for the within-subject difference compares to the widths of the confidence intervals for the first and second measures."
   ]
  },
  {
   "cell_type": "markdown",
   "metadata": {},
   "source": []
  },
  {
   "cell_type": "markdown",
   "metadata": {},
   "source": [
    "## Question 6\n",
    "\n",
    "Construct a 95% confidence interval for the mean difference between the average age of a smoker, and the average age of a non-smoker."
   ]
  },
  {
   "cell_type": "code",
   "execution_count": null,
   "metadata": {},
   "outputs": [],
   "source": [
    "# insert your code here"
   ]
  },
  {
   "cell_type": "markdown",
   "metadata": {},
   "source": [
    "__Q6a.__ Use graphical and numerical techniques to compare the variation in the ages of smokers to the variation in the ages of non-smokers.  "
   ]
  },
  {
   "cell_type": "code",
   "execution_count": 1,
   "metadata": {},
   "outputs": [],
   "source": [
    "# insert your code here"
   ]
  },
  {
   "cell_type": "markdown",
   "metadata": {},
   "source": [
    "__Q6b.__ Does it appear that uncertainty about the mean age of smokers, or uncertainty about the mean age of non-smokers contributed more to the uncertainty for the mean difference that we are focusing on here?"
   ]
  },
  {
   "cell_type": "markdown",
   "metadata": {},
   "source": []
  }
 ],
 "metadata": {
  "kernelspec": {
   "display_name": "Python 3",
   "language": "python",
   "name": "python3"
  },
  "language_info": {
   "codemirror_mode": {
    "name": "ipython",
    "version": 3
   },
   "file_extension": ".py",
   "mimetype": "text/x-python",
   "name": "python",
   "nbconvert_exporter": "python",
   "pygments_lexer": "ipython3",
   "version": "3.8.5"
  }
 },
 "nbformat": 4,
 "nbformat_minor": 2
}
