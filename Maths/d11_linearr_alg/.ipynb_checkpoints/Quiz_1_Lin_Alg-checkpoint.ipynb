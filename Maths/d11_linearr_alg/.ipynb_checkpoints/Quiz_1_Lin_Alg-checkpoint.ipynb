{
 "cells": [
  {
   "cell_type": "markdown",
   "metadata": {},
   "source": [
    "## Linear Algebra Quiz #1\n",
    "\n",
    "![title](./img/1_0.jpeg)\n",
    "\n",
    "We strongly suggest working with numpy :)"
   ]
  },
  {
   "cell_type": "code",
   "execution_count": 14,
   "metadata": {
    "ExecuteTime": {
     "end_time": "2020-12-20T18:02:12.704868Z",
     "start_time": "2020-12-20T18:02:12.591752Z"
    }
   },
   "outputs": [],
   "source": [
    "#Do your imports here\n",
    "import numpy as np"
   ]
  },
  {
   "cell_type": "markdown",
   "metadata": {},
   "source": [
    "![title](./img/1_1.png)"
   ]
  },
  {
   "cell_type": "code",
   "execution_count": 2,
   "metadata": {
    "ExecuteTime": {
     "end_time": "2020-12-16T13:56:40.302202Z",
     "start_time": "2020-12-16T13:56:40.287243Z"
    }
   },
   "outputs": [
    {
     "name": "stdout",
     "output_type": "stream",
     "text": [
      "3.7416573867739413\n"
     ]
    }
   ],
   "source": [
    "# type a function that given a 3_dimensional vector it is able to calculate its magnitude\n",
    "\n",
    "#\n",
    "\n",
    "\n",
    "# type a function that given a n_dimensional vector it is able to calculate its magnitude\n",
    "# if you want to try this from python (not jupyter notebook) https://docs.python.org/3/library/argparse.html would be a good addition\n",
    "# if you are doing this from a jupyter notebook only, you can try to promt the user for an input  \n",
    "\n",
    "\n",
    "def magnitude_3(a):\n",
    "\n",
    "    #result = 0\n",
    "    #for i in a:\n",
    "        #result += i**2\n",
    "\n",
    "    #print(vect)\n",
    "    magn = np.sqrt(np.sum(np.power(a,2)))\n",
    "    #magn = np.sqrt(result)\n",
    "\n",
    "\n",
    "    print(magn)\n",
    "\n",
    "\n",
    "magnitude_3([1,2,3])"
   ]
  },
  {
   "cell_type": "markdown",
   "metadata": {},
   "source": [
    "uncomment the following line when you are ready to test"
   ]
  },
  {
   "cell_type": "code",
   "execution_count": null,
   "metadata": {},
   "outputs": [],
   "source": [
    "#magnitude_complete(1) == 1.0\n",
    "#magnitude_complete(1,2) >= 2.236\n",
    "#magnitude_complete(1,2,3) >= 3.741\n",
    "#magnitude_complete(1,2,3,4,5) >= 5.477\n",
    "#magnitude_complete(1,2,3,4,5) >= 7.416"
   ]
  },
  {
   "cell_type": "markdown",
   "metadata": {},
   "source": [
    "![title](./img/1_2.png)"
   ]
  },
  {
   "cell_type": "code",
   "execution_count": 11,
   "metadata": {
    "ExecuteTime": {
     "end_time": "2020-12-16T15:10:54.910522Z",
     "start_time": "2020-12-16T15:10:54.904539Z"
    }
   },
   "outputs": [
    {
     "name": "stdout",
     "output_type": "stream",
     "text": [
      "1.0\n",
      "[1 0]\n"
     ]
    }
   ],
   "source": [
    "#def magnitude_vectors(a, b):\n",
    "a = np.array([5, 1])\n",
    "b = np.array([-4, -1])\n",
    "\n",
    "#magnitude = each vector on the power of 2 added together and the remaining amount is under square root\n",
    "\n",
    "add = np.add(a,b)\n",
    "\n",
    "#print(add)\n",
    "\n",
    "power = np.power(add, 2)\n",
    "\n",
    "nsum = np.sum(power)\n",
    "\n",
    "#print(power)\n",
    "\n",
    "mag = np.sqrt(nsum)\n",
    "\n",
    "print(mag) #magnitude\n",
    "\n",
    "print(np.add(a, b)) #direction\n"
   ]
  },
  {
   "cell_type": "markdown",
   "metadata": {},
   "source": [
    "![title](./img/1_3.png)"
   ]
  },
  {
   "cell_type": "code",
   "execution_count": 9,
   "metadata": {
    "ExecuteTime": {
     "end_time": "2020-12-20T18:00:27.200425Z",
     "start_time": "2020-12-20T18:00:27.196462Z"
    }
   },
   "outputs": [],
   "source": [
    "def direction_vectors(a, b):\n",
    "    \n",
    "    a_size = a.size\n",
    "    b_size = b.size\n",
    "    \n",
    "    try:\n",
    "        #checks that size is equal\n",
    "        a_size == b_size\n",
    "    \n",
    "        #returns the direction\n",
    "        a_b_sum = a + b\n",
    "        \n",
    "        return a_b_sum\n",
    "    \n",
    "    except:\n",
    "        print('Vectors are different dimensions {} and {}'.format(a_size, b_size))"
   ]
  },
  {
   "cell_type": "code",
   "execution_count": 20,
   "metadata": {
    "ExecuteTime": {
     "end_time": "2020-12-20T18:04:44.246712Z",
     "start_time": "2020-12-20T18:04:44.239731Z"
    }
   },
   "outputs": [
    {
     "data": {
      "text/plain": [
       "array([ 4, -1])"
      ]
     },
     "execution_count": 20,
     "metadata": {},
     "output_type": "execute_result"
    }
   ],
   "source": [
    "a = np.array([6, 1])\n",
    "b = np.array([-2,-2])\n",
    "\n",
    "direction_vectors(a, b)"
   ]
  },
  {
   "cell_type": "code",
   "execution_count": 16,
   "metadata": {
    "ExecuteTime": {
     "end_time": "2020-12-20T18:04:13.840358Z",
     "start_time": "2020-12-20T18:04:13.835370Z"
    }
   },
   "outputs": [],
   "source": [
    "# or if you want to do it all in one batch:\n",
    "def magdir_vectors(a, b):\n",
    "    #checks that size is equal\n",
    "    \n",
    "    #returns the magnitude and direction in a nicely printed format \n",
    "    #\"The magnitude of a + b is X and the direction is Y\"\n",
    "    \n",
    "    a_size = a.size\n",
    "    b_size = b.size\n",
    "    \n",
    "    try:\n",
    "        #check vectors are of same size\n",
    "        a_size == b_size\n",
    "        \n",
    "        #calculate direction\n",
    "        a_b_sum = a + b\n",
    "        \n",
    "        #calcualte magnitude of resulant direction vector\n",
    "        magnitude = np.linalg.norm(a_b_sum)\n",
    "        \n",
    "        print('The magnitude of a+b is {} and the direction is {}'.format(magnitude, a_b_sum))\n",
    "    \n",
    "    except:\n",
    "        print('Vectors are different dimensions {} and {}'.format(a_size, b_size))"
   ]
  },
  {
   "cell_type": "code",
   "execution_count": 21,
   "metadata": {
    "ExecuteTime": {
     "end_time": "2020-12-20T18:04:47.419102Z",
     "start_time": "2020-12-20T18:04:47.415113Z"
    }
   },
   "outputs": [
    {
     "name": "stdout",
     "output_type": "stream",
     "text": [
      "The magnitude of a+b is 4.123105625617661 and the direction is [ 4 -1]\n"
     ]
    }
   ],
   "source": [
    "magdir_vectors(a, b)"
   ]
  },
  {
   "cell_type": "markdown",
   "metadata": {},
   "source": [
    "![title](./img/1_4.png)\n",
    "- What is the magnitude of αx⃗? \n",
    "- If α>0, will the direction of the resulting vector change?\n",
    "- If α<0, will the direction of the resulting vector change?\n",
    "- If −1<α<1, will ∥αx⃗∥  increase, decrease or stay the same?"
   ]
  },
  {
   "cell_type": "code",
   "execution_count": 19,
   "metadata": {
    "ExecuteTime": {
     "end_time": "2020-12-16T15:32:53.384727Z",
     "start_time": "2020-12-16T15:32:53.377734Z"
    }
   },
   "outputs": [
    {
     "name": "stdout",
     "output_type": "stream",
     "text": [
      "The direction has changed 180 degrees\n"
     ]
    },
    {
     "data": {
      "text/plain": [
       "(array([-7, -7]), 9.899494936611665)"
      ]
     },
     "execution_count": 19,
     "metadata": {},
     "output_type": "execute_result"
    }
   ],
   "source": [
    "def alpha_magnitude(alpha, b):\n",
    "    \n",
    "    #returns the resulting magnitude, if the direction has changed and what has happened to the vector\n",
    "    \n",
    "    b = np.array(b)\n",
    "    vector = alpha * b\n",
    "    if np.sign(b[0]) == np.sign(vector[0]):\n",
    "        print('No directional change')\n",
    "    else:\n",
    "        print('The direction has changed 180 degrees')\n",
    "    return (vector, np.linalg.norm(vector))\n",
    "\n",
    "alpha_magnitude(-7, [1,1])"
   ]
  },
  {
   "cell_type": "code",
   "execution_count": null,
   "metadata": {},
   "outputs": [],
   "source": []
  }
 ],
 "metadata": {
  "kernelspec": {
   "display_name": "Python 3",
   "language": "python",
   "name": "python3"
  },
  "language_info": {
   "codemirror_mode": {
    "name": "ipython",
    "version": 3
   },
   "file_extension": ".py",
   "mimetype": "text/x-python",
   "name": "python",
   "nbconvert_exporter": "python",
   "pygments_lexer": "ipython3",
   "version": "3.8.5"
  }
 },
 "nbformat": 4,
 "nbformat_minor": 2
}
