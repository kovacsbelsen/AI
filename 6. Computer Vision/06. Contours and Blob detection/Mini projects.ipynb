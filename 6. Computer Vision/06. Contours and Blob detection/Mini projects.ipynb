{
 "cells": [
  {
   "cell_type": "markdown",
   "metadata": {},
   "source": [
    "# Mini projects\n",
    "\n",
    "You can do the projects in any order, just choose the ones that you like the most"
   ]
  },
  {
   "cell_type": "markdown",
   "metadata": {
    "heading_collapsed": true
   },
   "source": [
    "### Book cover extractor"
   ]
  },
  {
   "cell_type": "markdown",
   "metadata": {
    "hidden": true
   },
   "source": [
    "1. From a given picture detect the book on the image and draw a box around it\n",
    "1. Crop the book from the picture\n",
    "1. If there is more than a book in the image make sure all books are extracted\n",
    "1. Transform the book perspective to show it as a 2D image (to see the proper book cover)"
   ]
  },
  {
   "cell_type": "markdown",
   "metadata": {
    "heading_collapsed": true
   },
   "source": [
    "### Identify shapes"
   ]
  },
  {
   "cell_type": "markdown",
   "metadata": {
    "hidden": true
   },
   "source": [
    "1. Make a function that given an image with different types of regular shapes (triangles, squares, rectangles, circles, penthagons, exagons etc) it can detect and __draw a blue contour around the triangles__ \n",
    "2. Extend the function so it draws a green contour around the penthagons\n",
    "3. Now we also need to detect rectangles, make sure squares are not being confused by rectangles\n",
    "4. Make sure only the external contours are drawn on the shapes\n",
    "5. Add the name of the shape on top of each image\n",
    "6. Only draw the contour around the biggest shape of each type"
   ]
  },
  {
   "cell_type": "markdown",
   "metadata": {
    "heading_collapsed": true
   },
   "source": [
    "### Coins  counter"
   ]
  },
  {
   "cell_type": "markdown",
   "metadata": {
    "hidden": true
   },
   "source": [
    "1. Create a function that can detect coins and draw  controur around them\n",
    "2. Count how may coins there are in the image and put it in text on top of the image\n",
    "3. Crop each coin and save the images on disk, display them on screen, the cropped coin should not have the contour on it\n",
    "4. Train a image classifier to detect which coins are on the image\n",
    "5. Put it all together and from the picture of some coins give the total amount of money \n",
    " "
   ]
  },
  {
   "cell_type": "markdown",
   "metadata": {},
   "source": [
    "### Sudoku Solver"
   ]
  },
  {
   "cell_type": "markdown",
   "metadata": {},
   "source": [
    "1. Create function that given an image of a Sudoku game crops and extracts each cell \n",
    "1. Extract the number from each cropped cell (if blank extract it as 0)\n",
    "1. Place the extracted numbers in an array (each block of 9 numbers is one array)\n",
    "1. Apply the sudoku solver to the array to get the solution\n",
    "1. Write the solution numbers in the cells"
   ]
  }
 ],
 "metadata": {
  "kernelspec": {
   "display_name": "Python 3",
   "language": "python",
   "name": "python3"
  },
  "language_info": {
   "codemirror_mode": {
    "name": "ipython",
    "version": 3
   },
   "file_extension": ".py",
   "mimetype": "text/x-python",
   "name": "python",
   "nbconvert_exporter": "python",
   "pygments_lexer": "ipython3",
   "version": "3.8.2"
  }
 },
 "nbformat": 4,
 "nbformat_minor": 2
}
