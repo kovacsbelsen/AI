{
 "cells": [
  {
   "cell_type": "markdown",
   "metadata": {},
   "source": [
    "Here you have a collection of guided exercises for the first class on Python. <br>\n",
    "The exercises are divided by topic, following the topics reviewed during the theory session, and for each topic you have some mandatory exercises, and other optional exercises, which you are invited to do if you still have time after the mandatory exercises. <br>\n",
    "\n",
    "Remember that you have 5 hours to solve these exercises, after which we will review the most interesting exercises together. If you don't finish all the exercises, you can work on them tonightor tomorrow. \n",
    "\n",
    "At the end of the class, we will upload the code with the solutions of the exercises so that you can review them again if needed. If you still have not finished some exercises, try to do them first by yourself, before taking a look at the solutions: you are doing these exercises for yourself, so it is always the best to do them your way first, as it is the fastest way to learn!"
   ]
  },
  {
   "cell_type": "markdown",
   "metadata": {},
   "source": [
    "**Exercise 4.1 (🌶️🌶️):** Define a function that receives a string parameter, and returns an integer indicating the count for all the letters of the alphabet that there are in the string. The expected output format is in a **dictionary** with the relevant keys and values. The capital version of a lower case letter is considered to be the same letter.\n",
    "\n",
    "This should sound quite familiar, try to do it without looking at your old code ;)\n",
    "\n",
    "**What is the challenge?**: Don't code 27 times the same line of code, learn how to do things that scale well."
   ]
  },
  {
   "cell_type": "code",
   "execution_count": 8,
   "metadata": {
    "ExecuteTime": {
     "end_time": "2020-12-06T14:33:45.451566Z",
     "start_time": "2020-12-06T14:33:45.445611Z"
    }
   },
   "outputs": [
    {
     "name": "stdout",
     "output_type": "stream",
     "text": [
      "Counter({'e': 12, 't': 10, 's': 9, 'o': 9, 'r': 5, 'm': 5, 'h': 4, 'i': 4, 'n': 4, 'l': 3, 'a': 2, 'd': 2, 'w': 2, 'f': 1, 'x': 1, 'p': 1, 'g': 1, 'c': 1, 'y': 1, 'b': 1})\n"
     ]
    }
   ],
   "source": [
    "#logic: \n",
    "#1. input from user, \n",
    "#2. lower the input letters, \n",
    "#3. add a dictionary, \n",
    "#4. check each letter against the alphabet, \n",
    "#5. add each occurence to the integer, 6 print\n",
    "\n",
    "from collections import Counter\n",
    "import re\n",
    "\n",
    "text = \"Here is some sort of example string to test the code with, with some random!!! ?? : none letter sysmbols 09\"\n",
    "text = text.lower()\n",
    "abc = re.sub(\"[^A-Za-z]\", \"\", text)\n",
    "#print(text)\n",
    "print(Counter(abc))\n"
   ]
  },
  {
   "cell_type": "markdown",
   "metadata": {},
   "source": [
    "**Exercise 5.6 (🌶️🌶️):** A prime number is a positive integer that is dividable by exactly two different numbers, namely 1 and itself. The lowest (and only even) prime number is 2. The first 10 prime numbers are 2, 3, 5, 7, 11, 13, 17, 19, 23, and 29. Write a function that returns a **list off all prime numbers** below a given number.\n",
    "\n",
    "Hint: In a loop where you test the possible dividers of the number, you can conclude that the number is not prime as soon as you encounter a number other than 1 or the number itself that divides it. However, you can *only* conclude that it actually *is* prime after you have tested all possible dividers.\n",
    "\n",
    "**What is the challenge here? You have to try to optimize your code and try to make it work for the highest prime number you can encounter before you run out of memory. For low numbers you should know how to do it already**"
   ]
  },
  {
   "cell_type": "code",
   "execution_count": 3,
   "metadata": {
    "ExecuteTime": {
     "end_time": "2020-12-02T15:40:55.372382Z",
     "start_time": "2020-12-02T15:40:55.364402Z"
    }
   },
   "outputs": [
    {
     "name": "stdout",
     "output_type": "stream",
     "text": [
      "2\n",
      "3\n",
      "5\n",
      "7\n",
      "11\n",
      "13\n",
      "17\n",
      "19\n",
      "23\n",
      "29\n",
      "31\n",
      "37\n",
      "41\n",
      "43\n",
      "47\n"
     ]
    }
   ],
   "source": [
    "number = 2\n",
    "maxnumber = 50\n",
    "                                                       \n",
    "for num in range(number, maxnumber + 1):\n",
    "   # all prime numbers are greater than 1\n",
    "   if num > 1:\n",
    "       for i in range(2, num):\n",
    "           if (num % i) == 0:\n",
    "               break\n",
    "       else:\n",
    "           print(num)\n"
   ]
  },
  {
   "cell_type": "markdown",
   "metadata": {},
   "source": [
    "**Exercise 5.7 (🌶️🌶️):** Write a function that prints all integers between the parameters `a` and `b` that can be written as the sum of two squares. Produce output in the form of `z = x**2 + y**2`, e.g., `58 = 3**2 + 7**2`. If a number occurs on the list with multiple *different* ways of writing it as the sum of two squares, that is acceptable. "
   ]
  },
  {
   "cell_type": "code",
   "execution_count": 37,
   "metadata": {
    "ExecuteTime": {
     "end_time": "2020-12-06T16:25:19.875738Z",
     "start_time": "2020-12-06T16:25:19.847782Z"
    }
   },
   "outputs": [
    {
     "name": "stdout",
     "output_type": "stream",
     "text": [
      "2  =  1 ** 2  +  1 ** 2\n",
      "4  =  0 ** 2  +  2 ** 2\n",
      "4  =  2 ** 2  +  0 ** 2\n",
      "5  =  1 ** 2  +  2 ** 2\n",
      "5  =  2 ** 2  +  1 ** 2\n",
      "8  =  2 ** 2  +  2 ** 2\n",
      "9  =  0 ** 2  +  3 ** 2\n",
      "9  =  3 ** 2  +  0 ** 2\n",
      "10  =  1 ** 2  +  3 ** 2\n",
      "10  =  3 ** 2  +  1 ** 2\n",
      "13  =  2 ** 2  +  3 ** 2\n",
      "13  =  3 ** 2  +  2 ** 2\n",
      "16  =  0 ** 2  +  4 ** 2\n",
      "16  =  4 ** 2  +  0 ** 2\n",
      "17  =  1 ** 2  +  4 ** 2\n",
      "17  =  4 ** 2  +  1 ** 2\n",
      "18  =  3 ** 2  +  3 ** 2\n"
     ]
    }
   ],
   "source": [
    "def SumOfTwoSquares(a,b):\n",
    "    \"\"\"\n",
    "    2 = 1**2 + 1**2\n",
    "    4 = 0**2 + 2**2\n",
    "    4 = 2**2 + 0**2\n",
    "    5 = 1**2 + 2**2\n",
    "    5 = 2**2 + 1**2\n",
    "    8 = 2**2 + 2**2\n",
    "    9 = 0**2 + 3**2\n",
    "    9 = 3**2 + 0**2\n",
    "    \"\"\"\n",
    "    for result in range(a,b): \n",
    "        for num1 in range(b):\n",
    "            for num2 in range(b):\n",
    "                if (num1**2 + num2**2) == result:\n",
    "                    print(result, \" = \", num1, \"** 2\" , \" + \", num2, \"** 2\")\n",
    "\n",
    "SumOfTwoSquares(2, 20)"
   ]
  },
  {
   "cell_type": "code",
   "execution_count": null,
   "metadata": {},
   "outputs": [],
   "source": []
  }
 ],
 "metadata": {
  "kernelspec": {
   "display_name": "Python 3",
   "language": "python",
   "name": "python3"
  },
  "language_info": {
   "codemirror_mode": {
    "name": "ipython",
    "version": 3
   },
   "file_extension": ".py",
   "mimetype": "text/x-python",
   "name": "python",
   "nbconvert_exporter": "python",
   "pygments_lexer": "ipython3",
   "version": "3.8.5"
  }
 },
 "nbformat": 4,
 "nbformat_minor": 4
}
