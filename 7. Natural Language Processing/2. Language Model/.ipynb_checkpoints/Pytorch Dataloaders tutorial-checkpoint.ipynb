{
 "cells": [
  {
   "cell_type": "code",
   "execution_count": 8,
   "metadata": {},
   "outputs": [
    {
     "name": "stdout",
     "output_type": "stream",
     "text": [
      "xs values:  [0, 1, 2, 3, 4, 5, 6, 7, 8, 9]\n",
      "ys values:  [10, 11, 12, 13, 14, 15, 16, 17, 18, 19]\n"
     ]
    },
    {
     "data": {
      "text/plain": [
       "10"
      ]
     },
     "execution_count": 8,
     "metadata": {},
     "output_type": "execute_result"
    }
   ],
   "source": [
    "xs = list(range(10))\n",
    "ys = list(range(10,20))\n",
    "print('xs values: ', xs)\n",
    "print('ys values: ', ys)\n",
    "\n",
    "dataset = list(zip(xs,ys))\n",
    "dataset[0] # returns the tuple (x[0], y[0])\n",
    "\n",
    "len(dataset)"
   ]
  },
  {
   "cell_type": "code",
   "execution_count": 12,
   "metadata": {},
   "outputs": [
    {
     "data": {
      "text/plain": [
       "10"
      ]
     },
     "execution_count": 12,
     "metadata": {},
     "output_type": "execute_result"
    }
   ],
   "source": [
    "#collapse-show\n",
    "\n",
    "class MyDataset:\n",
    "    def __init__(self, xs, ys):\n",
    "        self.xs = xs\n",
    "        self.ys = ys\n",
    "    \n",
    "    def __getitem__(self, i):\n",
    "        return self.xs[i], self.ys[i]\n",
    "    \n",
    "    def __len__(self):\n",
    "        return len(self.xs)\n",
    "dataset = MyDataset(xs, ys)\n",
    "dataset[2] # returns the tuple (x[2], y[2])\n",
    "\n",
    "len(dataset)"
   ]
  },
  {
   "cell_type": "code",
   "execution_count": 13,
   "metadata": {},
   "outputs": [
    {
     "name": "stdout",
     "output_type": "stream",
     "text": [
      "tensor([0]) tensor([10])\n",
      "tensor([1]) tensor([11])\n",
      "tensor([2]) tensor([12])\n",
      "tensor([3]) tensor([13])\n",
      "tensor([4]) tensor([14])\n",
      "tensor([5]) tensor([15])\n",
      "tensor([6]) tensor([16])\n",
      "tensor([7]) tensor([17])\n",
      "tensor([8]) tensor([18])\n",
      "tensor([9]) tensor([19])\n"
     ]
    }
   ],
   "source": [
    "\n",
    "from torch.utils.data import DataLoader\n",
    "\n",
    "for x, y in DataLoader(dataset):\n",
    "    print(x,y)"
   ]
  },
  {
   "cell_type": "code",
   "execution_count": 14,
   "metadata": {},
   "outputs": [
    {
     "name": "stdout",
     "output_type": "stream",
     "text": [
      "tensor([0, 1]) tensor([10, 11])\n",
      "tensor([2, 3]) tensor([12, 13])\n",
      "tensor([4, 5]) tensor([14, 15])\n",
      "tensor([6, 7]) tensor([16, 17])\n",
      "tensor([8, 9]) tensor([18, 19])\n"
     ]
    }
   ],
   "source": [
    "for x, y in DataLoader(dataset, batch_size=2):\n",
    "    print(x,y)"
   ]
  },
  {
   "cell_type": "code",
   "execution_count": 15,
   "metadata": {},
   "outputs": [
    {
     "name": "stdout",
     "output_type": "stream",
     "text": [
      "tensor([7, 9]) tensor([17, 19])\n",
      "tensor([5, 2]) tensor([15, 12])\n",
      "tensor([8, 4]) tensor([18, 14])\n",
      "tensor([1, 3]) tensor([11, 13])\n",
      "tensor([0, 6]) tensor([10, 16])\n"
     ]
    }
   ],
   "source": [
    "\n",
    "for x, y in DataLoader(dataset, batch_size=2, shuffle=True):\n",
    "    print(x,y)"
   ]
  },
  {
   "cell_type": "code",
   "execution_count": 16,
   "metadata": {},
   "outputs": [],
   "source": [
    "default_sampler = DataLoader(dataset).sampler"
   ]
  },
  {
   "cell_type": "code",
   "execution_count": 17,
   "metadata": {},
   "outputs": [
    {
     "name": "stdout",
     "output_type": "stream",
     "text": [
      "0\n",
      "1\n",
      "2\n",
      "3\n",
      "4\n",
      "5\n",
      "6\n",
      "7\n",
      "8\n",
      "9\n"
     ]
    }
   ],
   "source": [
    "\n",
    "for i in default_sampler:\n",
    "    # iterating over the SequentialSampler\n",
    "    print(i)"
   ]
  },
  {
   "cell_type": "code",
   "execution_count": 18,
   "metadata": {},
   "outputs": [
    {
     "data": {
      "text/plain": [
       "torch.utils.data.sampler.SequentialSampler"
      ]
     },
     "execution_count": 18,
     "metadata": {},
     "output_type": "execute_result"
    }
   ],
   "source": [
    "\n",
    "type(default_sampler)"
   ]
  },
  {
   "cell_type": "code",
   "execution_count": 19,
   "metadata": {},
   "outputs": [
    {
     "name": "stdout",
     "output_type": "stream",
     "text": [
      "0\n",
      "1\n",
      "2\n",
      "3\n",
      "4\n",
      "5\n",
      "6\n",
      "7\n",
      "8\n",
      "9\n"
     ]
    }
   ],
   "source": [
    "from torch.utils.data.sampler import SequentialSampler\n",
    "\n",
    "sampler = SequentialSampler(dataset)\n",
    "\n",
    "for x in sampler:\n",
    "    print(x)"
   ]
  },
  {
   "cell_type": "code",
   "execution_count": 20,
   "metadata": {},
   "outputs": [
    {
     "name": "stdout",
     "output_type": "stream",
     "text": [
      "9\n",
      "6\n",
      "2\n",
      "5\n",
      "1\n",
      "4\n",
      "3\n",
      "8\n",
      "0\n",
      "7\n"
     ]
    }
   ],
   "source": [
    "random_sampler = DataLoader(dataset, shuffle=True).sampler\n",
    "for index in random_sampler:\n",
    "    print(index)"
   ]
  },
  {
   "cell_type": "code",
   "execution_count": 21,
   "metadata": {},
   "outputs": [
    {
     "data": {
      "text/plain": [
       "torch.utils.data.sampler.RandomSampler"
      ]
     },
     "execution_count": 21,
     "metadata": {},
     "output_type": "execute_result"
    }
   ],
   "source": [
    "type(random_sampler)"
   ]
  },
  {
   "cell_type": "code",
   "execution_count": 22,
   "metadata": {},
   "outputs": [
    {
     "name": "stdout",
     "output_type": "stream",
     "text": [
      "5\n",
      "8\n",
      "6\n",
      "1\n",
      "2\n",
      "7\n",
      "0\n",
      "4\n",
      "3\n",
      "9\n"
     ]
    }
   ],
   "source": [
    "\n",
    "from torch.utils.data.sampler import RandomSampler\n",
    "\n",
    "random_sampler = RandomSampler(dataset)\n",
    "\n",
    "for x in random_sampler:\n",
    "    print(x)"
   ]
  },
  {
   "cell_type": "code",
   "execution_count": 23,
   "metadata": {},
   "outputs": [
    {
     "name": "stdout",
     "output_type": "stream",
     "text": [
      "0\n",
      "6\n",
      "9\n",
      "3\n",
      "4\n",
      "5\n",
      "2\n",
      "1\n",
      "7\n",
      "8\n"
     ]
    }
   ],
   "source": [
    "dl = DataLoader(dataset, sampler=random_sampler)\n",
    "for i in dl.sampler:\n",
    "    print(i)"
   ]
  },
  {
   "cell_type": "code",
   "execution_count": 24,
   "metadata": {},
   "outputs": [],
   "source": [
    "\n",
    "#collapse-hide\n",
    "import random\n",
    "from torch.utils.data.sampler import Sampler\n",
    "\n",
    "class IndependentHalvesSampler(Sampler):\n",
    "    def __init__(self, dataset):\n",
    "        halfway_point = int(len(dataset)/2)\n",
    "        self.first_half_indices = list(range(halfway_point))\n",
    "        self.second_half_indices = list(range(halfway_point, len(dataset)))\n",
    "        \n",
    "    def __iter__(self):\n",
    "        random.shuffle(self.first_half_indices)\n",
    "        random.shuffle(self.second_half_indices)\n",
    "        return iter(self.first_half_indices + self.second_half_indices)\n",
    "    \n",
    "    def __len__(self):\n",
    "        return len(self.first_half_indices) + len(self.second_half_indices)"
   ]
  },
  {
   "cell_type": "code",
   "execution_count": 25,
   "metadata": {},
   "outputs": [
    {
     "name": "stdout",
     "output_type": "stream",
     "text": [
      "First half indices:  [0, 1, 2, 3, 4]\n",
      "Second half indices: [5, 6, 7, 8, 9]\n"
     ]
    }
   ],
   "source": [
    "our_sampler = IndependentHalvesSampler(dataset)\n",
    "print('First half indices: ', our_sampler.first_half_indices)\n",
    "print('Second half indices:', our_sampler.second_half_indices)"
   ]
  },
  {
   "cell_type": "code",
   "execution_count": 26,
   "metadata": {},
   "outputs": [
    {
     "name": "stdout",
     "output_type": "stream",
     "text": [
      "1\n",
      "3\n",
      "0\n",
      "4\n",
      "2\n",
      "5\n",
      "6\n",
      "8\n",
      "9\n",
      "7\n"
     ]
    }
   ],
   "source": [
    "\n",
    "for i in our_sampler:\n",
    "    print(i)"
   ]
  },
  {
   "cell_type": "code",
   "execution_count": 27,
   "metadata": {},
   "outputs": [
    {
     "name": "stdout",
     "output_type": "stream",
     "text": [
      "tensor([2]) tensor([12])\n",
      "tensor([0]) tensor([10])\n",
      "tensor([1]) tensor([11])\n",
      "tensor([4]) tensor([14])\n",
      "tensor([3]) tensor([13])\n",
      "tensor([6]) tensor([16])\n",
      "tensor([7]) tensor([17])\n",
      "tensor([5]) tensor([15])\n",
      "tensor([9]) tensor([19])\n",
      "tensor([8]) tensor([18])\n"
     ]
    }
   ],
   "source": [
    "\n",
    "dl = DataLoader(dataset, sampler=our_sampler)\n",
    "for xb, yb in dl:\n",
    "    print(xb, yb)"
   ]
  },
  {
   "cell_type": "code",
   "execution_count": null,
   "metadata": {},
   "outputs": [],
   "source": []
  }
 ],
 "metadata": {
  "kernelspec": {
   "display_name": "Python 3",
   "language": "python",
   "name": "python3"
  },
  "language_info": {
   "codemirror_mode": {
    "name": "ipython",
    "version": 3
   },
   "file_extension": ".py",
   "mimetype": "text/x-python",
   "name": "python",
   "nbconvert_exporter": "python",
   "pygments_lexer": "ipython3",
   "version": "3.8.5"
  }
 },
 "nbformat": 4,
 "nbformat_minor": 4
}
