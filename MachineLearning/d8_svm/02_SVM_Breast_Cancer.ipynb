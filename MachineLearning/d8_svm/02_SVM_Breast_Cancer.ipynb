{
 "cells": [
  {
   "cell_type": "markdown",
   "metadata": {},
   "source": [
    "***Support Vector Machines***\n",
    "    Using SVM with Python to predict whether a breast cancer tumor is malignant or benign. Exercise uses numpy, pandas, and scikitlearn and utilizes train test split, SVM, SVC,  and GridSearch to identify the best parameters for prediction."
   ]
  },
  {
   "cell_type": "code",
   "execution_count": 1,
   "metadata": {
    "ExecuteTime": {
     "end_time": "2021-01-28T13:16:12.614139Z",
     "start_time": "2021-01-28T13:16:11.315891Z"
    }
   },
   "outputs": [],
   "source": [
    "import pandas as pd\n",
    "import numpy as np\n",
    "import matplotlib.pyplot as plt\n",
    "import seaborn as sns\n",
    "%matplotlib inline"
   ]
  },
  {
   "cell_type": "code",
   "execution_count": 2,
   "metadata": {
    "ExecuteTime": {
     "end_time": "2021-01-28T13:16:13.212469Z",
     "start_time": "2021-01-28T13:16:12.616752Z"
    }
   },
   "outputs": [],
   "source": [
    "from sklearn.datasets import load_breast_cancer"
   ]
  },
  {
   "cell_type": "code",
   "execution_count": 3,
   "metadata": {
    "ExecuteTime": {
     "end_time": "2021-01-28T13:16:13.241289Z",
     "start_time": "2021-01-28T13:16:13.214157Z"
    }
   },
   "outputs": [],
   "source": [
    "cancer = load_breast_cancer()"
   ]
  },
  {
   "cell_type": "code",
   "execution_count": 4,
   "metadata": {
    "ExecuteTime": {
     "end_time": "2021-01-28T13:16:13.853200Z",
     "start_time": "2021-01-28T13:16:13.846207Z"
    }
   },
   "outputs": [
    {
     "data": {
      "text/plain": [
       "dict_keys(['data', 'target', 'frame', 'target_names', 'DESCR', 'feature_names', 'filename'])"
      ]
     },
     "execution_count": 4,
     "metadata": {},
     "output_type": "execute_result"
    }
   ],
   "source": [
    "cancer.keys()"
   ]
  },
  {
   "cell_type": "code",
   "execution_count": 5,
   "metadata": {
    "ExecuteTime": {
     "end_time": "2021-01-28T13:16:15.883842Z",
     "start_time": "2021-01-28T13:16:15.876861Z"
    }
   },
   "outputs": [
    {
     "name": "stdout",
     "output_type": "stream",
     "text": [
      ".. _breast_cancer_dataset:\n",
      "\n",
      "Breast cancer wisconsin (diagnostic) dataset\n",
      "--------------------------------------------\n",
      "\n",
      "**Data Set Characteristics:**\n",
      "\n",
      "    :Number of Instances: 569\n",
      "\n",
      "    :Number of Attributes: 30 numeric, predictive attributes and the class\n",
      "\n",
      "    :Attribute Information:\n",
      "        - radius (mean of distances from center to points on the perimeter)\n",
      "        - texture (standard deviation of gray-scale values)\n",
      "        - perimeter\n",
      "        - area\n",
      "        - smoothness (local variation in radius lengths)\n",
      "        - compactness (perimeter^2 / area - 1.0)\n",
      "        - concavity (severity of concave portions of the contour)\n",
      "        - concave points (number of concave portions of the contour)\n",
      "        - symmetry\n",
      "        - fractal dimension (\"coastline approximation\" - 1)\n",
      "\n",
      "        The mean, standard error, and \"worst\" or largest (mean of the three\n",
      "        worst/largest values) of these features were computed for each image,\n",
      "        resulting in 30 features.  For instance, field 0 is Mean Radius, field\n",
      "        10 is Radius SE, field 20 is Worst Radius.\n",
      "\n",
      "        - class:\n",
      "                - WDBC-Malignant\n",
      "                - WDBC-Benign\n",
      "\n",
      "    :Summary Statistics:\n",
      "\n",
      "    ===================================== ====== ======\n",
      "                                           Min    Max\n",
      "    ===================================== ====== ======\n",
      "    radius (mean):                        6.981  28.11\n",
      "    texture (mean):                       9.71   39.28\n",
      "    perimeter (mean):                     43.79  188.5\n",
      "    area (mean):                          143.5  2501.0\n",
      "    smoothness (mean):                    0.053  0.163\n",
      "    compactness (mean):                   0.019  0.345\n",
      "    concavity (mean):                     0.0    0.427\n",
      "    concave points (mean):                0.0    0.201\n",
      "    symmetry (mean):                      0.106  0.304\n",
      "    fractal dimension (mean):             0.05   0.097\n",
      "    radius (standard error):              0.112  2.873\n",
      "    texture (standard error):             0.36   4.885\n",
      "    perimeter (standard error):           0.757  21.98\n",
      "    area (standard error):                6.802  542.2\n",
      "    smoothness (standard error):          0.002  0.031\n",
      "    compactness (standard error):         0.002  0.135\n",
      "    concavity (standard error):           0.0    0.396\n",
      "    concave points (standard error):      0.0    0.053\n",
      "    symmetry (standard error):            0.008  0.079\n",
      "    fractal dimension (standard error):   0.001  0.03\n",
      "    radius (worst):                       7.93   36.04\n",
      "    texture (worst):                      12.02  49.54\n",
      "    perimeter (worst):                    50.41  251.2\n",
      "    area (worst):                         185.2  4254.0\n",
      "    smoothness (worst):                   0.071  0.223\n",
      "    compactness (worst):                  0.027  1.058\n",
      "    concavity (worst):                    0.0    1.252\n",
      "    concave points (worst):               0.0    0.291\n",
      "    symmetry (worst):                     0.156  0.664\n",
      "    fractal dimension (worst):            0.055  0.208\n",
      "    ===================================== ====== ======\n",
      "\n",
      "    :Missing Attribute Values: None\n",
      "\n",
      "    :Class Distribution: 212 - Malignant, 357 - Benign\n",
      "\n",
      "    :Creator:  Dr. William H. Wolberg, W. Nick Street, Olvi L. Mangasarian\n",
      "\n",
      "    :Donor: Nick Street\n",
      "\n",
      "    :Date: November, 1995\n",
      "\n",
      "This is a copy of UCI ML Breast Cancer Wisconsin (Diagnostic) datasets.\n",
      "https://goo.gl/U2Uwz2\n",
      "\n",
      "Features are computed from a digitized image of a fine needle\n",
      "aspirate (FNA) of a breast mass.  They describe\n",
      "characteristics of the cell nuclei present in the image.\n",
      "\n",
      "Separating plane described above was obtained using\n",
      "Multisurface Method-Tree (MSM-T) [K. P. Bennett, \"Decision Tree\n",
      "Construction Via Linear Programming.\" Proceedings of the 4th\n",
      "Midwest Artificial Intelligence and Cognitive Science Society,\n",
      "pp. 97-101, 1992], a classification method which uses linear\n",
      "programming to construct a decision tree.  Relevant features\n",
      "were selected using an exhaustive search in the space of 1-4\n",
      "features and 1-3 separating planes.\n",
      "\n",
      "The actual linear program used to obtain the separating plane\n",
      "in the 3-dimensional space is that described in:\n",
      "[K. P. Bennett and O. L. Mangasarian: \"Robust Linear\n",
      "Programming Discrimination of Two Linearly Inseparable Sets\",\n",
      "Optimization Methods and Software 1, 1992, 23-34].\n",
      "\n",
      "This database is also available through the UW CS ftp server:\n",
      "\n",
      "ftp ftp.cs.wisc.edu\n",
      "cd math-prog/cpo-dataset/machine-learn/WDBC/\n",
      "\n",
      ".. topic:: References\n",
      "\n",
      "   - W.N. Street, W.H. Wolberg and O.L. Mangasarian. Nuclear feature extraction \n",
      "     for breast tumor diagnosis. IS&T/SPIE 1993 International Symposium on \n",
      "     Electronic Imaging: Science and Technology, volume 1905, pages 861-870,\n",
      "     San Jose, CA, 1993.\n",
      "   - O.L. Mangasarian, W.N. Street and W.H. Wolberg. Breast cancer diagnosis and \n",
      "     prognosis via linear programming. Operations Research, 43(4), pages 570-577, \n",
      "     July-August 1995.\n",
      "   - W.H. Wolberg, W.N. Street, and O.L. Mangasarian. Machine learning techniques\n",
      "     to diagnose breast cancer from fine-needle aspirates. Cancer Letters 77 (1994) \n",
      "     163-171.\n"
     ]
    }
   ],
   "source": [
    "print(cancer['DESCR'])"
   ]
  },
  {
   "cell_type": "code",
   "execution_count": 6,
   "metadata": {
    "ExecuteTime": {
     "end_time": "2021-01-28T13:16:18.218326Z",
     "start_time": "2021-01-28T13:16:18.212344Z"
    }
   },
   "outputs": [
    {
     "data": {
      "text/plain": [
       "array(['mean radius', 'mean texture', 'mean perimeter', 'mean area',\n",
       "       'mean smoothness', 'mean compactness', 'mean concavity',\n",
       "       'mean concave points', 'mean symmetry', 'mean fractal dimension',\n",
       "       'radius error', 'texture error', 'perimeter error', 'area error',\n",
       "       'smoothness error', 'compactness error', 'concavity error',\n",
       "       'concave points error', 'symmetry error',\n",
       "       'fractal dimension error', 'worst radius', 'worst texture',\n",
       "       'worst perimeter', 'worst area', 'worst smoothness',\n",
       "       'worst compactness', 'worst concavity', 'worst concave points',\n",
       "       'worst symmetry', 'worst fractal dimension'], dtype='<U23')"
      ]
     },
     "execution_count": 6,
     "metadata": {},
     "output_type": "execute_result"
    }
   ],
   "source": [
    "cancer['feature_names']"
   ]
  },
  {
   "cell_type": "code",
   "execution_count": 32,
   "metadata": {
    "ExecuteTime": {
     "end_time": "2021-01-28T14:44:54.534276Z",
     "start_time": "2021-01-28T14:44:54.522310Z"
    }
   },
   "outputs": [
    {
     "name": "stdout",
     "output_type": "stream",
     "text": [
      "<class 'pandas.core.frame.DataFrame'>\n",
      "RangeIndex: 569 entries, 0 to 568\n",
      "Data columns (total 30 columns):\n",
      " #   Column                   Non-Null Count  Dtype  \n",
      "---  ------                   --------------  -----  \n",
      " 0   mean radius              569 non-null    float64\n",
      " 1   mean texture             569 non-null    float64\n",
      " 2   mean perimeter           569 non-null    float64\n",
      " 3   mean area                569 non-null    float64\n",
      " 4   mean smoothness          569 non-null    float64\n",
      " 5   mean compactness         569 non-null    float64\n",
      " 6   mean concavity           569 non-null    float64\n",
      " 7   mean concave points      569 non-null    float64\n",
      " 8   mean symmetry            569 non-null    float64\n",
      " 9   mean fractal dimension   569 non-null    float64\n",
      " 10  radius error             569 non-null    float64\n",
      " 11  texture error            569 non-null    float64\n",
      " 12  perimeter error          569 non-null    float64\n",
      " 13  area error               569 non-null    float64\n",
      " 14  smoothness error         569 non-null    float64\n",
      " 15  compactness error        569 non-null    float64\n",
      " 16  concavity error          569 non-null    float64\n",
      " 17  concave points error     569 non-null    float64\n",
      " 18  symmetry error           569 non-null    float64\n",
      " 19  fractal dimension error  569 non-null    float64\n",
      " 20  worst radius             569 non-null    float64\n",
      " 21  worst texture            569 non-null    float64\n",
      " 22  worst perimeter          569 non-null    float64\n",
      " 23  worst area               569 non-null    float64\n",
      " 24  worst smoothness         569 non-null    float64\n",
      " 25  worst compactness        569 non-null    float64\n",
      " 26  worst concavity          569 non-null    float64\n",
      " 27  worst concave points     569 non-null    float64\n",
      " 28  worst symmetry           569 non-null    float64\n",
      " 29  worst fractal dimension  569 non-null    float64\n",
      "dtypes: float64(30)\n",
      "memory usage: 133.5 KB\n"
     ]
    }
   ],
   "source": [
    "df_feat = pd.DataFrame(cancer['data'],columns=cancer['feature_names'])\n",
    "df_feat.info()"
   ]
  },
  {
   "cell_type": "code",
   "execution_count": 33,
   "metadata": {
    "ExecuteTime": {
     "end_time": "2021-01-28T14:44:56.533320Z",
     "start_time": "2021-01-28T14:44:56.528304Z"
    }
   },
   "outputs": [],
   "source": [
    "df_target = pd.DataFrame(cancer['target'],columns=['Cancer'])"
   ]
  },
  {
   "cell_type": "code",
   "execution_count": 43,
   "metadata": {
    "ExecuteTime": {
     "end_time": "2021-01-28T14:47:29.740964Z",
     "start_time": "2021-01-28T14:47:29.728967Z"
    }
   },
   "outputs": [
    {
     "data": {
      "text/plain": [
       "0      0\n",
       "1      0\n",
       "2      0\n",
       "3      0\n",
       "4      0\n",
       "      ..\n",
       "564    0\n",
       "565    0\n",
       "566    0\n",
       "567    0\n",
       "568    1\n",
       "Name: Cancer, Length: 569, dtype: int32"
      ]
     },
     "execution_count": 43,
     "metadata": {},
     "output_type": "execute_result"
    }
   ],
   "source": [
    "X = df_feat\n",
    "y = df_target['Cancer']\n",
    "\n",
    "from sklearn import preprocessing\n",
    "from sklearn.model_selection import train_test_split\n",
    "\n",
    "cols = X.columns\n",
    "df = pd.DataFrame(X)\n",
    "df\n",
    "\n",
    "min_max_scaler = preprocessing.MinMaxScaler()\n",
    "np_scaled = min_max_scaler.fit_transform(df)\n",
    "df_normalized = pd.DataFrame(np_scaled, columns = cols)\n",
    "\n",
    "X = df_normalized\n",
    "\n",
    "y"
   ]
  },
  {
   "cell_type": "code",
   "execution_count": 44,
   "metadata": {
    "ExecuteTime": {
     "end_time": "2021-01-28T14:47:32.022225Z",
     "start_time": "2021-01-28T14:47:31.992332Z"
    }
   },
   "outputs": [
    {
     "data": {
      "text/html": [
       "<div>\n",
       "<style scoped>\n",
       "    .dataframe tbody tr th:only-of-type {\n",
       "        vertical-align: middle;\n",
       "    }\n",
       "\n",
       "    .dataframe tbody tr th {\n",
       "        vertical-align: top;\n",
       "    }\n",
       "\n",
       "    .dataframe thead th {\n",
       "        text-align: right;\n",
       "    }\n",
       "</style>\n",
       "<table border=\"1\" class=\"dataframe\">\n",
       "  <thead>\n",
       "    <tr style=\"text-align: right;\">\n",
       "      <th></th>\n",
       "      <th>mean radius</th>\n",
       "      <th>mean texture</th>\n",
       "      <th>mean perimeter</th>\n",
       "      <th>mean area</th>\n",
       "      <th>mean smoothness</th>\n",
       "      <th>mean compactness</th>\n",
       "      <th>mean concavity</th>\n",
       "      <th>mean concave points</th>\n",
       "      <th>mean symmetry</th>\n",
       "      <th>mean fractal dimension</th>\n",
       "      <th>...</th>\n",
       "      <th>worst radius</th>\n",
       "      <th>worst texture</th>\n",
       "      <th>worst perimeter</th>\n",
       "      <th>worst area</th>\n",
       "      <th>worst smoothness</th>\n",
       "      <th>worst compactness</th>\n",
       "      <th>worst concavity</th>\n",
       "      <th>worst concave points</th>\n",
       "      <th>worst symmetry</th>\n",
       "      <th>worst fractal dimension</th>\n",
       "    </tr>\n",
       "  </thead>\n",
       "  <tbody>\n",
       "    <tr>\n",
       "      <th>421</th>\n",
       "      <td>0.364854</td>\n",
       "      <td>0.144403</td>\n",
       "      <td>0.376132</td>\n",
       "      <td>0.217434</td>\n",
       "      <td>0.455629</td>\n",
       "      <td>0.503711</td>\n",
       "      <td>0.339738</td>\n",
       "      <td>0.313121</td>\n",
       "      <td>0.518182</td>\n",
       "      <td>0.507582</td>\n",
       "      <td>...</td>\n",
       "      <td>0.303451</td>\n",
       "      <td>0.168443</td>\n",
       "      <td>0.317197</td>\n",
       "      <td>0.153362</td>\n",
       "      <td>0.396421</td>\n",
       "      <td>0.326193</td>\n",
       "      <td>0.257109</td>\n",
       "      <td>0.380756</td>\n",
       "      <td>0.248768</td>\n",
       "      <td>0.242949</td>\n",
       "    </tr>\n",
       "    <tr>\n",
       "      <th>47</th>\n",
       "      <td>0.292915</td>\n",
       "      <td>0.302672</td>\n",
       "      <td>0.291549</td>\n",
       "      <td>0.165896</td>\n",
       "      <td>0.570281</td>\n",
       "      <td>0.318140</td>\n",
       "      <td>0.287254</td>\n",
       "      <td>0.364811</td>\n",
       "      <td>0.539394</td>\n",
       "      <td>0.375105</td>\n",
       "      <td>...</td>\n",
       "      <td>0.275347</td>\n",
       "      <td>0.424574</td>\n",
       "      <td>0.260919</td>\n",
       "      <td>0.141123</td>\n",
       "      <td>0.709437</td>\n",
       "      <td>0.377711</td>\n",
       "      <td>0.399840</td>\n",
       "      <td>0.717526</td>\n",
       "      <td>0.460280</td>\n",
       "      <td>0.412305</td>\n",
       "    </tr>\n",
       "    <tr>\n",
       "      <th>292</th>\n",
       "      <td>0.282503</td>\n",
       "      <td>0.213392</td>\n",
       "      <td>0.271923</td>\n",
       "      <td>0.157031</td>\n",
       "      <td>0.432157</td>\n",
       "      <td>0.184191</td>\n",
       "      <td>0.144213</td>\n",
       "      <td>0.167495</td>\n",
       "      <td>0.338384</td>\n",
       "      <td>0.310447</td>\n",
       "      <td>...</td>\n",
       "      <td>0.206688</td>\n",
       "      <td>0.210821</td>\n",
       "      <td>0.191245</td>\n",
       "      <td>0.098358</td>\n",
       "      <td>0.509344</td>\n",
       "      <td>0.174162</td>\n",
       "      <td>0.178994</td>\n",
       "      <td>0.362887</td>\n",
       "      <td>0.357776</td>\n",
       "      <td>0.267611</td>\n",
       "    </tr>\n",
       "    <tr>\n",
       "      <th>186</th>\n",
       "      <td>0.536182</td>\n",
       "      <td>0.299966</td>\n",
       "      <td>0.516965</td>\n",
       "      <td>0.380700</td>\n",
       "      <td>0.300172</td>\n",
       "      <td>0.200294</td>\n",
       "      <td>0.191401</td>\n",
       "      <td>0.288966</td>\n",
       "      <td>0.283333</td>\n",
       "      <td>0.090354</td>\n",
       "      <td>...</td>\n",
       "      <td>0.475987</td>\n",
       "      <td>0.382196</td>\n",
       "      <td>0.442203</td>\n",
       "      <td>0.301022</td>\n",
       "      <td>0.344912</td>\n",
       "      <td>0.210738</td>\n",
       "      <td>0.282588</td>\n",
       "      <td>0.539863</td>\n",
       "      <td>0.323477</td>\n",
       "      <td>0.094057</td>\n",
       "    </tr>\n",
       "    <tr>\n",
       "      <th>414</th>\n",
       "      <td>0.385678</td>\n",
       "      <td>0.679743</td>\n",
       "      <td>0.365697</td>\n",
       "      <td>0.244327</td>\n",
       "      <td>0.275977</td>\n",
       "      <td>0.081805</td>\n",
       "      <td>0.109794</td>\n",
       "      <td>0.136133</td>\n",
       "      <td>0.400000</td>\n",
       "      <td>0.062763</td>\n",
       "      <td>...</td>\n",
       "      <td>0.331910</td>\n",
       "      <td>0.663380</td>\n",
       "      <td>0.297276</td>\n",
       "      <td>0.183396</td>\n",
       "      <td>0.288120</td>\n",
       "      <td>0.069244</td>\n",
       "      <td>0.123562</td>\n",
       "      <td>0.225945</td>\n",
       "      <td>0.328800</td>\n",
       "      <td>0.043356</td>\n",
       "    </tr>\n",
       "    <tr>\n",
       "      <th>...</th>\n",
       "      <td>...</td>\n",
       "      <td>...</td>\n",
       "      <td>...</td>\n",
       "      <td>...</td>\n",
       "      <td>...</td>\n",
       "      <td>...</td>\n",
       "      <td>...</td>\n",
       "      <td>...</td>\n",
       "      <td>...</td>\n",
       "      <td>...</td>\n",
       "      <td>...</td>\n",
       "      <td>...</td>\n",
       "      <td>...</td>\n",
       "      <td>...</td>\n",
       "      <td>...</td>\n",
       "      <td>...</td>\n",
       "      <td>...</td>\n",
       "      <td>...</td>\n",
       "      <td>...</td>\n",
       "      <td>...</td>\n",
       "      <td>...</td>\n",
       "    </tr>\n",
       "    <tr>\n",
       "      <th>318</th>\n",
       "      <td>0.097544</td>\n",
       "      <td>0.310788</td>\n",
       "      <td>0.112501</td>\n",
       "      <td>0.042842</td>\n",
       "      <td>0.424754</td>\n",
       "      <td>0.545427</td>\n",
       "      <td>0.462746</td>\n",
       "      <td>0.243936</td>\n",
       "      <td>0.641414</td>\n",
       "      <td>0.789174</td>\n",
       "      <td>...</td>\n",
       "      <td>0.075774</td>\n",
       "      <td>0.303305</td>\n",
       "      <td>0.090692</td>\n",
       "      <td>0.027502</td>\n",
       "      <td>0.336327</td>\n",
       "      <td>0.337156</td>\n",
       "      <td>0.368131</td>\n",
       "      <td>0.393471</td>\n",
       "      <td>0.309482</td>\n",
       "      <td>0.330972</td>\n",
       "    </tr>\n",
       "    <tr>\n",
       "      <th>375</th>\n",
       "      <td>0.434900</td>\n",
       "      <td>0.215083</td>\n",
       "      <td>0.431967</td>\n",
       "      <td>0.273595</td>\n",
       "      <td>0.416810</td>\n",
       "      <td>0.381633</td>\n",
       "      <td>0.155834</td>\n",
       "      <td>0.268241</td>\n",
       "      <td>0.469697</td>\n",
       "      <td>0.331929</td>\n",
       "      <td>...</td>\n",
       "      <td>0.321594</td>\n",
       "      <td>0.189765</td>\n",
       "      <td>0.312217</td>\n",
       "      <td>0.166216</td>\n",
       "      <td>0.345572</td>\n",
       "      <td>0.220925</td>\n",
       "      <td>0.168850</td>\n",
       "      <td>0.429897</td>\n",
       "      <td>0.313030</td>\n",
       "      <td>0.226682</td>\n",
       "    </tr>\n",
       "    <tr>\n",
       "      <th>18</th>\n",
       "      <td>0.607175</td>\n",
       "      <td>0.420697</td>\n",
       "      <td>0.595743</td>\n",
       "      <td>0.473595</td>\n",
       "      <td>0.412386</td>\n",
       "      <td>0.255567</td>\n",
       "      <td>0.346532</td>\n",
       "      <td>0.472068</td>\n",
       "      <td>0.263636</td>\n",
       "      <td>0.084035</td>\n",
       "      <td>...</td>\n",
       "      <td>0.689790</td>\n",
       "      <td>0.502665</td>\n",
       "      <td>0.679267</td>\n",
       "      <td>0.543846</td>\n",
       "      <td>0.528495</td>\n",
       "      <td>0.279138</td>\n",
       "      <td>0.429073</td>\n",
       "      <td>0.820619</td>\n",
       "      <td>0.237138</td>\n",
       "      <td>0.138463</td>\n",
       "    </tr>\n",
       "    <tr>\n",
       "      <th>168</th>\n",
       "      <td>0.496427</td>\n",
       "      <td>0.506256</td>\n",
       "      <td>0.499689</td>\n",
       "      <td>0.356776</td>\n",
       "      <td>0.471879</td>\n",
       "      <td>0.432243</td>\n",
       "      <td>0.505858</td>\n",
       "      <td>0.518390</td>\n",
       "      <td>0.241414</td>\n",
       "      <td>0.288332</td>\n",
       "      <td>...</td>\n",
       "      <td>0.541089</td>\n",
       "      <td>0.541311</td>\n",
       "      <td>0.522387</td>\n",
       "      <td>0.362466</td>\n",
       "      <td>0.438685</td>\n",
       "      <td>0.345112</td>\n",
       "      <td>0.390575</td>\n",
       "      <td>0.591409</td>\n",
       "      <td>0.117288</td>\n",
       "      <td>0.248983</td>\n",
       "    </tr>\n",
       "    <tr>\n",
       "      <th>361</th>\n",
       "      <td>0.299068</td>\n",
       "      <td>0.401082</td>\n",
       "      <td>0.286435</td>\n",
       "      <td>0.170774</td>\n",
       "      <td>0.299630</td>\n",
       "      <td>0.136035</td>\n",
       "      <td>0.078351</td>\n",
       "      <td>0.120477</td>\n",
       "      <td>0.381313</td>\n",
       "      <td>0.147430</td>\n",
       "      <td>...</td>\n",
       "      <td>0.223052</td>\n",
       "      <td>0.457889</td>\n",
       "      <td>0.211813</td>\n",
       "      <td>0.107157</td>\n",
       "      <td>0.282837</td>\n",
       "      <td>0.135256</td>\n",
       "      <td>0.096805</td>\n",
       "      <td>0.192921</td>\n",
       "      <td>0.211315</td>\n",
       "      <td>0.075692</td>\n",
       "    </tr>\n",
       "  </tbody>\n",
       "</table>\n",
       "<p>188 rows × 30 columns</p>\n",
       "</div>"
      ],
      "text/plain": [
       "     mean radius  mean texture  mean perimeter  mean area  mean smoothness  \\\n",
       "421     0.364854      0.144403        0.376132   0.217434         0.455629   \n",
       "47      0.292915      0.302672        0.291549   0.165896         0.570281   \n",
       "292     0.282503      0.213392        0.271923   0.157031         0.432157   \n",
       "186     0.536182      0.299966        0.516965   0.380700         0.300172   \n",
       "414     0.385678      0.679743        0.365697   0.244327         0.275977   \n",
       "..           ...           ...             ...        ...              ...   \n",
       "318     0.097544      0.310788        0.112501   0.042842         0.424754   \n",
       "375     0.434900      0.215083        0.431967   0.273595         0.416810   \n",
       "18      0.607175      0.420697        0.595743   0.473595         0.412386   \n",
       "168     0.496427      0.506256        0.499689   0.356776         0.471879   \n",
       "361     0.299068      0.401082        0.286435   0.170774         0.299630   \n",
       "\n",
       "     mean compactness  mean concavity  mean concave points  mean symmetry  \\\n",
       "421          0.503711        0.339738             0.313121       0.518182   \n",
       "47           0.318140        0.287254             0.364811       0.539394   \n",
       "292          0.184191        0.144213             0.167495       0.338384   \n",
       "186          0.200294        0.191401             0.288966       0.283333   \n",
       "414          0.081805        0.109794             0.136133       0.400000   \n",
       "..                ...             ...                  ...            ...   \n",
       "318          0.545427        0.462746             0.243936       0.641414   \n",
       "375          0.381633        0.155834             0.268241       0.469697   \n",
       "18           0.255567        0.346532             0.472068       0.263636   \n",
       "168          0.432243        0.505858             0.518390       0.241414   \n",
       "361          0.136035        0.078351             0.120477       0.381313   \n",
       "\n",
       "     mean fractal dimension  ...  worst radius  worst texture  \\\n",
       "421                0.507582  ...      0.303451       0.168443   \n",
       "47                 0.375105  ...      0.275347       0.424574   \n",
       "292                0.310447  ...      0.206688       0.210821   \n",
       "186                0.090354  ...      0.475987       0.382196   \n",
       "414                0.062763  ...      0.331910       0.663380   \n",
       "..                      ...  ...           ...            ...   \n",
       "318                0.789174  ...      0.075774       0.303305   \n",
       "375                0.331929  ...      0.321594       0.189765   \n",
       "18                 0.084035  ...      0.689790       0.502665   \n",
       "168                0.288332  ...      0.541089       0.541311   \n",
       "361                0.147430  ...      0.223052       0.457889   \n",
       "\n",
       "     worst perimeter  worst area  worst smoothness  worst compactness  \\\n",
       "421         0.317197    0.153362          0.396421           0.326193   \n",
       "47          0.260919    0.141123          0.709437           0.377711   \n",
       "292         0.191245    0.098358          0.509344           0.174162   \n",
       "186         0.442203    0.301022          0.344912           0.210738   \n",
       "414         0.297276    0.183396          0.288120           0.069244   \n",
       "..               ...         ...               ...                ...   \n",
       "318         0.090692    0.027502          0.336327           0.337156   \n",
       "375         0.312217    0.166216          0.345572           0.220925   \n",
       "18          0.679267    0.543846          0.528495           0.279138   \n",
       "168         0.522387    0.362466          0.438685           0.345112   \n",
       "361         0.211813    0.107157          0.282837           0.135256   \n",
       "\n",
       "     worst concavity  worst concave points  worst symmetry  \\\n",
       "421         0.257109              0.380756        0.248768   \n",
       "47          0.399840              0.717526        0.460280   \n",
       "292         0.178994              0.362887        0.357776   \n",
       "186         0.282588              0.539863        0.323477   \n",
       "414         0.123562              0.225945        0.328800   \n",
       "..               ...                   ...             ...   \n",
       "318         0.368131              0.393471        0.309482   \n",
       "375         0.168850              0.429897        0.313030   \n",
       "18          0.429073              0.820619        0.237138   \n",
       "168         0.390575              0.591409        0.117288   \n",
       "361         0.096805              0.192921        0.211315   \n",
       "\n",
       "     worst fractal dimension  \n",
       "421                 0.242949  \n",
       "47                  0.412305  \n",
       "292                 0.267611  \n",
       "186                 0.094057  \n",
       "414                 0.043356  \n",
       "..                       ...  \n",
       "318                 0.330972  \n",
       "375                 0.226682  \n",
       "18                  0.138463  \n",
       "168                 0.248983  \n",
       "361                 0.075692  \n",
       "\n",
       "[188 rows x 30 columns]"
      ]
     },
     "execution_count": 44,
     "metadata": {},
     "output_type": "execute_result"
    }
   ],
   "source": [
    "#Train test split\n",
    "X_train, X_test, y_train, y_test = train_test_split(X, y, test_size=0.33, random_state=1)\n",
    "X_test"
   ]
  },
  {
   "cell_type": "code",
   "execution_count": 45,
   "metadata": {
    "ExecuteTime": {
     "end_time": "2021-01-28T14:47:32.695820Z",
     "start_time": "2021-01-28T14:47:32.683854Z"
    }
   },
   "outputs": [
    {
     "data": {
      "text/plain": [
       "SVC(kernel='poly')"
      ]
     },
     "execution_count": 45,
     "metadata": {},
     "output_type": "execute_result"
    }
   ],
   "source": [
    "#Train the support vector classifier\n",
    "from sklearn.svm import SVC\n",
    "clf = SVC(kernel='poly')\n",
    "clf.fit(X_train, y_train)"
   ]
  },
  {
   "cell_type": "code",
   "execution_count": 46,
   "metadata": {
    "ExecuteTime": {
     "end_time": "2021-01-28T14:47:33.431464Z",
     "start_time": "2021-01-28T14:47:33.417491Z"
    }
   },
   "outputs": [
    {
     "name": "stdout",
     "output_type": "stream",
     "text": [
      "[[ 60   5]\n",
      " [  3 120]]\n",
      "              precision    recall  f1-score   support\n",
      "\n",
      "           0       0.95      0.92      0.94        65\n",
      "           1       0.96      0.98      0.97       123\n",
      "\n",
      "    accuracy                           0.96       188\n",
      "   macro avg       0.96      0.95      0.95       188\n",
      "weighted avg       0.96      0.96      0.96       188\n",
      "\n",
      "Accuracy: 0.9574468085106383\n"
     ]
    }
   ],
   "source": [
    "#Predictions and evaluations\n",
    "y_pred = clf.predict(X_test)\n",
    "\n",
    "from sklearn.metrics import confusion_matrix\n",
    "print(confusion_matrix(y_test,y_pred))\n",
    "\n",
    "from sklearn.metrics import classification_report\n",
    "print(classification_report(y_test,y_pred))\n",
    "\n",
    "from sklearn import metrics\n",
    "print(\"Accuracy:\",metrics.accuracy_score(y_test, y_pred))"
   ]
  },
  {
   "cell_type": "code",
   "execution_count": 49,
   "metadata": {
    "ExecuteTime": {
     "end_time": "2021-01-28T14:48:28.013850Z",
     "start_time": "2021-01-28T14:48:27.985924Z"
    }
   },
   "outputs": [
    {
     "name": "stdout",
     "output_type": "stream",
     "text": [
      "[[ 2 63]\n",
      " [64 59]]\n",
      "              precision    recall  f1-score   support\n",
      "\n",
      "           0       0.03      0.03      0.03        65\n",
      "           1       0.48      0.48      0.48       123\n",
      "\n",
      "    accuracy                           0.32       188\n",
      "   macro avg       0.26      0.26      0.26       188\n",
      "weighted avg       0.33      0.32      0.33       188\n",
      "\n",
      "Accuracy: 0.324468085106383\n"
     ]
    }
   ],
   "source": [
    "clf = SVC(kernel='sigmoid')\n",
    "clf.fit(X_train, y_train)\n",
    "\n",
    "y_pred = clf.predict(X_test)\n",
    "\n",
    "print(confusion_matrix(y_test,y_pred))\n",
    "print(classification_report(y_test,y_pred))\n",
    "print(\"Accuracy:\",metrics.accuracy_score(y_test, y_pred))"
   ]
  },
  {
   "cell_type": "code",
   "execution_count": 50,
   "metadata": {
    "ExecuteTime": {
     "end_time": "2021-01-28T14:48:34.469079Z",
     "start_time": "2021-01-28T14:48:34.450140Z"
    }
   },
   "outputs": [
    {
     "name": "stdout",
     "output_type": "stream",
     "text": [
      "[[ 61   4]\n",
      " [  2 121]]\n",
      "              precision    recall  f1-score   support\n",
      "\n",
      "           0       0.97      0.94      0.95        65\n",
      "           1       0.97      0.98      0.98       123\n",
      "\n",
      "    accuracy                           0.97       188\n",
      "   macro avg       0.97      0.96      0.96       188\n",
      "weighted avg       0.97      0.97      0.97       188\n",
      "\n",
      "Accuracy: 0.9680851063829787\n"
     ]
    }
   ],
   "source": [
    "clf = SVC(kernel='rbf')\n",
    "clf.fit(X_train, y_train)\n",
    "\n",
    "y_pred = clf.predict(X_test)\n",
    "\n",
    "print(confusion_matrix(y_test,y_pred))\n",
    "print(classification_report(y_test,y_pred))\n",
    "print(\"Accuracy:\",metrics.accuracy_score(y_test, y_pred))"
   ]
  },
  {
   "cell_type": "markdown",
   "metadata": {},
   "source": [
    "***Everything is being classified into a single class! Use Grid Search to search for the best parameters! (Scikitlearn GridSearchCV)***\n"
   ]
  },
  {
   "cell_type": "code",
   "execution_count": 77,
   "metadata": {
    "ExecuteTime": {
     "end_time": "2021-01-28T15:43:53.989205Z",
     "start_time": "2021-01-28T15:43:53.984217Z"
    }
   },
   "outputs": [],
   "source": [
    "#Set parameters\n",
    "from sklearn import svm, datasets\n",
    "from sklearn.model_selection import GridSearchCV"
   ]
  },
  {
   "cell_type": "code",
   "execution_count": 79,
   "metadata": {
    "ExecuteTime": {
     "end_time": "2021-01-28T15:44:13.252653Z",
     "start_time": "2021-01-28T15:44:13.233705Z"
    }
   },
   "outputs": [
    {
     "name": "stdout",
     "output_type": "stream",
     "text": [
      "              precision    recall  f1-score   support\n",
      "\n",
      "           0       0.97      0.94      0.95        65\n",
      "           1       0.97      0.98      0.98       123\n",
      "\n",
      "    accuracy                           0.97       188\n",
      "   macro avg       0.97      0.96      0.96       188\n",
      "weighted avg       0.97      0.97      0.97       188\n",
      "\n"
     ]
    }
   ],
   "source": [
    "model = SVC() \n",
    "model.fit(X_train, y_train)\n",
    "\n",
    "predictions = model.predict(X_test) \n",
    "print(classification_report(y_test, predictions))"
   ]
  },
  {
   "cell_type": "code",
   "execution_count": 95,
   "metadata": {
    "ExecuteTime": {
     "end_time": "2021-01-28T15:47:18.924099Z",
     "start_time": "2021-01-28T15:47:18.920111Z"
    }
   },
   "outputs": [],
   "source": [
    "param_grid = {'C': [1, 10, 100],\n",
    "              'kernel': ['linear', 'rbf', 'sigmoid']}"
   ]
  },
  {
   "cell_type": "code",
   "execution_count": 96,
   "metadata": {
    "ExecuteTime": {
     "end_time": "2021-01-28T15:47:19.518372Z",
     "start_time": "2021-01-28T15:47:19.513382Z"
    }
   },
   "outputs": [],
   "source": [
    "grid = GridSearchCV(SVC(), param_grid, refit = True, verbose = 3,n_jobs=-1)"
   ]
  },
  {
   "cell_type": "code",
   "execution_count": 97,
   "metadata": {
    "ExecuteTime": {
     "end_time": "2021-01-28T15:47:19.957958Z",
     "start_time": "2021-01-28T15:47:19.817334Z"
    }
   },
   "outputs": [
    {
     "name": "stdout",
     "output_type": "stream",
     "text": [
      "Fitting 5 folds for each of 9 candidates, totalling 45 fits\n"
     ]
    },
    {
     "name": "stderr",
     "output_type": "stream",
     "text": [
      "[Parallel(n_jobs=-1)]: Using backend LokyBackend with 8 concurrent workers.\n",
      "[Parallel(n_jobs=-1)]: Done  16 tasks      | elapsed:    0.0s\n",
      "[Parallel(n_jobs=-1)]: Done  45 out of  45 | elapsed:    0.0s finished\n"
     ]
    },
    {
     "data": {
      "text/plain": [
       "GridSearchCV(estimator=SVC(), n_jobs=-1,\n",
       "             param_grid={'C': [1, 10, 100],\n",
       "                         'kernel': ['linear', 'rbf', 'sigmoid']},\n",
       "             verbose=3)"
      ]
     },
     "execution_count": 97,
     "metadata": {},
     "output_type": "execute_result"
    }
   ],
   "source": [
    "#Fit grid (Note to self: first it runs the same loop with cross-validation to find the best parameter combination. Once it has the best combination, it runs fit again on all data passed to fit (without cross-validation), to built a single new model using the best parameter setting.)\n",
    "grid.fit(X_train, y_train) "
   ]
  },
  {
   "cell_type": "code",
   "execution_count": 105,
   "metadata": {
    "ExecuteTime": {
     "end_time": "2021-01-28T16:20:42.235702Z",
     "start_time": "2021-01-28T16:20:42.222791Z"
    }
   },
   "outputs": [
    {
     "name": "stdout",
     "output_type": "stream",
     "text": [
      "{'C': 100, 'kernel': 'linear'}\n",
      "              precision    recall  f1-score   support\n",
      "\n",
      "           0       0.94      0.95      0.95        65\n",
      "           1       0.98      0.97      0.97       123\n",
      "\n",
      "    accuracy                           0.96       188\n",
      "   macro avg       0.96      0.96      0.96       188\n",
      "weighted avg       0.96      0.96      0.96       188\n",
      "\n"
     ]
    }
   ],
   "source": [
    "#Call the best parameters\n",
    "print(grid.best_params_) \n",
    "grid_predictions = grid.predict(X_test)\n",
    "print(classification_report(y_test, grid_predictions))\n",
    "from sklearn.metrics import confusion_matrix\n"
   ]
  },
  {
   "cell_type": "code",
   "execution_count": null,
   "metadata": {
    "ExecuteTime": {
     "end_time": "2021-01-28T15:24:25.091689Z",
     "start_time": "2021-01-28T15:19:21.839Z"
    }
   },
   "outputs": [],
   "source": [
    "#print best score"
   ]
  },
  {
   "cell_type": "code",
   "execution_count": 104,
   "metadata": {
    "ExecuteTime": {
     "end_time": "2021-01-28T16:20:40.703413Z",
     "start_time": "2021-01-28T16:20:40.697419Z"
    }
   },
   "outputs": [
    {
     "data": {
      "text/plain": [
       "array([[ 61,   4],\n",
       "       [  2, 121]], dtype=int64)"
      ]
     },
     "execution_count": 104,
     "metadata": {},
     "output_type": "execute_result"
    }
   ],
   "source": [
    "# print the confusion matrix\n",
    "confusion_matrix(y_test, y_pred)"
   ]
  },
  {
   "cell_type": "markdown",
   "metadata": {},
   "source": [
    "# Discussion of results"
   ]
  },
  {
   "cell_type": "code",
   "execution_count": null,
   "metadata": {
    "ExecuteTime": {
     "end_time": "2021-01-28T15:32:46.580334Z",
     "start_time": "2021-01-28T15:32:46.564401Z"
    }
   },
   "outputs": [],
   "source": []
  },
  {
   "cell_type": "code",
   "execution_count": null,
   "metadata": {
    "ExecuteTime": {
     "end_time": "2021-01-28T15:02:04.900316Z",
     "start_time": "2021-01-28T15:02:04.893332Z"
    }
   },
   "outputs": [],
   "source": []
  },
  {
   "cell_type": "code",
   "execution_count": null,
   "metadata": {},
   "outputs": [],
   "source": []
  }
 ],
 "metadata": {
  "kernelspec": {
   "display_name": "Python 3",
   "language": "python",
   "name": "python3"
  },
  "language_info": {
   "codemirror_mode": {
    "name": "ipython",
    "version": 3
   },
   "file_extension": ".py",
   "mimetype": "text/x-python",
   "name": "python",
   "nbconvert_exporter": "python",
   "pygments_lexer": "ipython3",
   "version": "3.8.5"
  }
 },
 "nbformat": 4,
 "nbformat_minor": 2
}
