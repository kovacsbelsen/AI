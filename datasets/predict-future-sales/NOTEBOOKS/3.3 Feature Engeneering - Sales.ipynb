{
 "cells": [
  {
   "cell_type": "markdown",
   "metadata": {},
   "source": [
    "<h1 align=\"center\">3.3 Feature Engeneering (Sales)</h1>\n",
    "<h3 align=\"center\">Dataset: <a href=\"https://www.kaggle.com/c/competitive-data-science-predict-future-sales\">Predict future sales</a></h3>"
   ]
  },
  {
   "cell_type": "markdown",
   "metadata": {},
   "source": [
    "### Imports"
   ]
  },
  {
   "cell_type": "code",
   "execution_count": 1,
   "metadata": {
    "ExecuteTime": {
     "end_time": "2021-02-11T14:37:34.144057Z",
     "start_time": "2021-02-11T14:37:32.396625Z"
    }
   },
   "outputs": [],
   "source": [
    "import numpy   as np\n",
    "import pandas  as pd\n",
    "import seaborn as sb\n",
    "import matplotlib.pyplot as plt\n",
    "\n",
    "sb.set()\n",
    "%matplotlib inline\n",
    "#%matplotlib notebook\n",
    "\n",
    "from sklearn.preprocessing import LabelEncoder\n",
    "from sklearn.metrics       import mean_squared_error\n",
    "import lightgbm as lgb\n",
    "\n",
    "from itertools import product\n",
    "import calendar \n",
    "import gc\n",
    "import time\n",
    "import pickle\n",
    "\n",
    "from ipywidgets import interact"
   ]
  },
  {
   "cell_type": "markdown",
   "metadata": {},
   "source": [
    "### Constants"
   ]
  },
  {
   "cell_type": "code",
   "execution_count": 2,
   "metadata": {
    "ExecuteTime": {
     "end_time": "2021-02-11T14:37:34.149022Z",
     "start_time": "2021-02-11T14:37:34.146003Z"
    }
   },
   "outputs": [],
   "source": [
    "ENGLISH = True\n",
    "\n",
    "DATA_RUS_PATH = \"../DATA/1. Original data Russian (96Mb)/\"\n",
    "DATA_ENG_PATH = \"../DATA/2. Translated data English (1Mb)/\"\n",
    "DATA_FE_PATH  = \"../DATA/3. Feature Engeneering/\"\n",
    "DATA_SUB_PATH = \"../DATA/5. Submissions/\""
   ]
  },
  {
   "cell_type": "markdown",
   "metadata": {},
   "source": [
    "### Load data"
   ]
  },
  {
   "cell_type": "code",
   "execution_count": 3,
   "metadata": {
    "ExecuteTime": {
     "end_time": "2021-02-11T14:37:35.759012Z",
     "start_time": "2021-02-11T14:37:34.153983Z"
    }
   },
   "outputs": [],
   "source": [
    "sales = pd.read_csv(DATA_RUS_PATH + \"sales_train.csv\")          # Dayly sales  Jan 2013 -> Oct 2015\n",
    "test  = pd.read_csv(DATA_RUS_PATH + \"test.csv\", index_col=\"ID\") # Predict Noviember 2015\n",
    "sub   = pd.read_csv(DATA_RUS_PATH + \"sample_submission.csv\", index_col=\"ID\")\n",
    "\n",
    "if ENGLISH: \n",
    "    shops = pd.read_csv(DATA_ENG_PATH + \"shops.csv\", index_col=\"shop_id\") # shops    (60)\n",
    "    items = pd.read_csv(DATA_ENG_PATH + \"items.csv\")           # products  (22170)\n",
    "    cats  = pd.read_csv(DATA_ENG_PATH + \"item_categories.csv\") # product categories (84)\n",
    "\n",
    "else:\n",
    "    shops = pd.read_csv(DATA_RUS_PATH + \"shops.csv\", index_col=\"shop_id\")           # shops    (60)\n",
    "    items = pd.read_csv(DATA_RUS_PATH + \"items.csv\")           # products  (22170)\n",
    "    cats  = pd.read_csv(DATA_RUS_PATH + \"item_categories.csv\") # product categories (84)"
   ]
  },
  {
   "cell_type": "code",
   "execution_count": 4,
   "metadata": {
    "ExecuteTime": {
     "end_time": "2021-02-11T14:37:35.829337Z",
     "start_time": "2021-02-11T14:37:35.761026Z"
    }
   },
   "outputs": [
    {
     "name": "stdout",
     "output_type": "stream",
     "text": [
      "Number of shops: 60\n",
      "Number of items: 21807\n",
      "Number of sales: 2935849\n"
     ]
    }
   ],
   "source": [
    "def sales_info():\n",
    "    print(\"Number of shops:\", sales.shop_id.nunique())\n",
    "    print(\"Number of items:\", sales.item_id.nunique())\n",
    "    print(\"Number of sales:\", len(sales))\n",
    "sales_info()"
   ]
  },
  {
   "cell_type": "markdown",
   "metadata": {},
   "source": [
    "# <center> Data Cleaning"
   ]
  },
  {
   "cell_type": "markdown",
   "metadata": {},
   "source": [
    "### Remove outliers"
   ]
  },
  {
   "cell_type": "code",
   "execution_count": 5,
   "metadata": {
    "ExecuteTime": {
     "end_time": "2021-02-11T14:37:36.123057Z",
     "start_time": "2021-02-11T14:37:35.832320Z"
    }
   },
   "outputs": [
    {
     "name": "stdout",
     "output_type": "stream",
     "text": [
      "Number of shops: 60\n",
      "Number of items: 21802\n",
      "Number of sales: 2928488\n"
     ]
    }
   ],
   "source": [
    "sales = sales.query('0 < item_price < 50000 and 0 < item_cnt_day < 1001')\n",
    "sales_info()"
   ]
  },
  {
   "cell_type": "markdown",
   "metadata": {},
   "source": [
    "### Remove duplicates"
   ]
  },
  {
   "cell_type": "code",
   "execution_count": 6,
   "metadata": {
    "ExecuteTime": {
     "end_time": "2021-02-11T14:37:55.955368Z",
     "start_time": "2021-02-11T14:37:36.125041Z"
    }
   },
   "outputs": [
    {
     "name": "stdout",
     "output_type": "stream",
     "text": [
      "Number of shops: 56\n",
      "Number of items: 21356\n",
      "Number of sales: 2928488\n"
     ]
    }
   ],
   "source": [
    "duplicated_shops_replacement = {\n",
    "    0: 57,\n",
    "    1: 58,\n",
    "    11: 10,\n",
    "    40: 39 # Not sure about this one\n",
    "}\n",
    "\n",
    "def load_obj(name):\n",
    "    with open(DATA_FE_PATH + name + '.pkl', 'rb') as f:\n",
    "        return pickle.load(f)\n",
    "    \n",
    "duplicated_items_replacement = load_obj(\"duplicated_items_replacement\")\n",
    "\n",
    "\n",
    "sales = sales.replace({\n",
    "        'shop_id': duplicated_shops_replacement, # replacing obsolete shop id's\n",
    "        'item_id': duplicated_items_replacement  # fixing duplicate item id's  \n",
    "})\n",
    "\n",
    "sales_info()"
   ]
  },
  {
   "cell_type": "markdown",
   "metadata": {},
   "source": [
    "### Removing shops which don't appear in the test set"
   ]
  },
  {
   "cell_type": "code",
   "execution_count": 7,
   "metadata": {
    "ExecuteTime": {
     "end_time": "2021-02-11T14:37:56.334330Z",
     "start_time": "2021-02-11T14:37:55.957363Z"
    }
   },
   "outputs": [
    {
     "name": "stdout",
     "output_type": "stream",
     "text": [
      "Number of shops: 42\n",
      "Number of items: 20693\n",
      "Number of sales: 2427355\n"
     ]
    }
   ],
   "source": [
    "sales = sales[sales['shop_id'].isin(test.shop_id.unique())]\n",
    "sales_info()"
   ]
  },
  {
   "cell_type": "markdown",
   "metadata": {},
   "source": [
    "# <center> Date information"
   ]
  },
  {
   "cell_type": "markdown",
   "metadata": {},
   "source": [
    "### Convert to datatime format"
   ]
  },
  {
   "cell_type": "code",
   "execution_count": 8,
   "metadata": {
    "ExecuteTime": {
     "end_time": "2021-02-11T14:37:56.684318Z",
     "start_time": "2021-02-11T14:37:56.337323Z"
    }
   },
   "outputs": [],
   "source": [
    "sales['date'] = pd.to_datetime(sales.date,format='%d.%m.%Y')"
   ]
  },
  {
   "cell_type": "markdown",
   "metadata": {},
   "source": [
    "### Extract time feats"
   ]
  },
  {
   "cell_type": "code",
   "execution_count": 9,
   "metadata": {
    "ExecuteTime": {
     "end_time": "2021-02-11T14:37:57.529587Z",
     "start_time": "2021-02-11T14:37:56.687311Z"
    }
   },
   "outputs": [],
   "source": [
    "sales['weekday'] = sales.date.dt.dayofweek\n",
    "\n",
    "#first day the item was sold, day 0 is the first day of the training set period\n",
    "sales['first_sale_day'] = sales.date.dt.dayofyear \n",
    "sales['first_sale_day'] += 365 * (sales.date.dt.year-2013)\n",
    "sales['first_sale_day'] = sales.groupby('item_id')['first_sale_day'].transform('min').astype('int16')\n",
    "\n",
    "# ALSO BY groupby('item_id', \"shop_id\")"
   ]
  },
  {
   "cell_type": "code",
   "execution_count": 10,
   "metadata": {
    "ExecuteTime": {
     "end_time": "2021-02-11T14:37:57.551530Z",
     "start_time": "2021-02-11T14:37:57.530585Z"
    }
   },
   "outputs": [
    {
     "data": {
      "text/html": [
       "<div>\n",
       "<style scoped>\n",
       "    .dataframe tbody tr th:only-of-type {\n",
       "        vertical-align: middle;\n",
       "    }\n",
       "\n",
       "    .dataframe tbody tr th {\n",
       "        vertical-align: top;\n",
       "    }\n",
       "\n",
       "    .dataframe thead th {\n",
       "        text-align: right;\n",
       "    }\n",
       "</style>\n",
       "<table border=\"1\" class=\"dataframe\">\n",
       "  <thead>\n",
       "    <tr style=\"text-align: right;\">\n",
       "      <th></th>\n",
       "      <th>date</th>\n",
       "      <th>date_block_num</th>\n",
       "      <th>shop_id</th>\n",
       "      <th>item_id</th>\n",
       "      <th>item_price</th>\n",
       "      <th>item_cnt_day</th>\n",
       "      <th>weekday</th>\n",
       "      <th>first_sale_day</th>\n",
       "    </tr>\n",
       "  </thead>\n",
       "  <tbody>\n",
       "    <tr>\n",
       "      <th>0</th>\n",
       "      <td>2013-01-02</td>\n",
       "      <td>0</td>\n",
       "      <td>59</td>\n",
       "      <td>22154</td>\n",
       "      <td>999.00</td>\n",
       "      <td>1.0</td>\n",
       "      <td>2</td>\n",
       "      <td>2</td>\n",
       "    </tr>\n",
       "    <tr>\n",
       "      <th>1</th>\n",
       "      <td>2013-01-03</td>\n",
       "      <td>0</td>\n",
       "      <td>25</td>\n",
       "      <td>2552</td>\n",
       "      <td>899.00</td>\n",
       "      <td>1.0</td>\n",
       "      <td>3</td>\n",
       "      <td>3</td>\n",
       "    </tr>\n",
       "    <tr>\n",
       "      <th>3</th>\n",
       "      <td>2013-01-06</td>\n",
       "      <td>0</td>\n",
       "      <td>25</td>\n",
       "      <td>2554</td>\n",
       "      <td>1709.05</td>\n",
       "      <td>1.0</td>\n",
       "      <td>6</td>\n",
       "      <td>6</td>\n",
       "    </tr>\n",
       "    <tr>\n",
       "      <th>4</th>\n",
       "      <td>2013-01-15</td>\n",
       "      <td>0</td>\n",
       "      <td>25</td>\n",
       "      <td>2555</td>\n",
       "      <td>1099.00</td>\n",
       "      <td>1.0</td>\n",
       "      <td>1</td>\n",
       "      <td>15</td>\n",
       "    </tr>\n",
       "    <tr>\n",
       "      <th>5</th>\n",
       "      <td>2013-01-10</td>\n",
       "      <td>0</td>\n",
       "      <td>25</td>\n",
       "      <td>2564</td>\n",
       "      <td>349.00</td>\n",
       "      <td>1.0</td>\n",
       "      <td>3</td>\n",
       "      <td>5</td>\n",
       "    </tr>\n",
       "    <tr>\n",
       "      <th>...</th>\n",
       "      <td>...</td>\n",
       "      <td>...</td>\n",
       "      <td>...</td>\n",
       "      <td>...</td>\n",
       "      <td>...</td>\n",
       "      <td>...</td>\n",
       "      <td>...</td>\n",
       "      <td>...</td>\n",
       "    </tr>\n",
       "    <tr>\n",
       "      <th>2935844</th>\n",
       "      <td>2015-10-10</td>\n",
       "      <td>33</td>\n",
       "      <td>25</td>\n",
       "      <td>7409</td>\n",
       "      <td>299.00</td>\n",
       "      <td>1.0</td>\n",
       "      <td>5</td>\n",
       "      <td>1003</td>\n",
       "    </tr>\n",
       "    <tr>\n",
       "      <th>2935845</th>\n",
       "      <td>2015-10-09</td>\n",
       "      <td>33</td>\n",
       "      <td>25</td>\n",
       "      <td>7460</td>\n",
       "      <td>299.00</td>\n",
       "      <td>1.0</td>\n",
       "      <td>4</td>\n",
       "      <td>761</td>\n",
       "    </tr>\n",
       "    <tr>\n",
       "      <th>2935846</th>\n",
       "      <td>2015-10-14</td>\n",
       "      <td>33</td>\n",
       "      <td>25</td>\n",
       "      <td>7459</td>\n",
       "      <td>349.00</td>\n",
       "      <td>1.0</td>\n",
       "      <td>2</td>\n",
       "      <td>2</td>\n",
       "    </tr>\n",
       "    <tr>\n",
       "      <th>2935847</th>\n",
       "      <td>2015-10-22</td>\n",
       "      <td>33</td>\n",
       "      <td>25</td>\n",
       "      <td>7440</td>\n",
       "      <td>299.00</td>\n",
       "      <td>1.0</td>\n",
       "      <td>3</td>\n",
       "      <td>803</td>\n",
       "    </tr>\n",
       "    <tr>\n",
       "      <th>2935848</th>\n",
       "      <td>2015-10-03</td>\n",
       "      <td>33</td>\n",
       "      <td>25</td>\n",
       "      <td>7460</td>\n",
       "      <td>299.00</td>\n",
       "      <td>1.0</td>\n",
       "      <td>5</td>\n",
       "      <td>761</td>\n",
       "    </tr>\n",
       "  </tbody>\n",
       "</table>\n",
       "<p>2427355 rows × 8 columns</p>\n",
       "</div>"
      ],
      "text/plain": [
       "              date  date_block_num  shop_id  item_id  item_price  \\\n",
       "0       2013-01-02               0       59    22154      999.00   \n",
       "1       2013-01-03               0       25     2552      899.00   \n",
       "3       2013-01-06               0       25     2554     1709.05   \n",
       "4       2013-01-15               0       25     2555     1099.00   \n",
       "5       2013-01-10               0       25     2564      349.00   \n",
       "...            ...             ...      ...      ...         ...   \n",
       "2935844 2015-10-10              33       25     7409      299.00   \n",
       "2935845 2015-10-09              33       25     7460      299.00   \n",
       "2935846 2015-10-14              33       25     7459      349.00   \n",
       "2935847 2015-10-22              33       25     7440      299.00   \n",
       "2935848 2015-10-03              33       25     7460      299.00   \n",
       "\n",
       "         item_cnt_day  weekday  first_sale_day  \n",
       "0                 1.0        2               2  \n",
       "1                 1.0        3               3  \n",
       "3                 1.0        6               6  \n",
       "4                 1.0        1              15  \n",
       "5                 1.0        3               5  \n",
       "...               ...      ...             ...  \n",
       "2935844           1.0        5            1003  \n",
       "2935845           1.0        4             761  \n",
       "2935846           1.0        2               2  \n",
       "2935847           1.0        3             803  \n",
       "2935848           1.0        5             761  \n",
       "\n",
       "[2427355 rows x 8 columns]"
      ]
     },
     "execution_count": 10,
     "metadata": {},
     "output_type": "execute_result"
    }
   ],
   "source": [
    "sales"
   ]
  },
  {
   "cell_type": "code",
   "execution_count": 11,
   "metadata": {
    "ExecuteTime": {
     "end_time": "2021-02-11T14:37:57.585438Z",
     "start_time": "2021-02-11T14:37:57.553524Z"
    }
   },
   "outputs": [
    {
     "name": "stdout",
     "output_type": "stream",
     "text": [
      "Train shops: 42\n",
      "Test shops:  42\n",
      "\n",
      "Shops only in train: 0\n",
      "Same shops at train test: 42\n",
      "Shops only in test: 0\n"
     ]
    }
   ],
   "source": [
    "tr = set(sales.shop_id.unique())\n",
    "te = set(test.shop_id.unique())\n",
    "\n",
    "print(\"Train shops:\", len(tr))\n",
    "print(\"Test shops: \", len(te))\n",
    "print()\n",
    "print(\"Shops only in train:\", len(tr-te))\n",
    "print(\"Same shops at train test:\",  len(tr & te))\n",
    "print(\"Shops only in test:\",  len(te-tr))"
   ]
  },
  {
   "cell_type": "code",
   "execution_count": 12,
   "metadata": {
    "ExecuteTime": {
     "end_time": "2021-02-11T14:37:57.592451Z",
     "start_time": "2021-02-11T14:37:57.587435Z"
    }
   },
   "outputs": [
    {
     "name": "stdout",
     "output_type": "stream",
     "text": [
      "Yakutsk Ordzhonikidze - 56 francs == Yakutsk Ordzhonikidze - 56\n",
      "Yakutsk TC Central fran == Yakutsk TC Central \n",
      "Zhukovsky st. Chkalov 39m? == Zhukovsky st. Chkalov 39m²\n",
      "Rostov-on-Don SEC Megacenter Horizon == Rostov-on-Don Megatsentr Gorizont Ostrovnoy shopping mall\n"
     ]
    }
   ],
   "source": [
    "print(shops.shop_name[0],  \"==\", shops.shop_name[57])\n",
    "print(shops.shop_name[1],  \"==\", shops.shop_name[58])\n",
    "print(shops.shop_name[10], \"==\", shops.shop_name[11])\n",
    "print(shops.shop_name[39], \"==\", shops.shop_name[40])"
   ]
  },
  {
   "cell_type": "code",
   "execution_count": 13,
   "metadata": {
    "ExecuteTime": {
     "end_time": "2021-02-11T14:37:57.805848Z",
     "start_time": "2021-02-11T14:37:57.595413Z"
    }
   },
   "outputs": [],
   "source": [
    "sales.loc[sales.shop_id == 0,  'shop_id'] = 57  # Якутск Орджоникидзе, 56\n",
    "sales.loc[sales.shop_id == 1,  'shop_id'] = 58  # Якутск ТЦ \"Центральный\"\n",
    "sales.loc[sales.shop_id == 11, 'shop_id'] = 10  # Жуковский ул. Чкалова 39м²  # CORREGIDO\n",
    "sales.loc[sales.shop_id == 40, 'shop_id'] = 39"
   ]
  },
  {
   "cell_type": "code",
   "execution_count": 14,
   "metadata": {
    "ExecuteTime": {
     "end_time": "2021-02-11T14:37:57.833789Z",
     "start_time": "2021-02-11T14:37:57.807861Z"
    }
   },
   "outputs": [
    {
     "name": "stdout",
     "output_type": "stream",
     "text": [
      "Train shops: 42\n",
      "Test shops:  42\n",
      "\n",
      "Shops only in train: 0\n",
      "Same shops at train test: 42\n",
      "Shops only in test: 0\n"
     ]
    }
   ],
   "source": [
    "tr = set(sales.shop_id.unique())\n",
    "te = set(test.shop_id.unique())\n",
    "\n",
    "print(\"Train shops:\", len(tr))\n",
    "print(\"Test shops: \", len(te))\n",
    "print()\n",
    "print(\"Shops only in train:\", len(tr-te))\n",
    "print(\"Same shops at train test:\",  len(tr & te))\n",
    "print(\"Shops only in test:\",  len(te-tr))"
   ]
  },
  {
   "cell_type": "markdown",
   "metadata": {},
   "source": [
    "# <center> PART 2: FEATURE ENGINEERING"
   ]
  },
  {
   "cell_type": "markdown",
   "metadata": {},
   "source": [
    "# Tratamiento de Categorías: Sacar tipo y subtipo"
   ]
  },
  {
   "cell_type": "code",
   "execution_count": 15,
   "metadata": {
    "ExecuteTime": {
     "end_time": "2021-02-11T14:37:57.845743Z",
     "start_time": "2021-02-11T14:37:57.835768Z"
    }
   },
   "outputs": [
    {
     "data": {
      "text/html": [
       "<div>\n",
       "<style scoped>\n",
       "    .dataframe tbody tr th:only-of-type {\n",
       "        vertical-align: middle;\n",
       "    }\n",
       "\n",
       "    .dataframe tbody tr th {\n",
       "        vertical-align: top;\n",
       "    }\n",
       "\n",
       "    .dataframe thead th {\n",
       "        text-align: right;\n",
       "    }\n",
       "</style>\n",
       "<table border=\"1\" class=\"dataframe\">\n",
       "  <thead>\n",
       "    <tr style=\"text-align: right;\">\n",
       "      <th></th>\n",
       "      <th>item_category_name</th>\n",
       "      <th>item_category_id</th>\n",
       "    </tr>\n",
       "  </thead>\n",
       "  <tbody>\n",
       "    <tr>\n",
       "      <th>0</th>\n",
       "      <td>PC - Headsets / Headphones</td>\n",
       "      <td>0</td>\n",
       "    </tr>\n",
       "    <tr>\n",
       "      <th>1</th>\n",
       "      <td>Accessories - PS2</td>\n",
       "      <td>1</td>\n",
       "    </tr>\n",
       "    <tr>\n",
       "      <th>2</th>\n",
       "      <td>Accessories - PS3</td>\n",
       "      <td>2</td>\n",
       "    </tr>\n",
       "    <tr>\n",
       "      <th>3</th>\n",
       "      <td>Accessories - PS4</td>\n",
       "      <td>3</td>\n",
       "    </tr>\n",
       "    <tr>\n",
       "      <th>4</th>\n",
       "      <td>Accessories - PSP</td>\n",
       "      <td>4</td>\n",
       "    </tr>\n",
       "  </tbody>\n",
       "</table>\n",
       "</div>"
      ],
      "text/plain": [
       "           item_category_name  item_category_id\n",
       "0  PC - Headsets / Headphones                 0\n",
       "1           Accessories - PS2                 1\n",
       "2           Accessories - PS3                 2\n",
       "3           Accessories - PS4                 3\n",
       "4           Accessories - PSP                 4"
      ]
     },
     "execution_count": 15,
     "metadata": {},
     "output_type": "execute_result"
    }
   ],
   "source": [
    "cats.head() #Аксессуары - PS2 --> Accesorios PS2"
   ]
  },
  {
   "cell_type": "code",
   "execution_count": 16,
   "metadata": {
    "ExecuteTime": {
     "end_time": "2021-02-11T14:37:57.861743Z",
     "start_time": "2021-02-11T14:37:57.847746Z"
    }
   },
   "outputs": [
    {
     "data": {
      "text/html": [
       "<div>\n",
       "<style scoped>\n",
       "    .dataframe tbody tr th:only-of-type {\n",
       "        vertical-align: middle;\n",
       "    }\n",
       "\n",
       "    .dataframe tbody tr th {\n",
       "        vertical-align: top;\n",
       "    }\n",
       "\n",
       "    .dataframe thead th {\n",
       "        text-align: right;\n",
       "    }\n",
       "</style>\n",
       "<table border=\"1\" class=\"dataframe\">\n",
       "  <thead>\n",
       "    <tr style=\"text-align: right;\">\n",
       "      <th></th>\n",
       "      <th>item_category_name</th>\n",
       "      <th>item_category_id</th>\n",
       "      <th>item_type</th>\n",
       "      <th>item_subtype</th>\n",
       "    </tr>\n",
       "  </thead>\n",
       "  <tbody>\n",
       "    <tr>\n",
       "      <th>0</th>\n",
       "      <td>PC - Headsets / Headphones</td>\n",
       "      <td>0</td>\n",
       "      <td>PC</td>\n",
       "      <td>Headsets / Headphones</td>\n",
       "    </tr>\n",
       "    <tr>\n",
       "      <th>1</th>\n",
       "      <td>Accessories - PS2</td>\n",
       "      <td>1</td>\n",
       "      <td>Accessories</td>\n",
       "      <td>PS2</td>\n",
       "    </tr>\n",
       "    <tr>\n",
       "      <th>2</th>\n",
       "      <td>Accessories - PS3</td>\n",
       "      <td>2</td>\n",
       "      <td>Accessories</td>\n",
       "      <td>PS3</td>\n",
       "    </tr>\n",
       "    <tr>\n",
       "      <th>3</th>\n",
       "      <td>Accessories - PS4</td>\n",
       "      <td>3</td>\n",
       "      <td>Accessories</td>\n",
       "      <td>PS4</td>\n",
       "    </tr>\n",
       "    <tr>\n",
       "      <th>4</th>\n",
       "      <td>Accessories - PSP</td>\n",
       "      <td>4</td>\n",
       "      <td>Accessories</td>\n",
       "      <td>PSP</td>\n",
       "    </tr>\n",
       "  </tbody>\n",
       "</table>\n",
       "</div>"
      ],
      "text/plain": [
       "           item_category_name  item_category_id    item_type  \\\n",
       "0  PC - Headsets / Headphones                 0           PC   \n",
       "1           Accessories - PS2                 1  Accessories   \n",
       "2           Accessories - PS3                 2  Accessories   \n",
       "3           Accessories - PS4                 3  Accessories   \n",
       "4           Accessories - PSP                 4  Accessories   \n",
       "\n",
       "            item_subtype  \n",
       "0  Headsets / Headphones  \n",
       "1                    PS2  \n",
       "2                    PS3  \n",
       "3                    PS4  \n",
       "4                    PSP  "
      ]
     },
     "execution_count": 16,
     "metadata": {},
     "output_type": "execute_result"
    }
   ],
   "source": [
    "split = cats['item_category_name'].str.split('-') # dividir el nombre de la categoría por '-'\n",
    "\n",
    "cats['item_type']    = split.map(lambda x: x[0].strip()) # primera parte tipo de categoría\n",
    "cats['item_subtype'] = split.map(lambda x: x[1].strip() if len(x) > 1 else x[0].strip()) #segunda parte subtipo\n",
    "cats.head()"
   ]
  },
  {
   "cell_type": "code",
   "execution_count": 17,
   "metadata": {
    "ExecuteTime": {
     "end_time": "2021-02-11T14:37:57.874680Z",
     "start_time": "2021-02-11T14:37:57.863696Z"
    }
   },
   "outputs": [
    {
     "data": {
      "text/html": [
       "<div>\n",
       "<style scoped>\n",
       "    .dataframe tbody tr th:only-of-type {\n",
       "        vertical-align: middle;\n",
       "    }\n",
       "\n",
       "    .dataframe tbody tr th {\n",
       "        vertical-align: top;\n",
       "    }\n",
       "\n",
       "    .dataframe thead th {\n",
       "        text-align: right;\n",
       "    }\n",
       "</style>\n",
       "<table border=\"1\" class=\"dataframe\">\n",
       "  <thead>\n",
       "    <tr style=\"text-align: right;\">\n",
       "      <th></th>\n",
       "      <th>item_category_id</th>\n",
       "      <th>item_type</th>\n",
       "      <th>item_subtype</th>\n",
       "    </tr>\n",
       "  </thead>\n",
       "  <tbody>\n",
       "    <tr>\n",
       "      <th>0</th>\n",
       "      <td>0</td>\n",
       "      <td>13</td>\n",
       "      <td>38</td>\n",
       "    </tr>\n",
       "    <tr>\n",
       "      <th>1</th>\n",
       "      <td>1</td>\n",
       "      <td>0</td>\n",
       "      <td>47</td>\n",
       "    </tr>\n",
       "    <tr>\n",
       "      <th>2</th>\n",
       "      <td>2</td>\n",
       "      <td>0</td>\n",
       "      <td>48</td>\n",
       "    </tr>\n",
       "    <tr>\n",
       "      <th>3</th>\n",
       "      <td>3</td>\n",
       "      <td>0</td>\n",
       "      <td>49</td>\n",
       "    </tr>\n",
       "    <tr>\n",
       "      <th>4</th>\n",
       "      <td>4</td>\n",
       "      <td>0</td>\n",
       "      <td>51</td>\n",
       "    </tr>\n",
       "  </tbody>\n",
       "</table>\n",
       "</div>"
      ],
      "text/plain": [
       "   item_category_id  item_type  item_subtype\n",
       "0                 0         13            38\n",
       "1                 1          0            47\n",
       "2                 2          0            48\n",
       "3                 3          0            49\n",
       "4                 4          0            51"
      ]
     },
     "execution_count": 17,
     "metadata": {},
     "output_type": "execute_result"
    }
   ],
   "source": [
    "# Codificar\n",
    "cats['item_type']    = LabelEncoder().fit_transform(cats['item_type'])\n",
    "cats['item_subtype'] = LabelEncoder().fit_transform(cats['item_subtype'])\n",
    "cats = cats[['item_category_id', 'item_type', 'item_subtype']]\n",
    "cats.head()"
   ]
  },
  {
   "cell_type": "markdown",
   "metadata": {},
   "source": [
    "# Tratamiento de Productos"
   ]
  },
  {
   "cell_type": "code",
   "execution_count": 18,
   "metadata": {
    "ExecuteTime": {
     "end_time": "2021-02-11T14:37:57.884639Z",
     "start_time": "2021-02-11T14:37:57.876660Z"
    }
   },
   "outputs": [
    {
     "data": {
      "text/plain": [
       "(22170, 22170)"
      ]
     },
     "execution_count": 18,
     "metadata": {},
     "output_type": "execute_result"
    }
   ],
   "source": [
    "items.item_id.nunique(), len(items)"
   ]
  },
  {
   "cell_type": "code",
   "execution_count": 19,
   "metadata": {
    "ExecuteTime": {
     "end_time": "2021-02-11T14:37:57.900599Z",
     "start_time": "2021-02-11T14:37:57.886634Z"
    }
   },
   "outputs": [
    {
     "data": {
      "text/html": [
       "<div>\n",
       "<style scoped>\n",
       "    .dataframe tbody tr th:only-of-type {\n",
       "        vertical-align: middle;\n",
       "    }\n",
       "\n",
       "    .dataframe tbody tr th {\n",
       "        vertical-align: top;\n",
       "    }\n",
       "\n",
       "    .dataframe thead th {\n",
       "        text-align: right;\n",
       "    }\n",
       "</style>\n",
       "<table border=\"1\" class=\"dataframe\">\n",
       "  <thead>\n",
       "    <tr style=\"text-align: right;\">\n",
       "      <th></th>\n",
       "      <th>item_id</th>\n",
       "      <th>item_category_id</th>\n",
       "      <th>item_name</th>\n",
       "    </tr>\n",
       "  </thead>\n",
       "  <tbody>\n",
       "    <tr>\n",
       "      <th>0</th>\n",
       "      <td>0</td>\n",
       "      <td>40</td>\n",
       "      <td>!! IN THE POWER OF HAPPINESS (PLAST) D</td>\n",
       "    </tr>\n",
       "    <tr>\n",
       "      <th>1</th>\n",
       "      <td>1</td>\n",
       "      <td>76</td>\n",
       "      <td>! ABBYY FineReader 12 Professional Edition Ful...</td>\n",
       "    </tr>\n",
       "    <tr>\n",
       "      <th>2</th>\n",
       "      <td>2</td>\n",
       "      <td>40</td>\n",
       "      <td>*** IN THE GLORY OF THE GLORY (UNV) D</td>\n",
       "    </tr>\n",
       "    <tr>\n",
       "      <th>3</th>\n",
       "      <td>3</td>\n",
       "      <td>40</td>\n",
       "      <td>*** BLUE WAVE (Univ) D</td>\n",
       "    </tr>\n",
       "    <tr>\n",
       "      <th>4</th>\n",
       "      <td>4</td>\n",
       "      <td>40</td>\n",
       "      <td>*** BOX (GLASS) D</td>\n",
       "    </tr>\n",
       "    <tr>\n",
       "      <th>5</th>\n",
       "      <td>5</td>\n",
       "      <td>40</td>\n",
       "      <td>*** NEW AMERICAN GRAPHICS (UNI) D</td>\n",
       "    </tr>\n",
       "    <tr>\n",
       "      <th>6</th>\n",
       "      <td>6</td>\n",
       "      <td>40</td>\n",
       "      <td>*** BLOCK ON THE GATES (UNI) D</td>\n",
       "    </tr>\n",
       "    <tr>\n",
       "      <th>7</th>\n",
       "      <td>7</td>\n",
       "      <td>40</td>\n",
       "      <td>*** SHOCK AT DOOR-2 (UNI) D</td>\n",
       "    </tr>\n",
       "    <tr>\n",
       "      <th>8</th>\n",
       "      <td>8</td>\n",
       "      <td>40</td>\n",
       "      <td>*** TEA WITH MUSSOLINI D</td>\n",
       "    </tr>\n",
       "    <tr>\n",
       "      <th>9</th>\n",
       "      <td>9</td>\n",
       "      <td>40</td>\n",
       "      <td>*** SHUGARLEND EXPRESS (UNI) D</td>\n",
       "    </tr>\n",
       "    <tr>\n",
       "      <th>10</th>\n",
       "      <td>10</td>\n",
       "      <td>40</td>\n",
       "      <td>* Beyond Death's Edge D</td>\n",
       "    </tr>\n",
       "    <tr>\n",
       "      <th>11</th>\n",
       "      <td>11</td>\n",
       "      <td>40</td>\n",
       "      <td>* LINE OF COMMENTS D</td>\n",
       "    </tr>\n",
       "    <tr>\n",
       "      <th>12</th>\n",
       "      <td>12</td>\n",
       "      <td>55</td>\n",
       "      <td>* MICHAEL AND JUMANJI Female love</td>\n",
       "    </tr>\n",
       "    <tr>\n",
       "      <th>13</th>\n",
       "      <td>13</td>\n",
       "      <td>40</td>\n",
       "      <td>* SAVING EMILY D</td>\n",
       "    </tr>\n",
       "    <tr>\n",
       "      <th>14</th>\n",
       "      <td>14</td>\n",
       "      <td>40</td>\n",
       "      <td>* PRIVATE PROFESSOR / MAGIC / D</td>\n",
       "    </tr>\n",
       "    <tr>\n",
       "      <th>15</th>\n",
       "      <td>15</td>\n",
       "      <td>40</td>\n",
       "      <td>// ADRENALIN: ONE AGAINST ALL (Region)</td>\n",
       "    </tr>\n",
       "    <tr>\n",
       "      <th>16</th>\n",
       "      <td>16</td>\n",
       "      <td>40</td>\n",
       "      <td>// MONGOL S.Bodrov (Region)</td>\n",
       "    </tr>\n",
       "    <tr>\n",
       "      <th>17</th>\n",
       "      <td>17</td>\n",
       "      <td>40</td>\n",
       "      <td>// NOT OBSERVING THE TRACK (Region)</td>\n",
       "    </tr>\n",
       "    <tr>\n",
       "      <th>18</th>\n",
       "      <td>18</td>\n",
       "      <td>40</td>\n",
       "      <td>/ BOMB FOR THE BRIDE / 2DVD / D</td>\n",
       "    </tr>\n",
       "    <tr>\n",
       "      <th>19</th>\n",
       "      <td>19</td>\n",
       "      <td>40</td>\n",
       "      <td>/ GOLDEN COLLECTION m / f-72</td>\n",
       "    </tr>\n",
       "  </tbody>\n",
       "</table>\n",
       "</div>"
      ],
      "text/plain": [
       "    item_id  item_category_id  \\\n",
       "0         0                40   \n",
       "1         1                76   \n",
       "2         2                40   \n",
       "3         3                40   \n",
       "4         4                40   \n",
       "5         5                40   \n",
       "6         6                40   \n",
       "7         7                40   \n",
       "8         8                40   \n",
       "9         9                40   \n",
       "10       10                40   \n",
       "11       11                40   \n",
       "12       12                55   \n",
       "13       13                40   \n",
       "14       14                40   \n",
       "15       15                40   \n",
       "16       16                40   \n",
       "17       17                40   \n",
       "18       18                40   \n",
       "19       19                40   \n",
       "\n",
       "                                            item_name  \n",
       "0              !! IN THE POWER OF HAPPINESS (PLAST) D  \n",
       "1   ! ABBYY FineReader 12 Professional Edition Ful...  \n",
       "2               *** IN THE GLORY OF THE GLORY (UNV) D  \n",
       "3                              *** BLUE WAVE (Univ) D  \n",
       "4                                   *** BOX (GLASS) D  \n",
       "5                   *** NEW AMERICAN GRAPHICS (UNI) D  \n",
       "6                      *** BLOCK ON THE GATES (UNI) D  \n",
       "7                         *** SHOCK AT DOOR-2 (UNI) D  \n",
       "8                            *** TEA WITH MUSSOLINI D  \n",
       "9                      *** SHUGARLEND EXPRESS (UNI) D  \n",
       "10                            * Beyond Death's Edge D  \n",
       "11                               * LINE OF COMMENTS D  \n",
       "12                  * MICHAEL AND JUMANJI Female love  \n",
       "13                                   * SAVING EMILY D  \n",
       "14                    * PRIVATE PROFESSOR / MAGIC / D  \n",
       "15             // ADRENALIN: ONE AGAINST ALL (Region)  \n",
       "16                        // MONGOL S.Bodrov (Region)  \n",
       "17                // NOT OBSERVING THE TRACK (Region)  \n",
       "18                    / BOMB FOR THE BRIDE / 2DVD / D  \n",
       "19                       / GOLDEN COLLECTION m / f-72  "
      ]
     },
     "execution_count": 19,
     "metadata": {},
     "output_type": "execute_result"
    }
   ],
   "source": [
    "items.head(20)"
   ]
  },
  {
   "cell_type": "code",
   "execution_count": 20,
   "metadata": {
    "ExecuteTime": {
     "end_time": "2021-02-11T14:37:57.907616Z",
     "start_time": "2021-02-11T14:37:57.902592Z"
    }
   },
   "outputs": [],
   "source": [
    "# en esta demo no hacemos uso del nombre del producto,\n",
    "# pero se podría crear un diccionario de palabras\n",
    "items.drop(['item_name'], axis=1, inplace=True)"
   ]
  },
  {
   "cell_type": "code",
   "execution_count": 21,
   "metadata": {
    "ExecuteTime": {
     "end_time": "2021-02-11T14:37:57.917560Z",
     "start_time": "2021-02-11T14:37:57.910570Z"
    }
   },
   "outputs": [
    {
     "data": {
      "text/html": [
       "<div>\n",
       "<style scoped>\n",
       "    .dataframe tbody tr th:only-of-type {\n",
       "        vertical-align: middle;\n",
       "    }\n",
       "\n",
       "    .dataframe tbody tr th {\n",
       "        vertical-align: top;\n",
       "    }\n",
       "\n",
       "    .dataframe thead th {\n",
       "        text-align: right;\n",
       "    }\n",
       "</style>\n",
       "<table border=\"1\" class=\"dataframe\">\n",
       "  <thead>\n",
       "    <tr style=\"text-align: right;\">\n",
       "      <th></th>\n",
       "      <th>item_id</th>\n",
       "      <th>item_category_id</th>\n",
       "    </tr>\n",
       "  </thead>\n",
       "  <tbody>\n",
       "    <tr>\n",
       "      <th>0</th>\n",
       "      <td>0</td>\n",
       "      <td>40</td>\n",
       "    </tr>\n",
       "    <tr>\n",
       "      <th>1</th>\n",
       "      <td>1</td>\n",
       "      <td>76</td>\n",
       "    </tr>\n",
       "    <tr>\n",
       "      <th>2</th>\n",
       "      <td>2</td>\n",
       "      <td>40</td>\n",
       "    </tr>\n",
       "    <tr>\n",
       "      <th>3</th>\n",
       "      <td>3</td>\n",
       "      <td>40</td>\n",
       "    </tr>\n",
       "    <tr>\n",
       "      <th>4</th>\n",
       "      <td>4</td>\n",
       "      <td>40</td>\n",
       "    </tr>\n",
       "  </tbody>\n",
       "</table>\n",
       "</div>"
      ],
      "text/plain": [
       "   item_id  item_category_id\n",
       "0        0                40\n",
       "1        1                76\n",
       "2        2                40\n",
       "3        3                40\n",
       "4        4                40"
      ]
     },
     "execution_count": 21,
     "metadata": {},
     "output_type": "execute_result"
    }
   ],
   "source": [
    "items.head()"
   ]
  },
  {
   "cell_type": "markdown",
   "metadata": {},
   "source": [
    "# Análisis de Test"
   ]
  },
  {
   "cell_type": "code",
   "execution_count": 22,
   "metadata": {
    "ExecuteTime": {
     "end_time": "2021-02-11T14:37:57.925528Z",
     "start_time": "2021-02-11T14:37:57.919544Z"
    }
   },
   "outputs": [
    {
     "data": {
      "text/plain": [
       "(2427355, 214200)"
      ]
     },
     "execution_count": 22,
     "metadata": {},
     "output_type": "execute_result"
    }
   ],
   "source": [
    "len(sales), len(test)"
   ]
  },
  {
   "cell_type": "code",
   "execution_count": 23,
   "metadata": {
    "ExecuteTime": {
     "end_time": "2021-02-11T14:37:58.863138Z",
     "start_time": "2021-02-11T14:37:57.927524Z"
    }
   },
   "outputs": [
    {
     "name": "stdout",
     "output_type": "stream",
     "text": [
      "From 214200 rows TEST:\n",
      "\n",
      "1. The item is at same shop in train: 111904 52.24 %\n",
      "2. Item exits in train but in another shop: 86420 40.35 %\n",
      "3. Thr item is completely new: 15876 7.41 %\n"
     ]
    }
   ],
   "source": [
    "good_sales = test.reset_index().merge(sales, on=['item_id','shop_id'], how='left').dropna()\n",
    "good_pairs = test[test.reset_index()['ID'].isin(good_sales['ID'])]\n",
    "no_data_items = test[~(test['item_id'].isin(sales['item_id']))]\n",
    "\n",
    "total = len(test)\n",
    "caso1 = len(good_pairs)\n",
    "caso2 = len(test)-len(no_data_items)-len(good_pairs)\n",
    "caso3 = len(no_data_items)\n",
    "\n",
    "print(\"From\", total, \"rows TEST:\\n\")\n",
    "print('1. The item is at same shop in train:', caso1, round(caso1/total*100,2), \"%\")\n",
    "print('2. Item exits in train but in another shop:', caso2, round(caso2/total*100,2), \"%\")\n",
    "print('3. Thr item is completely new:', caso3, round(caso3/total*100,2), \"%\")"
   ]
  },
  {
   "cell_type": "markdown",
   "metadata": {},
   "source": [
    "---\n",
    "# <center> UNIFY THE TABLES"
   ]
  },
  {
   "cell_type": "markdown",
   "metadata": {},
   "source": [
    "# Matrix - Todos los productos para todas las tiendas y todos los meses\n",
    "- Hay productos que no aparecen para algunos meses y tiendas, y se deben rellenar con cero\n",
    "- Calcular la suma de ventas por mes - trabajamos por meses\n",
    "- Recortar a 20 es una recondemación de los organizadores del concurso\n",
    "- Rellenar a cero los valores nulos"
   ]
  },
  {
   "cell_type": "code",
   "execution_count": 24,
   "metadata": {
    "ExecuteTime": {
     "end_time": "2021-02-11T14:37:58.935689Z",
     "start_time": "2021-02-11T14:37:58.865851Z"
    }
   },
   "outputs": [
    {
     "data": {
      "text/plain": [
       "(42, 20693, 34)"
      ]
     },
     "execution_count": 24,
     "metadata": {},
     "output_type": "execute_result"
    }
   ],
   "source": [
    "sales.shop_id.nunique(), sales.item_id.nunique(), sales.date_block_num.nunique() "
   ]
  },
  {
   "cell_type": "code",
   "execution_count": 25,
   "metadata": {
    "ExecuteTime": {
     "end_time": "2021-02-11T14:37:59.006493Z",
     "start_time": "2021-02-11T14:37:58.937646Z"
    }
   },
   "outputs": [
    {
     "data": {
      "text/plain": [
       "29549604"
      ]
     },
     "execution_count": 25,
     "metadata": {},
     "output_type": "execute_result"
    }
   ],
   "source": [
    "sales.shop_id.nunique() * sales.item_id.nunique() * sales.date_block_num.nunique() "
   ]
  },
  {
   "cell_type": "code",
   "execution_count": 26,
   "metadata": {
    "ExecuteTime": {
     "end_time": "2021-02-11T14:37:59.356075Z",
     "start_time": "2021-02-11T14:37:59.013476Z"
    }
   },
   "outputs": [
    {
     "name": "stdout",
     "output_type": "stream",
     "text": [
      "0 264075\n",
      "1 272628\n",
      "2 279288\n",
      "3 272664\n",
      "4 285936\n",
      "5 293558\n",
      "6 291782\n",
      "7 276353\n",
      "8 269952\n",
      "9 270507\n",
      "10 274318\n",
      "11 300200\n",
      "12 264062\n",
      "13 252434\n",
      "14 256737\n",
      "15 251440\n",
      "16 249600\n",
      "17 249120\n",
      "18 252847\n",
      "19 244278\n",
      "20 234397\n",
      "21 239153\n",
      "22 244565\n",
      "23 258505\n",
      "24 237513\n",
      "25 238333\n",
      "26 239604\n",
      "27 220006\n",
      "28 211150\n",
      "29 208895\n",
      "30 213897\n",
      "31 207460\n",
      "32 207419\n",
      "33 220920\n"
     ]
    },
    {
     "data": {
      "text/plain": [
       "8553596"
      ]
     },
     "execution_count": 26,
     "metadata": {},
     "output_type": "execute_result"
    }
   ],
   "source": [
    "possibilities = 0\n",
    "\n",
    "for month in range(34):\n",
    "\n",
    "    sales_of_month = sales[sales.date_block_num==month]\n",
    "    possibilities_of_month = sales_of_month.item_id.nunique() * sales_of_month.shop_id.nunique()\n",
    "    \n",
    "    print(month, possibilities_of_month)\n",
    "    possibilities += possibilities_of_month\n",
    "    \n",
    "possibilities"
   ]
  },
  {
   "cell_type": "code",
   "execution_count": 27,
   "metadata": {
    "ExecuteTime": {
     "end_time": "2021-02-11T14:37:59.375015Z",
     "start_time": "2021-02-11T14:37:59.359057Z"
    }
   },
   "outputs": [
    {
     "data": {
      "text/html": [
       "<div>\n",
       "<style scoped>\n",
       "    .dataframe tbody tr th:only-of-type {\n",
       "        vertical-align: middle;\n",
       "    }\n",
       "\n",
       "    .dataframe tbody tr th {\n",
       "        vertical-align: top;\n",
       "    }\n",
       "\n",
       "    .dataframe thead th {\n",
       "        text-align: right;\n",
       "    }\n",
       "</style>\n",
       "<table border=\"1\" class=\"dataframe\">\n",
       "  <thead>\n",
       "    <tr style=\"text-align: right;\">\n",
       "      <th></th>\n",
       "      <th>date</th>\n",
       "      <th>date_block_num</th>\n",
       "      <th>shop_id</th>\n",
       "      <th>item_id</th>\n",
       "      <th>item_price</th>\n",
       "      <th>item_cnt_day</th>\n",
       "      <th>weekday</th>\n",
       "      <th>first_sale_day</th>\n",
       "    </tr>\n",
       "  </thead>\n",
       "  <tbody>\n",
       "    <tr>\n",
       "      <th>2882335</th>\n",
       "      <td>2015-10-23</td>\n",
       "      <td>33</td>\n",
       "      <td>45</td>\n",
       "      <td>13315</td>\n",
       "      <td>649.0</td>\n",
       "      <td>1.0</td>\n",
       "      <td>4</td>\n",
       "      <td>963</td>\n",
       "    </tr>\n",
       "    <tr>\n",
       "      <th>2882336</th>\n",
       "      <td>2015-10-05</td>\n",
       "      <td>33</td>\n",
       "      <td>45</td>\n",
       "      <td>13880</td>\n",
       "      <td>229.0</td>\n",
       "      <td>1.0</td>\n",
       "      <td>0</td>\n",
       "      <td>662</td>\n",
       "    </tr>\n",
       "    <tr>\n",
       "      <th>2882337</th>\n",
       "      <td>2015-10-02</td>\n",
       "      <td>33</td>\n",
       "      <td>45</td>\n",
       "      <td>13881</td>\n",
       "      <td>659.0</td>\n",
       "      <td>1.0</td>\n",
       "      <td>4</td>\n",
       "      <td>1</td>\n",
       "    </tr>\n",
       "    <tr>\n",
       "      <th>2882338</th>\n",
       "      <td>2015-10-12</td>\n",
       "      <td>33</td>\n",
       "      <td>45</td>\n",
       "      <td>13881</td>\n",
       "      <td>659.0</td>\n",
       "      <td>1.0</td>\n",
       "      <td>0</td>\n",
       "      <td>1</td>\n",
       "    </tr>\n",
       "    <tr>\n",
       "      <th>2882339</th>\n",
       "      <td>2015-10-04</td>\n",
       "      <td>33</td>\n",
       "      <td>45</td>\n",
       "      <td>13923</td>\n",
       "      <td>169.0</td>\n",
       "      <td>1.0</td>\n",
       "      <td>6</td>\n",
       "      <td>3</td>\n",
       "    </tr>\n",
       "    <tr>\n",
       "      <th>...</th>\n",
       "      <td>...</td>\n",
       "      <td>...</td>\n",
       "      <td>...</td>\n",
       "      <td>...</td>\n",
       "      <td>...</td>\n",
       "      <td>...</td>\n",
       "      <td>...</td>\n",
       "      <td>...</td>\n",
       "    </tr>\n",
       "    <tr>\n",
       "      <th>2935844</th>\n",
       "      <td>2015-10-10</td>\n",
       "      <td>33</td>\n",
       "      <td>25</td>\n",
       "      <td>7409</td>\n",
       "      <td>299.0</td>\n",
       "      <td>1.0</td>\n",
       "      <td>5</td>\n",
       "      <td>1003</td>\n",
       "    </tr>\n",
       "    <tr>\n",
       "      <th>2935845</th>\n",
       "      <td>2015-10-09</td>\n",
       "      <td>33</td>\n",
       "      <td>25</td>\n",
       "      <td>7460</td>\n",
       "      <td>299.0</td>\n",
       "      <td>1.0</td>\n",
       "      <td>4</td>\n",
       "      <td>761</td>\n",
       "    </tr>\n",
       "    <tr>\n",
       "      <th>2935846</th>\n",
       "      <td>2015-10-14</td>\n",
       "      <td>33</td>\n",
       "      <td>25</td>\n",
       "      <td>7459</td>\n",
       "      <td>349.0</td>\n",
       "      <td>1.0</td>\n",
       "      <td>2</td>\n",
       "      <td>2</td>\n",
       "    </tr>\n",
       "    <tr>\n",
       "      <th>2935847</th>\n",
       "      <td>2015-10-22</td>\n",
       "      <td>33</td>\n",
       "      <td>25</td>\n",
       "      <td>7440</td>\n",
       "      <td>299.0</td>\n",
       "      <td>1.0</td>\n",
       "      <td>3</td>\n",
       "      <td>803</td>\n",
       "    </tr>\n",
       "    <tr>\n",
       "      <th>2935848</th>\n",
       "      <td>2015-10-03</td>\n",
       "      <td>33</td>\n",
       "      <td>25</td>\n",
       "      <td>7460</td>\n",
       "      <td>299.0</td>\n",
       "      <td>1.0</td>\n",
       "      <td>5</td>\n",
       "      <td>761</td>\n",
       "    </tr>\n",
       "  </tbody>\n",
       "</table>\n",
       "<p>51695 rows × 8 columns</p>\n",
       "</div>"
      ],
      "text/plain": [
       "              date  date_block_num  shop_id  item_id  item_price  \\\n",
       "2882335 2015-10-23              33       45    13315       649.0   \n",
       "2882336 2015-10-05              33       45    13880       229.0   \n",
       "2882337 2015-10-02              33       45    13881       659.0   \n",
       "2882338 2015-10-12              33       45    13881       659.0   \n",
       "2882339 2015-10-04              33       45    13923       169.0   \n",
       "...            ...             ...      ...      ...         ...   \n",
       "2935844 2015-10-10              33       25     7409       299.0   \n",
       "2935845 2015-10-09              33       25     7460       299.0   \n",
       "2935846 2015-10-14              33       25     7459       349.0   \n",
       "2935847 2015-10-22              33       25     7440       299.0   \n",
       "2935848 2015-10-03              33       25     7460       299.0   \n",
       "\n",
       "         item_cnt_day  weekday  first_sale_day  \n",
       "2882335           1.0        4             963  \n",
       "2882336           1.0        0             662  \n",
       "2882337           1.0        4               1  \n",
       "2882338           1.0        0               1  \n",
       "2882339           1.0        6               3  \n",
       "...               ...      ...             ...  \n",
       "2935844           1.0        5            1003  \n",
       "2935845           1.0        4             761  \n",
       "2935846           1.0        2               2  \n",
       "2935847           1.0        3             803  \n",
       "2935848           1.0        5             761  \n",
       "\n",
       "[51695 rows x 8 columns]"
      ]
     },
     "execution_count": 27,
     "metadata": {},
     "output_type": "execute_result"
    }
   ],
   "source": [
    "sales_of_month"
   ]
  },
  {
   "cell_type": "code",
   "execution_count": 28,
   "metadata": {
    "ExecuteTime": {
     "end_time": "2021-02-11T14:38:09.895659Z",
     "start_time": "2021-02-11T14:37:59.377010Z"
    }
   },
   "outputs": [
    {
     "name": "stdout",
     "output_type": "stream",
     "text": [
      "Month 0 \t 35 shops, 7545 items\n",
      "Month 1 \t 36 shops, 7573 items\n",
      "Month 2 \t 36 shops, 7758 items\n",
      "Month 3 \t 36 shops, 7574 items\n",
      "Month 4 \t 37 shops, 7728 items\n",
      "Month 5 \t 37 shops, 7934 items\n",
      "Month 6 \t 37 shops, 7886 items\n",
      "Month 7 \t 37 shops, 7469 items\n",
      "Month 8 \t 37 shops, 7296 items\n",
      "Month 9 \t 37 shops, 7311 items\n",
      "Month 10 \t 37 shops, 7414 items\n",
      "Month 11 \t 38 shops, 7900 items\n",
      "Month 12 \t 38 shops, 6949 items\n",
      "Month 13 \t 38 shops, 6643 items\n",
      "Month 14 \t 39 shops, 6583 items\n",
      "Month 15 \t 40 shops, 6286 items\n",
      "Month 16 \t 40 shops, 6240 items\n",
      "Month 17 \t 40 shops, 6228 items\n",
      "Month 18 \t 41 shops, 6167 items\n",
      "Month 19 \t 41 shops, 5958 items\n",
      "Month 20 \t 41 shops, 5717 items\n",
      "Month 21 \t 41 shops, 5833 items\n",
      "Month 22 \t 41 shops, 5965 items\n",
      "Month 23 \t 41 shops, 6305 items\n",
      "Month 24 \t 41 shops, 5793 items\n",
      "Month 25 \t 41 shops, 5813 items\n",
      "Month 26 \t 41 shops, 5844 items\n",
      "Month 27 \t 41 shops, 5366 items\n",
      "Month 28 \t 41 shops, 5150 items\n",
      "Month 29 \t 41 shops, 5095 items\n",
      "Month 30 \t 41 shops, 5217 items\n",
      "Month 31 \t 41 shops, 5060 items\n",
      "Month 32 \t 41 shops, 5059 items\n",
      "Month 33 \t 42 shops, 5260 items\n"
     ]
    },
    {
     "data": {
      "text/html": [
       "<div>\n",
       "<style scoped>\n",
       "    .dataframe tbody tr th:only-of-type {\n",
       "        vertical-align: middle;\n",
       "    }\n",
       "\n",
       "    .dataframe tbody tr th {\n",
       "        vertical-align: top;\n",
       "    }\n",
       "\n",
       "    .dataframe thead th {\n",
       "        text-align: right;\n",
       "    }\n",
       "</style>\n",
       "<table border=\"1\" class=\"dataframe\">\n",
       "  <thead>\n",
       "    <tr style=\"text-align: right;\">\n",
       "      <th></th>\n",
       "      <th>date_block_num</th>\n",
       "      <th>shop_id</th>\n",
       "      <th>item_id</th>\n",
       "    </tr>\n",
       "  </thead>\n",
       "  <tbody>\n",
       "    <tr>\n",
       "      <th>0</th>\n",
       "      <td>0</td>\n",
       "      <td>59</td>\n",
       "      <td>22154</td>\n",
       "    </tr>\n",
       "    <tr>\n",
       "      <th>1</th>\n",
       "      <td>0</td>\n",
       "      <td>59</td>\n",
       "      <td>2552</td>\n",
       "    </tr>\n",
       "    <tr>\n",
       "      <th>2</th>\n",
       "      <td>0</td>\n",
       "      <td>59</td>\n",
       "      <td>2554</td>\n",
       "    </tr>\n",
       "    <tr>\n",
       "      <th>3</th>\n",
       "      <td>0</td>\n",
       "      <td>59</td>\n",
       "      <td>2555</td>\n",
       "    </tr>\n",
       "    <tr>\n",
       "      <th>4</th>\n",
       "      <td>0</td>\n",
       "      <td>59</td>\n",
       "      <td>2564</td>\n",
       "    </tr>\n",
       "    <tr>\n",
       "      <th>...</th>\n",
       "      <td>...</td>\n",
       "      <td>...</td>\n",
       "      <td>...</td>\n",
       "    </tr>\n",
       "    <tr>\n",
       "      <th>8553591</th>\n",
       "      <td>33</td>\n",
       "      <td>21</td>\n",
       "      <td>7635</td>\n",
       "    </tr>\n",
       "    <tr>\n",
       "      <th>8553592</th>\n",
       "      <td>33</td>\n",
       "      <td>21</td>\n",
       "      <td>7638</td>\n",
       "    </tr>\n",
       "    <tr>\n",
       "      <th>8553593</th>\n",
       "      <td>33</td>\n",
       "      <td>21</td>\n",
       "      <td>7640</td>\n",
       "    </tr>\n",
       "    <tr>\n",
       "      <th>8553594</th>\n",
       "      <td>33</td>\n",
       "      <td>21</td>\n",
       "      <td>7632</td>\n",
       "    </tr>\n",
       "    <tr>\n",
       "      <th>8553595</th>\n",
       "      <td>33</td>\n",
       "      <td>21</td>\n",
       "      <td>7440</td>\n",
       "    </tr>\n",
       "  </tbody>\n",
       "</table>\n",
       "<p>8553596 rows × 3 columns</p>\n",
       "</div>"
      ],
      "text/plain": [
       "         date_block_num  shop_id  item_id\n",
       "0                     0       59    22154\n",
       "1                     0       59     2552\n",
       "2                     0       59     2554\n",
       "3                     0       59     2555\n",
       "4                     0       59     2564\n",
       "...                 ...      ...      ...\n",
       "8553591              33       21     7635\n",
       "8553592              33       21     7638\n",
       "8553593              33       21     7640\n",
       "8553594              33       21     7632\n",
       "8553595              33       21     7440\n",
       "\n",
       "[8553596 rows x 3 columns]"
      ]
     },
     "execution_count": 28,
     "metadata": {},
     "output_type": "execute_result"
    }
   ],
   "source": [
    "\n",
    "ts = time.time()\n",
    "train = []\n",
    "cols = ['date_block_num', 'shop_id', 'item_id']\n",
    "\n",
    "for month in range(34):\n",
    "    \n",
    "    sales_of_month = sales[sales.date_block_num==month]\n",
    "    \n",
    "    shops_in_month = sales_of_month.shop_id.unique()\n",
    "    items_in_month = sales_of_month.item_id.unique()\n",
    "    \n",
    "    print(\"Month\", month, \"\\t\", len(shops_in_month), \"shops,\", len(items_in_month), \"items\")\n",
    "    \n",
    "    train.append(np.array(list(product([month], shops_in_month, items_in_month)), dtype='int16'))\n",
    "    \n",
    "    \n",
    "train = pd.DataFrame(np.vstack(train), columns=cols)\n",
    "\n",
    "\"\"\"\n",
    "matrix['date_block_num'] = matrix['date_block_num'].astype(np.int8)\n",
    "matrix['shop_id']        = matrix['shop_id'].astype(np.int8)\n",
    "matrix['item_id']        = matrix['item_id'].astype(np.int16)\n",
    "matrix.sort_values(cols, inplace=True)\n",
    "print(time.time() - ts, \"segundos\")\n",
    "print(\"10.9 millones de filas:\", len(matrix))\n",
    "\n",
    "matrix.head()\n",
    "\"\"\"\n",
    "train"
   ]
  },
  {
   "cell_type": "code",
   "execution_count": 29,
   "metadata": {
    "ExecuteTime": {
     "end_time": "2021-02-11T14:38:09.907642Z",
     "start_time": "2021-02-11T14:38:09.897655Z"
    }
   },
   "outputs": [
    {
     "name": "stdout",
     "output_type": "stream",
     "text": [
      "<class 'pandas.core.frame.DataFrame'>\n",
      "RangeIndex: 8553596 entries, 0 to 8553595\n",
      "Data columns (total 3 columns):\n",
      " #   Column          Dtype\n",
      "---  ------          -----\n",
      " 0   date_block_num  int16\n",
      " 1   shop_id         int16\n",
      " 2   item_id         int16\n",
      "dtypes: int16(3)\n",
      "memory usage: 48.9 MB\n"
     ]
    }
   ],
   "source": [
    "train.info(memory_usage=\"deep\")"
   ]
  },
  {
   "cell_type": "code",
   "execution_count": 30,
   "metadata": {
    "ExecuteTime": {
     "end_time": "2021-02-11T14:38:10.475484Z",
     "start_time": "2021-02-11T14:38:09.910619Z"
    }
   },
   "outputs": [
    {
     "ename": "KeyError",
     "evalue": "\"Column 'item_cnt_day' does not exist!\"",
     "output_type": "error",
     "traceback": [
      "\u001b[1;31m---------------------------------------------------------------------------\u001b[0m",
      "\u001b[1;31mKeyError\u001b[0m                                  Traceback (most recent call last)",
      "\u001b[1;32m<ipython-input-30-3daab8bf8a6f>\u001b[0m in \u001b[0;36m<module>\u001b[1;34m\u001b[0m\n\u001b[0;32m      1\u001b[0m \u001b[1;31m#Add month sales (TARGET variable)\u001b[0m\u001b[1;33m\u001b[0m\u001b[1;33m\u001b[0m\u001b[1;33m\u001b[0m\u001b[0m\n\u001b[1;32m----> 2\u001b[1;33m \u001b[0mgroup\u001b[0m \u001b[1;33m=\u001b[0m \u001b[0mtrain\u001b[0m\u001b[1;33m.\u001b[0m\u001b[0mgroupby\u001b[0m\u001b[1;33m(\u001b[0m\u001b[1;33m[\u001b[0m\u001b[1;34m'date_block_num'\u001b[0m\u001b[1;33m,\u001b[0m\u001b[1;34m'shop_id'\u001b[0m\u001b[1;33m,\u001b[0m\u001b[1;34m'item_id'\u001b[0m\u001b[1;33m]\u001b[0m\u001b[1;33m)\u001b[0m\u001b[1;33m.\u001b[0m\u001b[0magg\u001b[0m\u001b[1;33m(\u001b[0m\u001b[1;33m{\u001b[0m\u001b[1;34m'item_cnt_day'\u001b[0m\u001b[1;33m:\u001b[0m \u001b[1;33m[\u001b[0m\u001b[1;34m'sum'\u001b[0m\u001b[1;33m]\u001b[0m\u001b[1;33m}\u001b[0m\u001b[1;33m)\u001b[0m\u001b[1;33m\u001b[0m\u001b[1;33m\u001b[0m\u001b[0m\n\u001b[0m\u001b[0;32m      3\u001b[0m \u001b[0mgroup\u001b[0m\u001b[1;33m.\u001b[0m\u001b[0mcolumns\u001b[0m \u001b[1;33m=\u001b[0m \u001b[1;33m[\u001b[0m\u001b[1;34m'item_cnt_month'\u001b[0m\u001b[1;33m]\u001b[0m\u001b[1;33m\u001b[0m\u001b[1;33m\u001b[0m\u001b[0m\n\u001b[0;32m      4\u001b[0m \u001b[0mgroup\u001b[0m\u001b[1;33m.\u001b[0m\u001b[0mreset_index\u001b[0m\u001b[1;33m(\u001b[0m\u001b[0minplace\u001b[0m\u001b[1;33m=\u001b[0m\u001b[1;32mTrue\u001b[0m\u001b[1;33m)\u001b[0m\u001b[1;33m\u001b[0m\u001b[1;33m\u001b[0m\u001b[0m\n\u001b[0;32m      5\u001b[0m \u001b[0mprint\u001b[0m\u001b[1;33m(\u001b[0m\u001b[1;34m\"1.6 millones de filas:\"\u001b[0m\u001b[1;33m,\u001b[0m \u001b[0mlen\u001b[0m\u001b[1;33m(\u001b[0m\u001b[0mgroup\u001b[0m\u001b[1;33m)\u001b[0m\u001b[1;33m)\u001b[0m\u001b[1;33m\u001b[0m\u001b[1;33m\u001b[0m\u001b[0m\n",
      "\u001b[1;32m~\\anaconda3\\lib\\site-packages\\pandas\\core\\groupby\\generic.py\u001b[0m in \u001b[0;36maggregate\u001b[1;34m(self, func, engine, engine_kwargs, *args, **kwargs)\u001b[0m\n\u001b[0;32m    949\u001b[0m         \u001b[0mfunc\u001b[0m \u001b[1;33m=\u001b[0m \u001b[0mmaybe_mangle_lambdas\u001b[0m\u001b[1;33m(\u001b[0m\u001b[0mfunc\u001b[0m\u001b[1;33m)\u001b[0m\u001b[1;33m\u001b[0m\u001b[1;33m\u001b[0m\u001b[0m\n\u001b[0;32m    950\u001b[0m \u001b[1;33m\u001b[0m\u001b[0m\n\u001b[1;32m--> 951\u001b[1;33m         \u001b[0mresult\u001b[0m\u001b[1;33m,\u001b[0m \u001b[0mhow\u001b[0m \u001b[1;33m=\u001b[0m \u001b[0mself\u001b[0m\u001b[1;33m.\u001b[0m\u001b[0m_aggregate\u001b[0m\u001b[1;33m(\u001b[0m\u001b[0mfunc\u001b[0m\u001b[1;33m,\u001b[0m \u001b[1;33m*\u001b[0m\u001b[0margs\u001b[0m\u001b[1;33m,\u001b[0m \u001b[1;33m**\u001b[0m\u001b[0mkwargs\u001b[0m\u001b[1;33m)\u001b[0m\u001b[1;33m\u001b[0m\u001b[1;33m\u001b[0m\u001b[0m\n\u001b[0m\u001b[0;32m    952\u001b[0m         \u001b[1;32mif\u001b[0m \u001b[0mhow\u001b[0m \u001b[1;32mis\u001b[0m \u001b[1;32mNone\u001b[0m\u001b[1;33m:\u001b[0m\u001b[1;33m\u001b[0m\u001b[1;33m\u001b[0m\u001b[0m\n\u001b[0;32m    953\u001b[0m             \u001b[1;32mreturn\u001b[0m \u001b[0mresult\u001b[0m\u001b[1;33m\u001b[0m\u001b[1;33m\u001b[0m\u001b[0m\n",
      "\u001b[1;32m~\\anaconda3\\lib\\site-packages\\pandas\\core\\base.py\u001b[0m in \u001b[0;36m_aggregate\u001b[1;34m(self, arg, *args, **kwargs)\u001b[0m\n\u001b[0;32m    340\u001b[0m                         \u001b[1;32mraise\u001b[0m \u001b[0mSpecificationError\u001b[0m\u001b[1;33m(\u001b[0m\u001b[1;34m\"nested renamer is not supported\"\u001b[0m\u001b[1;33m)\u001b[0m\u001b[1;33m\u001b[0m\u001b[1;33m\u001b[0m\u001b[0m\n\u001b[0;32m    341\u001b[0m                     \u001b[1;32melif\u001b[0m \u001b[0misinstance\u001b[0m\u001b[1;33m(\u001b[0m\u001b[0mobj\u001b[0m\u001b[1;33m,\u001b[0m \u001b[0mABCDataFrame\u001b[0m\u001b[1;33m)\u001b[0m \u001b[1;32mand\u001b[0m \u001b[0mk\u001b[0m \u001b[1;32mnot\u001b[0m \u001b[1;32min\u001b[0m \u001b[0mobj\u001b[0m\u001b[1;33m.\u001b[0m\u001b[0mcolumns\u001b[0m\u001b[1;33m:\u001b[0m\u001b[1;33m\u001b[0m\u001b[1;33m\u001b[0m\u001b[0m\n\u001b[1;32m--> 342\u001b[1;33m                         \u001b[1;32mraise\u001b[0m \u001b[0mKeyError\u001b[0m\u001b[1;33m(\u001b[0m\u001b[1;34mf\"Column '{k}' does not exist!\"\u001b[0m\u001b[1;33m)\u001b[0m\u001b[1;33m\u001b[0m\u001b[1;33m\u001b[0m\u001b[0m\n\u001b[0m\u001b[0;32m    343\u001b[0m \u001b[1;33m\u001b[0m\u001b[0m\n\u001b[0;32m    344\u001b[0m                 \u001b[0marg\u001b[0m \u001b[1;33m=\u001b[0m \u001b[0mnew_arg\u001b[0m\u001b[1;33m\u001b[0m\u001b[1;33m\u001b[0m\u001b[0m\n",
      "\u001b[1;31mKeyError\u001b[0m: \"Column 'item_cnt_day' does not exist!\""
     ]
    }
   ],
   "source": [
    "#Add month sales (TARGET variable)\n",
    "group = train.groupby(['date_block_num','shop_id','item_id']).agg({'item_cnt_day': ['sum']})\n",
    "group.columns = ['item_cnt_month']\n",
    "group.reset_index(inplace=True)\n",
    "print(\"1.6 millones de filas:\", len(group))\n",
    "group.head()"
   ]
  },
  {
   "cell_type": "code",
   "execution_count": null,
   "metadata": {
    "ExecuteTime": {
     "end_time": "2021-02-11T14:38:10.478437Z",
     "start_time": "2021-02-11T14:37:32.518Z"
    }
   },
   "outputs": [],
   "source": [
    "matrix = pd.merge(matrix, group, on=cols, how='left')\n",
    "matrix['item_cnt_month'] = (matrix['item_cnt_month']\n",
    "                                .fillna(0)\n",
    "                                .clip(0,20) # NB clip target here\n",
    "                                .astype(np.float16))\n",
    "matrix.head()"
   ]
  },
  {
   "cell_type": "markdown",
   "metadata": {},
   "source": [
    "## Añadir test (mes 34)"
   ]
  },
  {
   "cell_type": "code",
   "execution_count": null,
   "metadata": {
    "ExecuteTime": {
     "end_time": "2021-02-11T14:38:10.479446Z",
     "start_time": "2021-02-11T14:37:32.524Z"
    }
   },
   "outputs": [],
   "source": [
    "test['date_block_num'] = 34\n",
    "test['date_block_num'] = test['date_block_num'].astype(np.int8)\n",
    "test['shop_id']        = test['shop_id'].astype(np.int8)\n",
    "test['item_id']        = test['item_id'].astype(np.int16)\n",
    "matrix = pd.concat([matrix, test], ignore_index=True, sort=False, keys=cols)\n",
    "matrix.fillna(0, inplace=True)\n",
    "\n",
    "matrix.tail()"
   ]
  },
  {
   "cell_type": "code",
   "execution_count": null,
   "metadata": {
    "ExecuteTime": {
     "end_time": "2021-02-11T14:38:10.480435Z",
     "start_time": "2021-02-11T14:37:32.529Z"
    }
   },
   "outputs": [],
   "source": [
    "len(matrix)"
   ]
  },
  {
   "cell_type": "markdown",
   "metadata": {},
   "source": [
    "# <center> PARTE 3: Feature engineering\n",
    "### Meter información de las otras tablas"
   ]
  },
  {
   "cell_type": "code",
   "execution_count": null,
   "metadata": {
    "ExecuteTime": {
     "end_time": "2021-02-11T14:38:10.481441Z",
     "start_time": "2021-02-11T14:37:32.533Z"
    }
   },
   "outputs": [],
   "source": [
    "ts = time.time()\n",
    "matrix = pd.merge(matrix, shops, on=['shop_id'], how='left')\n",
    "matrix = pd.merge(matrix, items, on=['item_id'], how='left')\n",
    "matrix = pd.merge(matrix, cats,  on=['item_category_id'], how='left')\n",
    "\n",
    "matrix['shop_city']        = matrix['shop_city'].astype(np.int8)\n",
    "matrix['shop_type']        = matrix['shop_type'].astype(np.int8)\n",
    "matrix['item_category_id'] = matrix['item_category_id'].astype(np.int8)\n",
    "matrix['item_type']        = matrix['item_type'].astype(np.int8)\n",
    "matrix['item_subtype']     = matrix['item_subtype'].astype(np.int8)\n",
    "\n",
    "# TODO: Borrar columna matrix['item_category_id']\n",
    "time.time() - ts"
   ]
  },
  {
   "cell_type": "code",
   "execution_count": null,
   "metadata": {
    "ExecuteTime": {
     "end_time": "2021-02-11T14:38:10.482433Z",
     "start_time": "2021-02-11T14:37:32.537Z"
    }
   },
   "outputs": [],
   "source": [
    "matrix.head()"
   ]
  },
  {
   "cell_type": "code",
   "execution_count": null,
   "metadata": {
    "ExecuteTime": {
     "end_time": "2021-02-11T14:38:10.483424Z",
     "start_time": "2021-02-11T14:37:32.540Z"
    }
   },
   "outputs": [],
   "source": [
    "def megas(df):\n",
    "    print(round(df.memory_usage(deep=True).sum() / 1024**2, 2), \"MB\")"
   ]
  },
  {
   "cell_type": "code",
   "execution_count": null,
   "metadata": {
    "ExecuteTime": {
     "end_time": "2021-02-11T14:38:10.485419Z",
     "start_time": "2021-02-11T14:37:32.543Z"
    }
   },
   "outputs": [],
   "source": [
    "megas(matrix)"
   ]
  },
  {
   "cell_type": "markdown",
   "metadata": {},
   "source": [
    "# Date features: Mes, nº días, nº findes\n",
    "- Mes (1...12)\n",
    "- Nº días del mes (28...31)\n",
    "- Nº findes del mes (4 o 5)"
   ]
  },
  {
   "cell_type": "code",
   "execution_count": null,
   "metadata": {
    "ExecuteTime": {
     "end_time": "2021-02-11T14:38:10.487415Z",
     "start_time": "2021-02-11T14:37:32.546Z"
    }
   },
   "outputs": [],
   "source": [
    "#matrix['month'] = matrix['date_block_num'] % 12\n",
    "#days = pd.Series([31,28,31,30,31,30,31,31,30,31,30,31])\n",
    "#matrix['days'] = matrix['month'].map(days).astype(np.int8)"
   ]
  },
  {
   "cell_type": "code",
   "execution_count": null,
   "metadata": {
    "ExecuteTime": {
     "end_time": "2021-02-11T14:38:10.489420Z",
     "start_time": "2021-02-11T14:37:32.548Z"
    }
   },
   "outputs": [],
   "source": [
    "def count_days(date_block_num):\n",
    "    year = 2013 + date_block_num // 12\n",
    "    month = 1 + date_block_num % 12\n",
    "    weeknd_count = len([1 for i in calendar.monthcalendar(year, month) if i[6] != 0])\n",
    "    days_in_month = calendar.monthrange(year, month)[1]\n",
    "    return month, days_in_month, weeknd_count\n",
    "\n",
    "map_dict = {i: count_days(i) for i in range(35)}\n",
    "map_dict"
   ]
  },
  {
   "cell_type": "code",
   "execution_count": null,
   "metadata": {
    "ExecuteTime": {
     "end_time": "2021-02-11T14:38:10.491404Z",
     "start_time": "2021-02-11T14:37:32.551Z"
    }
   },
   "outputs": [],
   "source": [
    "matrix['month_id']      = matrix['date_block_num'].apply(lambda x: map_dict[x][0]).astype(np.int8)\n",
    "matrix['month_days']    = matrix['date_block_num'].apply(lambda x: map_dict[x][1]).astype(np.int8)\n",
    "matrix['month_weeknds'] = matrix['date_block_num'].apply(lambda x: map_dict[x][2]).astype(np.int8)"
   ]
  },
  {
   "cell_type": "code",
   "execution_count": null,
   "metadata": {
    "ExecuteTime": {
     "end_time": "2021-02-11T14:38:10.493399Z",
     "start_time": "2021-02-11T14:37:32.555Z"
    }
   },
   "outputs": [],
   "source": [
    "matrix.head()"
   ]
  },
  {
   "cell_type": "markdown",
   "metadata": {},
   "source": [
    "## Item: Es totalmente nuevo? (si=1, no=0) `item_isNew`"
   ]
  },
  {
   "cell_type": "code",
   "execution_count": null,
   "metadata": {
    "ExecuteTime": {
     "end_time": "2021-02-11T14:38:10.494397Z",
     "start_time": "2021-02-11T14:37:32.559Z"
    }
   },
   "outputs": [],
   "source": [
    "# Para cada item, calcular el primer mes donde aparece\n",
    "# E indicar con un 1 que el item es nuevo para ese mes\n",
    "item_isNew_df = matrix.groupby(['item_id'])['date_block_num'].min().reset_index()\n",
    "item_isNew_df['item_isNew'] = 1\n",
    "\n",
    "matrix = pd.merge(matrix, item_isNew_df, on=['date_block_num', 'item_id'], how='left')\n",
    "\n",
    "# Si no es nuevo se le pone 0\n",
    "matrix['item_isNew'].fillna(0, inplace=True)\n",
    "matrix['item_isNew'] = matrix['item_isNew'].astype('int8') "
   ]
  },
  {
   "cell_type": "markdown",
   "metadata": {},
   "source": [
    "## Item: Es nuevo en esa tienda? (si=1, no=0) `item_isNewOnShop`"
   ]
  },
  {
   "cell_type": "code",
   "execution_count": null,
   "metadata": {
    "ExecuteTime": {
     "end_time": "2021-02-11T14:38:10.496391Z",
     "start_time": "2021-02-11T14:37:32.562Z"
    }
   },
   "outputs": [],
   "source": [
    "# Para cada item de cada tienda, calcular el primer mes donde aparece\n",
    "# E indicar con un 1 que el item es nuevo para ese mes\n",
    "item_isNewOnShop_df = matrix.groupby(['shop_id', 'item_id'])['date_block_num'].min().reset_index()\n",
    "item_isNewOnShop_df['item_isNewOnShop'] = 1\n",
    "\n",
    "matrix = pd.merge(matrix, item_isNewOnShop_df, on=['date_block_num', 'item_id', 'shop_id'], how='left')\n",
    "\n",
    "# Si no es nuevo se le pone 0\n",
    "matrix['item_isNewOnShop'].fillna(0, inplace=True)\n",
    "matrix['item_isNewOnShop'] = matrix['item_isNewOnShop'].astype('int8') "
   ]
  },
  {
   "cell_type": "markdown",
   "metadata": {},
   "source": [
    "## Item: Duracion en meses `item_monthsDuration`"
   ]
  },
  {
   "cell_type": "code",
   "execution_count": null,
   "metadata": {
    "ExecuteTime": {
     "end_time": "2021-02-11T14:38:10.497387Z",
     "start_time": "2021-02-11T14:37:32.565Z"
    }
   },
   "outputs": [],
   "source": [
    "# Para cada item, calcular el primer mes donde aparece\n",
    "item_monthsDuration_df = matrix.groupby(['item_id'])['date_block_num'].min().reset_index()\n",
    "item_monthsDuration_df.columns = ['item_id', 'item_monthsDuration']\n",
    "\n",
    "matrix = pd.merge(matrix, item_monthsDuration_df, on=['item_id'], how='left')\n",
    "matrix[\"item_monthsDuration\"] = matrix[\"date_block_num\"] - matrix[\"item_monthsDuration\"]\n",
    "\n",
    "matrix['item_monthsDuration'] = matrix['item_monthsDuration'].astype('int8') "
   ]
  },
  {
   "cell_type": "markdown",
   "metadata": {},
   "source": [
    "## Item en la tienda: Duracion en meses `itemShop_monthsDuration`"
   ]
  },
  {
   "cell_type": "code",
   "execution_count": null,
   "metadata": {
    "ExecuteTime": {
     "end_time": "2021-02-11T14:38:10.498391Z",
     "start_time": "2021-02-11T14:37:32.568Z"
    }
   },
   "outputs": [],
   "source": [
    "# Para cada item, calcular el primer mes donde aparece\n",
    "itemShop_monthsDuration_df = matrix.groupby(['shop_id', 'item_id'])['date_block_num'].min().reset_index()\n",
    "itemShop_monthsDuration_df.columns = ['shop_id', 'item_id', 'itemShop_monthsDuration']\n",
    "\n",
    "matrix = pd.merge(matrix, itemShop_monthsDuration_df, on=['shop_id', 'item_id'], how='left')\n",
    "matrix[\"itemShop_monthsDuration\"] = matrix[\"date_block_num\"] - matrix[\"itemShop_monthsDuration\"]\n",
    "\n",
    "matrix['itemShop_monthsDuration'] = matrix['itemShop_monthsDuration'].astype('int8') "
   ]
  },
  {
   "cell_type": "markdown",
   "metadata": {},
   "source": [
    "## Nº meses desde la primera venta por (producto y tienda), y por (producto)\n",
    "### NO SE SI HAY FUAGA DE DATO AQUI, PENSARLO BIEN"
   ]
  },
  {
   "cell_type": "code",
   "execution_count": null,
   "metadata": {
    "ExecuteTime": {
     "end_time": "2021-02-11T14:38:10.499381Z",
     "start_time": "2021-02-11T14:37:32.571Z"
    }
   },
   "outputs": [],
   "source": [
    "vendidos=matrix[matrix.item_cnt_month>0]\n",
    "\n",
    "# Para cada item\n",
    "item_firstSale_df = vendidos.groupby(['item_id'])['date_block_num'].min().reset_index()\n",
    "item_firstSale_df.columns = ['item_id', 'item_firstSale']\n",
    "\n",
    "matrix = pd.merge(matrix, item_firstSale_df, on=['item_id'], how='left')\n",
    "matrix[\"item_firstSale\"] = matrix[\"date_block_num\"] - matrix[\"item_firstSale\"]\n",
    "\n",
    "matrix['item_firstSale'].fillna(-1, inplace=True)\n",
    "matrix['item_firstSale'] = matrix['item_firstSale'].astype('int8') \n",
    "\n",
    "\n",
    "\n",
    "itemShop_firstSale_df = vendidos.groupby(['item_id'])['date_block_num'].min().reset_index()\n",
    "itemShop_firstSale_df.columns = ['item_id', 'itemShop_firstSale']\n",
    "\n",
    "matrix = pd.merge(matrix, itemShop_firstSale_df, on=['item_id'], how='left')\n",
    "matrix[\"itemShop_firstSale\"] = matrix[\"date_block_num\"] - matrix[\"itemShop_firstSale\"]\n",
    "\n",
    "matrix['itemShop_firstSale'].fillna(-1, inplace=True)\n",
    "matrix['itemShop_firstSale'] = matrix['itemShop_firstSale'].astype('int8') "
   ]
  },
  {
   "cell_type": "markdown",
   "metadata": {},
   "source": [
    "# Nº meses desde la última venta por producto y tienda, y por producto\n",
    "## 45 MINUNTOS TARDA ESTO\n"
   ]
  },
  {
   "cell_type": "code",
   "execution_count": null,
   "metadata": {
    "ExecuteTime": {
     "end_time": "2021-02-11T14:38:10.500379Z",
     "start_time": "2021-02-11T14:37:32.575Z"
    }
   },
   "outputs": [],
   "source": [
    "from tqdm import tqdm"
   ]
  },
  {
   "cell_type": "code",
   "execution_count": null,
   "metadata": {
    "ExecuteTime": {
     "end_time": "2021-02-11T14:38:10.501376Z",
     "start_time": "2021-02-11T14:37:32.579Z"
    }
   },
   "outputs": [],
   "source": [
    "ts = time.time()\n",
    "cache = {}\n",
    "matrix['item_last_sale'] = -1\n",
    "matrix['item_last_sale'] = matrix['item_last_sale'].astype(np.int8)\n",
    "for idx, row in tqdm(matrix.iterrows(), total=len(matrix)):    \n",
    "    key = row.item_id  #solo por producto\n",
    "    if key not in cache:\n",
    "        if row.item_cnt_month!=0:\n",
    "            cache[key] = row.date_block_num\n",
    "    else:\n",
    "        last_date_block_num = cache[key]\n",
    "        if row.date_block_num>last_date_block_num:\n",
    "            matrix.at[idx, 'item_last_sale'] = row.date_block_num - last_date_block_num\n",
    "            cache[key] = row.date_block_num            \n",
    "time.time() - ts"
   ]
  },
  {
   "cell_type": "code",
   "execution_count": null,
   "metadata": {
    "ExecuteTime": {
     "end_time": "2021-02-11T14:38:10.502383Z",
     "start_time": "2021-02-11T14:37:32.582Z"
    }
   },
   "outputs": [],
   "source": [
    "ts = time.time()\n",
    "cache = {}\n",
    "matrix['item_shop_last_sale'] = -1\n",
    "matrix['item_shop_last_sale'] = matrix['item_shop_last_sale'].astype(np.int8)\n",
    "for idx, row in tqdm(matrix.iterrows(), total=len(matrix)):    \n",
    "    key = str(row.item_id)+' '+str(row.shop_id) #por producto y tienda\n",
    "    if key not in cache:\n",
    "        if row.item_cnt_month!=0:\n",
    "            cache[key] = row.date_block_num\n",
    "    else:\n",
    "        last_date_block_num = cache[key]\n",
    "        matrix.at[idx, 'item_shop_last_sale'] = row.date_block_num - last_date_block_num\n",
    "        cache[key] = row.date_block_num\n",
    "time.time() - ts"
   ]
  },
  {
   "cell_type": "markdown",
   "metadata": {},
   "source": [
    "# <center> PARTE 4: Feat Eng con Lags"
   ]
  },
  {
   "cell_type": "markdown",
   "metadata": {},
   "source": [
    "## Crear variables históricas ventas de meses anteriores"
   ]
  },
  {
   "cell_type": "code",
   "execution_count": null,
   "metadata": {
    "ExecuteTime": {
     "end_time": "2021-02-11T14:38:10.506384Z",
     "start_time": "2021-02-11T14:37:32.587Z"
    }
   },
   "outputs": [],
   "source": [
    "def lag_feature(df, lags, col):\n",
    "    tmp = df[['date_block_num','shop_id','item_id',col]]\n",
    "    for i in lags:\n",
    "        shifted = tmp.copy()\n",
    "        shifted.columns = ['date_block_num','shop_id','item_id', col+'_lag_'+str(i)]\n",
    "        shifted['date_block_num'] += i # ADELANTO EL MES PARA LUEGO HACER MERGE Y QUE SE PRODUZCA EL LAG\n",
    "        df = pd.merge(df, shifted, on=['date_block_num','shop_id','item_id'], how='left')\n",
    "    return df"
   ]
  },
  {
   "cell_type": "code",
   "execution_count": null,
   "metadata": {
    "ExecuteTime": {
     "end_time": "2021-02-11T14:38:10.508357Z",
     "start_time": "2021-02-11T14:37:32.589Z"
    }
   },
   "outputs": [],
   "source": [
    "ts = time.time()\n",
    "matrix = lag_feature(matrix, [1,2,3,6,12], 'item_cnt_month')\n",
    "time.time() - ts"
   ]
  },
  {
   "cell_type": "code",
   "execution_count": null,
   "metadata": {
    "ExecuteTime": {
     "end_time": "2021-02-11T14:38:10.509356Z",
     "start_time": "2021-02-11T14:37:32.593Z"
    }
   },
   "outputs": [],
   "source": [
    "matrix[matrix.date_block_num==0].head()"
   ]
  },
  {
   "cell_type": "code",
   "execution_count": null,
   "metadata": {
    "ExecuteTime": {
     "end_time": "2021-02-11T14:38:10.510356Z",
     "start_time": "2021-02-11T14:37:32.596Z"
    }
   },
   "outputs": [],
   "source": [
    "matrix[matrix.date_block_num==33].head()"
   ]
  },
  {
   "cell_type": "code",
   "execution_count": null,
   "metadata": {
    "ExecuteTime": {
     "end_time": "2021-02-11T14:38:10.511349Z",
     "start_time": "2021-02-11T14:37:32.599Z"
    }
   },
   "outputs": [],
   "source": [
    "megas(matrix)"
   ]
  },
  {
   "cell_type": "markdown",
   "metadata": {},
   "source": [
    "# Variables agrupadas (cuidado con la fuga de datos)\n",
    "La fuga de datos puede hacer que cree modelos predictivos demasiado optimistas, pero realmente son completamente inválidos.\n",
    "\n",
    "La fuga de datos se produce cuando se utiliza información de fuera del conjunto de datos de capacitación para crear el modelo. Esta información adicional puede permitir que el modelo aprenda o sepa algo que de otro modo no sabría y, a su vez, invalidará el rendimiento estimado del modo que se está construyendo."
   ]
  },
  {
   "cell_type": "code",
   "execution_count": null,
   "metadata": {
    "ExecuteTime": {
     "end_time": "2021-02-11T14:38:10.512359Z",
     "start_time": "2021-02-11T14:37:32.602Z"
    }
   },
   "outputs": [],
   "source": [
    "matrix.head()"
   ]
  },
  {
   "cell_type": "code",
   "execution_count": null,
   "metadata": {
    "ExecuteTime": {
     "end_time": "2021-02-11T14:38:10.514341Z",
     "start_time": "2021-02-11T14:37:32.605Z"
    }
   },
   "outputs": [],
   "source": [
    "def mean_of_item_cnt_by(groupby_cols, lags, new_col_name, df):\n",
    "    ts = time.time()\n",
    "    \n",
    "    # Crear variable\n",
    "    group = df.groupby(groupby_cols).agg({'item_cnt_month': ['mean']})\n",
    "    group.columns = [ new_col_name ]\n",
    "    group.reset_index(inplace=True)\n",
    "    \n",
    "    # Meter variable en los datos\n",
    "    df = pd.merge(df, group, on=groupby_cols, how='left')\n",
    "    df[new_col_name] = df[new_col_name].astype(np.float16)\n",
    "    \n",
    "    # Hacer lag de la variable (se evita FUGA DE DATOS)\n",
    "    df = lag_feature(df, lags, new_col_name)\n",
    "    df.drop([new_col_name], axis=1, inplace=True)\n",
    "\n",
    "    print(round(time.time() - ts, 2), \"segundos\")\n",
    "    return df"
   ]
  },
  {
   "cell_type": "code",
   "execution_count": null,
   "metadata": {
    "ExecuteTime": {
     "end_time": "2021-02-11T14:38:10.515340Z",
     "start_time": "2021-02-11T14:37:32.608Z"
    }
   },
   "outputs": [],
   "source": [
    "# La media Nº de ventas agrupado por mes\n",
    "matrix = mean_of_item_cnt_by(groupby_cols=['date_block_num'],\n",
    "                    lags=[1],\n",
    "                    new_col_name=\"date_avg_item_cnt\",\n",
    "                    df=matrix)"
   ]
  },
  {
   "cell_type": "code",
   "execution_count": null,
   "metadata": {
    "ExecuteTime": {
     "end_time": "2021-02-11T14:38:10.516337Z",
     "start_time": "2021-02-11T14:37:32.610Z"
    }
   },
   "outputs": [],
   "source": [
    "# La media Nº de ventas agrupado por mes y producto\n",
    "matrix = mean_of_item_cnt_by(groupby_cols=['date_block_num', 'item_id'],\n",
    "                    lags=[1,2,3,6,12],\n",
    "                    new_col_name=\"date_item_avg_item_cnt\",\n",
    "                    df=matrix)"
   ]
  },
  {
   "cell_type": "code",
   "execution_count": null,
   "metadata": {
    "ExecuteTime": {
     "end_time": "2021-02-11T14:38:10.517336Z",
     "start_time": "2021-02-11T14:37:32.613Z"
    }
   },
   "outputs": [],
   "source": [
    "# La media Nº de ventas agrupado por mes y tienda\n",
    "matrix = mean_of_item_cnt_by(groupby_cols=['date_block_num', 'shop_id'],\n",
    "                    lags=[1,2,3,6,12],\n",
    "                    new_col_name=\"date_shop_avg_item_cnt\",\n",
    "                    df=matrix)"
   ]
  },
  {
   "cell_type": "code",
   "execution_count": null,
   "metadata": {
    "ExecuteTime": {
     "end_time": "2021-02-11T14:38:10.519328Z",
     "start_time": "2021-02-11T14:37:32.615Z"
    }
   },
   "outputs": [],
   "source": [
    "# La media Nº de ventas agrupado por mes y categoría\n",
    "matrix = mean_of_item_cnt_by(groupby_cols=['date_block_num', 'item_category_id'],\n",
    "                    lags=[1],\n",
    "                    new_col_name=\"date_cat_avg_item_cnt\",\n",
    "                    df=matrix)"
   ]
  },
  {
   "cell_type": "code",
   "execution_count": null,
   "metadata": {
    "ExecuteTime": {
     "end_time": "2021-02-11T14:38:10.522321Z",
     "start_time": "2021-02-11T14:37:32.618Z"
    }
   },
   "outputs": [],
   "source": [
    "# La media Nº de ventas agrupado por mes, tienda y categoría\n",
    "matrix = mean_of_item_cnt_by(groupby_cols=['date_block_num', 'shop_id', 'item_category_id'],\n",
    "                    lags=[1],\n",
    "                    new_col_name=\"date_shop_cat_avg_item_cnt\",\n",
    "                    df=matrix)"
   ]
  },
  {
   "cell_type": "code",
   "execution_count": null,
   "metadata": {
    "ExecuteTime": {
     "end_time": "2021-02-11T14:38:10.524330Z",
     "start_time": "2021-02-11T14:37:32.621Z"
    }
   },
   "outputs": [],
   "source": [
    "# La media Nº de ventas agrupado por mes, tienda y tipo\n",
    "matrix = mean_of_item_cnt_by(groupby_cols=['date_block_num', 'shop_id', 'type_code'],\n",
    "                    lags=[1],\n",
    "                    new_col_name=\"date_shop_type_avg_item_cnt\",\n",
    "                    df=matrix)"
   ]
  },
  {
   "cell_type": "code",
   "execution_count": null,
   "metadata": {
    "ExecuteTime": {
     "end_time": "2021-02-11T14:38:10.526310Z",
     "start_time": "2021-02-11T14:37:32.623Z"
    }
   },
   "outputs": [],
   "source": [
    "# La media Nº de ventas agrupado por mes, tienda y subtipo\n",
    "matrix = mean_of_item_cnt_by(groupby_cols=['date_block_num', 'shop_id', 'subtype_code'],\n",
    "                    lags=[1],\n",
    "                    new_col_name=\"date_shop_subtype_avg_item_cnt\",\n",
    "                    df=matrix)"
   ]
  },
  {
   "cell_type": "code",
   "execution_count": null,
   "metadata": {
    "ExecuteTime": {
     "end_time": "2021-02-11T14:38:10.527308Z",
     "start_time": "2021-02-11T14:37:32.626Z"
    }
   },
   "outputs": [],
   "source": [
    "# La media Nº de ventas agrupado por mes y ciudad\n",
    "matrix = mean_of_item_cnt_by(groupby_cols=['date_block_num', 'city_code'],\n",
    "                    lags=[1],\n",
    "                    new_col_name=\"date_city_avg_item_cnt\",\n",
    "                    df=matrix)"
   ]
  },
  {
   "cell_type": "code",
   "execution_count": null,
   "metadata": {
    "ExecuteTime": {
     "end_time": "2021-02-11T14:38:10.529303Z",
     "start_time": "2021-02-11T14:37:32.628Z"
    }
   },
   "outputs": [],
   "source": [
    "# La media Nº de ventas agrupado por mes, producto y ciudad\n",
    "matrix = mean_of_item_cnt_by(groupby_cols=['date_block_num', 'item_id', 'city_code'],\n",
    "                    lags=[1],\n",
    "                    new_col_name=\"date_item_city_avg_item_cnt\",\n",
    "                    df=matrix)"
   ]
  },
  {
   "cell_type": "code",
   "execution_count": null,
   "metadata": {
    "ExecuteTime": {
     "end_time": "2021-02-11T14:38:10.531324Z",
     "start_time": "2021-02-11T14:37:32.632Z"
    }
   },
   "outputs": [],
   "source": [
    "# La media Nº de ventas agrupado por mes y tipo\n",
    "matrix = mean_of_item_cnt_by(groupby_cols=['date_block_num', 'type_code'],\n",
    "                    lags=[1],\n",
    "                    new_col_name=\"date_type_avg_item_cnt\",\n",
    "                    df=matrix)"
   ]
  },
  {
   "cell_type": "code",
   "execution_count": null,
   "metadata": {
    "ExecuteTime": {
     "end_time": "2021-02-11T14:38:10.532293Z",
     "start_time": "2021-02-11T14:37:32.634Z"
    }
   },
   "outputs": [],
   "source": [
    "# La media Nº de ventas agrupado por mes y subtipo\n",
    "matrix = mean_of_item_cnt_by(groupby_cols=['date_block_num', 'subtype_code'],\n",
    "                    lags=[1],\n",
    "                    new_col_name=\"date_subtype_avg_item_cnt\",\n",
    "                    df=matrix)"
   ]
  },
  {
   "cell_type": "code",
   "execution_count": null,
   "metadata": {
    "ExecuteTime": {
     "end_time": "2021-02-11T14:38:10.533290Z",
     "start_time": "2021-02-11T14:37:32.637Z"
    }
   },
   "outputs": [],
   "source": [
    "matrix.tail(7).T # #matrix[matrix.date_block_num > 11].head().T"
   ]
  },
  {
   "cell_type": "code",
   "execution_count": null,
   "metadata": {
    "ExecuteTime": {
     "end_time": "2021-02-11T14:38:10.534322Z",
     "start_time": "2021-02-11T14:37:32.639Z"
    }
   },
   "outputs": [],
   "source": [
    "megas(matrix)"
   ]
  },
  {
   "cell_type": "markdown",
   "metadata": {},
   "source": [
    "# Tendencia de precios en los últimos seis meses.\n",
    "### Delta Precio = (Precio Medio Producto agrupado por mes - Precio Medio Producto) / Precio Medio Producto"
   ]
  },
  {
   "cell_type": "code",
   "execution_count": null,
   "metadata": {
    "ExecuteTime": {
     "end_time": "2021-02-11T14:38:10.535285Z",
     "start_time": "2021-02-11T14:37:32.643Z"
    }
   },
   "outputs": [],
   "source": [
    "ts = time.time()\n",
    "group = train.groupby(['item_id']).agg({'item_price': ['mean']})\n",
    "group.columns = ['item_avg_item_price']\n",
    "group.reset_index(inplace=True)\n",
    "\n",
    "matrix = pd.merge(matrix, group, on=['item_id'], how='left')\n",
    "matrix['item_avg_item_price'] = matrix['item_avg_item_price'].astype(np.float16)\n",
    "\n",
    "group = train.groupby(['date_block_num','item_id']).agg({'item_price': ['mean']})\n",
    "group.columns = ['date_item_avg_item_price']\n",
    "group.reset_index(inplace=True)\n",
    "\n",
    "matrix = pd.merge(matrix, group, on=['date_block_num','item_id'], how='left')\n",
    "matrix['date_item_avg_item_price'] = matrix['date_item_avg_item_price'].astype(np.float16)\n",
    "\n",
    "lags = [1,2,3,4,5,6]\n",
    "matrix = lag_feature(matrix, lags, 'date_item_avg_item_price')\n",
    "\n",
    "for i in lags:\n",
    "    matrix['delta_price_lag_'+str(i)] = \\\n",
    "        (matrix['date_item_avg_item_price_lag_'+str(i)] - matrix['item_avg_item_price']) / matrix['item_avg_item_price']\n",
    "\n",
    "#primer histórico distinto de cero, partimos que no tenemos el precio de los productos para el mes de validación   \n",
    "def select_trend(row):\n",
    "    for i in lags:\n",
    "        if row['delta_price_lag_'+str(i)]:\n",
    "            return row['delta_price_lag_'+str(i)]\n",
    "    return 0\n",
    "    \n",
    "matrix['delta_price_lag'] = matrix.apply(select_trend, axis=1)\n",
    "matrix['delta_price_lag'] = matrix['delta_price_lag'].astype(np.float16)\n",
    "matrix['delta_price_lag'].fillna(0, inplace=True)\n",
    "\n",
    "fetures_to_drop = ['item_avg_item_price', 'date_item_avg_item_price']\n",
    "for i in lags:\n",
    "    fetures_to_drop += ['date_item_avg_item_price_lag_'+str(i)]\n",
    "    fetures_to_drop += ['delta_price_lag_'+str(i)]\n",
    "\n",
    "matrix.drop(fetures_to_drop, axis=1, inplace=True)\n",
    "time.time() - ts"
   ]
  },
  {
   "cell_type": "code",
   "execution_count": null,
   "metadata": {
    "ExecuteTime": {
     "end_time": "2021-02-11T14:38:10.537280Z",
     "start_time": "2021-02-11T14:37:32.646Z"
    }
   },
   "outputs": [],
   "source": [
    "matrix.head()"
   ]
  },
  {
   "cell_type": "code",
   "execution_count": null,
   "metadata": {
    "ExecuteTime": {
     "end_time": "2021-02-11T14:38:10.540272Z",
     "start_time": "2021-02-11T14:37:32.649Z"
    }
   },
   "outputs": [],
   "source": [
    "megas(matrix)"
   ]
  },
  {
   "cell_type": "markdown",
   "metadata": {},
   "source": [
    "# Tendencia de ingresos de la tienda del mes pasado"
   ]
  },
  {
   "cell_type": "code",
   "execution_count": null,
   "metadata": {
    "ExecuteTime": {
     "end_time": "2021-02-11T14:38:10.542270Z",
     "start_time": "2021-02-11T14:37:32.653Z"
    }
   },
   "outputs": [],
   "source": [
    "ts = time.time()\n",
    "train['revenue'] = train['item_price'] * train['item_cnt_day'] # ingresos precio * ventas\n",
    "\n",
    "group = train.groupby(['date_block_num','shop_id']).agg({'revenue': ['sum']})\n",
    "group.columns = ['date_shop_revenue']\n",
    "group.reset_index(inplace=True)\n",
    "\n",
    "matrix = pd.merge(matrix, group, on=['date_block_num','shop_id'], how='left')\n",
    "matrix['date_shop_revenue'] = matrix['date_shop_revenue'].astype(np.float32)\n",
    "\n",
    "\n",
    "group = group.groupby(['shop_id']).agg({'date_shop_revenue': ['mean']})\n",
    "group.columns = ['shop_avg_revenue']\n",
    "group.reset_index(inplace=True)\n",
    "\n",
    "matrix = pd.merge(matrix, group, on=['shop_id'], how='left')\n",
    "matrix['shop_avg_revenue'] = matrix['shop_avg_revenue'].astype(np.float32)\n",
    "\n",
    "matrix['delta_revenue'] = (matrix['date_shop_revenue'] - matrix['shop_avg_revenue']) / matrix['shop_avg_revenue']\n",
    "matrix['delta_revenue'] = matrix['delta_revenue'].astype(np.float16)\n",
    "\n",
    "matrix = lag_feature(matrix, [1], 'delta_revenue')\n",
    "\n",
    "matrix.drop(['date_shop_revenue','shop_avg_revenue','delta_revenue'], axis=1, inplace=True)\n",
    "time.time() - ts"
   ]
  },
  {
   "cell_type": "code",
   "execution_count": null,
   "metadata": {
    "ExecuteTime": {
     "end_time": "2021-02-11T14:38:10.543266Z",
     "start_time": "2021-02-11T14:37:32.659Z"
    }
   },
   "outputs": [],
   "source": [
    "matrix.head()"
   ]
  },
  {
   "cell_type": "markdown",
   "metadata": {},
   "source": [
    "# Quitamos los primeres 12 meses\n",
    "### No tienen valores históricos"
   ]
  },
  {
   "cell_type": "code",
   "execution_count": null,
   "metadata": {
    "ExecuteTime": {
     "end_time": "2021-02-11T14:38:10.545260Z",
     "start_time": "2021-02-11T14:37:32.662Z"
    }
   },
   "outputs": [],
   "source": [
    "matrix = matrix[matrix.date_block_num > 11]"
   ]
  },
  {
   "cell_type": "markdown",
   "metadata": {},
   "source": [
    "# Rellenamos a cero posibles valores a nulo"
   ]
  },
  {
   "cell_type": "code",
   "execution_count": null,
   "metadata": {
    "ExecuteTime": {
     "end_time": "2021-02-11T14:38:10.546256Z",
     "start_time": "2021-02-11T14:37:32.666Z"
    }
   },
   "outputs": [],
   "source": [
    "ts = time.time()\n",
    "def fill_na(df):\n",
    "    for col in df.columns:\n",
    "        if ('_lag_' in col) & (df[col].isnull().any()):\n",
    "            if ('item_cnt' in col):\n",
    "                df[col].fillna(0, inplace=True)         \n",
    "    return df\n",
    "\n",
    "matrix = fill_na(matrix)\n",
    "time.time() - ts"
   ]
  },
  {
   "cell_type": "code",
   "execution_count": null,
   "metadata": {
    "ExecuteTime": {
     "end_time": "2021-02-11T14:38:10.547255Z",
     "start_time": "2021-02-11T14:37:32.669Z"
    }
   },
   "outputs": [],
   "source": [
    "matrix.head()"
   ]
  },
  {
   "cell_type": "code",
   "execution_count": null,
   "metadata": {
    "ExecuteTime": {
     "end_time": "2021-02-11T14:38:10.549255Z",
     "start_time": "2021-02-11T14:37:32.672Z"
    }
   },
   "outputs": [],
   "source": [
    "matrix.columns"
   ]
  },
  {
   "cell_type": "code",
   "execution_count": null,
   "metadata": {
    "ExecuteTime": {
     "end_time": "2021-02-11T14:38:10.550249Z",
     "start_time": "2021-02-11T14:37:32.675Z"
    }
   },
   "outputs": [],
   "source": [
    "matrix.info()"
   ]
  },
  {
   "cell_type": "code",
   "execution_count": null,
   "metadata": {
    "ExecuteTime": {
     "end_time": "2021-02-11T14:38:10.551244Z",
     "start_time": "2021-02-11T14:37:32.679Z"
    }
   },
   "outputs": [],
   "source": [
    "matrix.sample(10).T"
   ]
  },
  {
   "cell_type": "markdown",
   "metadata": {},
   "source": [
    "# Guardamos los datos"
   ]
  },
  {
   "cell_type": "code",
   "execution_count": null,
   "metadata": {
    "ExecuteTime": {
     "end_time": "2021-02-11T14:38:10.553237Z",
     "start_time": "2021-02-11T14:37:32.682Z"
    }
   },
   "outputs": [],
   "source": [
    "ts = time.time()\n",
    "matrix.to_pickle('../../predicFutureSales_data.pkl')\n",
    "time.time() - ts"
   ]
  },
  {
   "cell_type": "code",
   "execution_count": null,
   "metadata": {
    "ExecuteTime": {
     "end_time": "2021-02-11T14:38:10.555233Z",
     "start_time": "2021-02-11T14:37:32.685Z"
    }
   },
   "outputs": [],
   "source": [
    "\"\"\"\n",
    "del matrix\n",
    "del group\n",
    "del items\n",
    "del shops\n",
    "del cats\n",
    "del train\n",
    "del cache\n",
    "\n",
    "gc.collect();\n",
    "\"\"\""
   ]
  },
  {
   "cell_type": "markdown",
   "metadata": {},
   "source": [
    "# Separación de datos de entrenamiento y validación"
   ]
  },
  {
   "cell_type": "code",
   "execution_count": null,
   "metadata": {
    "ExecuteTime": {
     "end_time": "2021-02-11T14:38:10.557227Z",
     "start_time": "2021-02-11T14:37:32.689Z"
    }
   },
   "outputs": [],
   "source": [
    "ts = time.time()\n",
    "\n",
    "df = pd.read_pickle('../../predicFutureSales_data.pkl')\n",
    "X_train = df[df.date_block_num <  33].drop(['item_cnt_month'], axis=1)\n",
    "Y_train = df[df.date_block_num <  33]['item_cnt_month']\n",
    "X_valid = df[df.date_block_num == 33].drop(['item_cnt_month'], axis=1)\n",
    "Y_valid = df[df.date_block_num == 33]['item_cnt_month']\n",
    "X_test  = df[df.date_block_num == 34].drop(['item_cnt_month'], axis=1)\n",
    "\n",
    "time.time() - ts"
   ]
  },
  {
   "cell_type": "markdown",
   "metadata": {},
   "source": [
    "# Entrenamiento"
   ]
  },
  {
   "cell_type": "code",
   "execution_count": null,
   "metadata": {
    "ExecuteTime": {
     "end_time": "2021-02-11T14:38:10.559222Z",
     "start_time": "2021-02-11T14:37:32.692Z"
    },
    "scrolled": false
   },
   "outputs": [],
   "source": [
    "ts = time.time()\n",
    "\n",
    "params = {\n",
    "    'objective': 'mse',\n",
    "    'metric': 'rmse',\n",
    "    'num_leaves': 2 ** 7 - 1,\n",
    "    'learning_rate': 0.005,\n",
    "    'feature_fraction': 0.75,\n",
    "    'bagging_fraction': 0.75,\n",
    "    'bagging_freq': 5,\n",
    "    'seed': 1,\n",
    "    'verbose': 1\n",
    "}\n",
    "\n",
    "lgb_train = lgb.Dataset(X_train, Y_train)\n",
    "lgb_eval  = lgb.Dataset(X_valid, Y_valid, reference=lgb_train)\n",
    "\n",
    "evals_result = {}\n",
    "model = lgb.train(\n",
    "        params, \n",
    "        lgb_train,\n",
    "        num_boost_round=3000,\n",
    "        valid_sets=(lgb_train, lgb_eval), \n",
    "        verbose_eval=5, \n",
    "        evals_result = evals_result,\n",
    "        early_stopping_rounds = 100)\n",
    "time.time() - ts"
   ]
  },
  {
   "cell_type": "code",
   "execution_count": null,
   "metadata": {
    "ExecuteTime": {
     "end_time": "2021-02-11T14:38:10.561218Z",
     "start_time": "2021-02-11T14:37:32.695Z"
    }
   },
   "outputs": [],
   "source": [
    "lgb.plot_importance(\n",
    "    model, \n",
    "    max_num_features=50, \n",
    "    importance_type='gain', \n",
    "    figsize=(12,10));"
   ]
  },
  {
   "cell_type": "markdown",
   "metadata": {},
   "source": [
    "# Entrenar con todo"
   ]
  },
  {
   "cell_type": "code",
   "execution_count": null,
   "metadata": {
    "ExecuteTime": {
     "end_time": "2021-02-11T14:38:10.563210Z",
     "start_time": "2021-02-11T14:37:32.700Z"
    }
   },
   "outputs": [],
   "source": [
    "X_train = df[df.date_block_num < 34].drop(['item_cnt_month'], axis=1)\n",
    "Y_train = df[df.date_block_num < 34]['item_cnt_month']"
   ]
  },
  {
   "cell_type": "code",
   "execution_count": null,
   "metadata": {
    "ExecuteTime": {
     "end_time": "2021-02-11T14:38:10.564208Z",
     "start_time": "2021-02-11T14:37:32.705Z"
    },
    "scrolled": false
   },
   "outputs": [],
   "source": [
    "ts = time.time()\n",
    "\n",
    "params = {\n",
    "    'objective': 'mse',\n",
    "    'metric': 'rmse',\n",
    "    'num_leaves': 2 ** 7 - 1,\n",
    "    'learning_rate': 0.005,\n",
    "    'feature_fraction': 0.75,\n",
    "    'bagging_fraction': 0.75,\n",
    "    'bagging_freq': 5,\n",
    "    'seed': 1,\n",
    "    'verbose': 1\n",
    "}\n",
    "\n",
    "lgb_train = lgb.Dataset(X_train, Y_train)\n",
    "lgb_eval  = lgb.Dataset(X_valid, Y_valid, reference=lgb_train)\n",
    "\n",
    "evals_result = {}\n",
    "model = lgb.train(\n",
    "        params, \n",
    "        lgb_train,\n",
    "        num_boost_round=3000,\n",
    "        valid_sets=(lgb_train, lgb_eval), \n",
    "        verbose_eval=5, \n",
    "        evals_result = evals_result,\n",
    "        early_stopping_rounds = 100)\n",
    "time.time() - ts"
   ]
  },
  {
   "cell_type": "code",
   "execution_count": null,
   "metadata": {
    "ExecuteTime": {
     "end_time": "2021-02-11T14:38:10.565205Z",
     "start_time": "2021-02-11T14:37:32.707Z"
    }
   },
   "outputs": [],
   "source": [
    "Y_test_pred = model.predict(X_test).clip(0, 20)\n",
    "Y_test_pred"
   ]
  },
  {
   "cell_type": "code",
   "execution_count": null,
   "metadata": {
    "ExecuteTime": {
     "end_time": "2021-02-11T14:38:10.566203Z",
     "start_time": "2021-02-11T14:37:32.710Z"
    }
   },
   "outputs": [],
   "source": [
    "sub[\"item_cnt_month\"] = Y_test_pred\n",
    "sub"
   ]
  },
  {
   "cell_type": "code",
   "execution_count": null,
   "metadata": {
    "ExecuteTime": {
     "end_time": "2021-02-11T14:38:10.567200Z",
     "start_time": "2021-02-11T14:37:32.712Z"
    }
   },
   "outputs": [],
   "source": [
    "sub.to_csv('../../segundoModelo_submission.csv')"
   ]
  },
  {
   "cell_type": "code",
   "execution_count": null,
   "metadata": {},
   "outputs": [],
   "source": []
  },
  {
   "cell_type": "code",
   "execution_count": null,
   "metadata": {},
   "outputs": [],
   "source": []
  },
  {
   "cell_type": "code",
   "execution_count": null,
   "metadata": {},
   "outputs": [],
   "source": []
  },
  {
   "cell_type": "code",
   "execution_count": null,
   "metadata": {
    "ExecuteTime": {
     "end_time": "2021-02-11T14:38:10.569195Z",
     "start_time": "2021-02-11T14:37:32.728Z"
    }
   },
   "outputs": [],
   "source": [
    "ts = time.time()\n",
    "'''\n",
    "#0.7875788072832439\n",
    "params = {'bagging_fraction': 0.99, 'bagging_freq': 8, 'bagging_seed': SEED, \n",
    "          'feature_fraction': 0.6802441991432773, 'feature_fraction_seed': SEED, \n",
    "          'lambda_l1': 200, 'lambda_l2': 200, 'learning_rate': 0.015, 'max_bin': 176, \n",
    "          'metric': 'rmse', 'min_child_samples': 656,\n",
    "          'min_child_weight': 636, 'min_split_gain': 0.1512409762978552, 'nthread': 8, \n",
    "          'num_leaves': 454, 'objective': 'mse', 'verbose': 0}\n",
    "'''\n",
    "SEED = 3246584\n",
    "#0.7838050006725876\n",
    "params = {'bagging_fraction': 0.5923685197548111, 'bagging_freq': 8, 'bagging_seed': SEED, \n",
    "          'feature_fraction': 0.6471558662772907, 'feature_fraction_seed': SEED, \n",
    "          'lambda_l1': 8, 'lambda_l2': 454, 'learning_rate': 0.15007983998456081, 'max_bin': 899, \n",
    "          'metric': 'rmse', 'min_child_samples': 463,\n",
    "          'min_child_weight': 578, 'min_split_gain': 0.21257474291512948, 'nthread': 8, \n",
    "          'num_leaves': 278, 'objective': 'mse', 'verbose': 0}\n",
    "\n",
    "\n",
    "\n",
    "\n",
    "evals_result = {}\n",
    "model = lgb.train(params, \n",
    "            train_set=lgb.Dataset(X_train, label=Y_train), \n",
    "            num_boost_round=50000,\n",
    "            valid_sets=[lgb.Dataset(X_train, label=Y_train), lgb.Dataset(X_valid, label=Y_valid)] ,\n",
    "            valid_names=['train', 'val'],\n",
    "            evals_result=evals_result,\n",
    "            verbose_eval=50,\n",
    "            early_stopping_rounds=400)\n",
    "time.time() - ts"
   ]
  },
  {
   "cell_type": "code",
   "execution_count": null,
   "metadata": {
    "ExecuteTime": {
     "end_time": "2021-02-11T14:38:10.571190Z",
     "start_time": "2021-02-11T14:37:32.731Z"
    }
   },
   "outputs": [],
   "source": [
    "print('Plotting metrics recorded during training...')\n",
    "ax = lgb.plot_metric(evals_result, metric='rmse')\n",
    "plt.show()"
   ]
  },
  {
   "cell_type": "code",
   "execution_count": null,
   "metadata": {
    "ExecuteTime": {
     "end_time": "2021-02-11T14:38:10.574183Z",
     "start_time": "2021-02-11T14:37:32.734Z"
    }
   },
   "outputs": [],
   "source": [
    "print('Plotting feature importances...')\n",
    "ax = lgb.plot_importance(model, max_num_features=15)\n",
    "plt.show()"
   ]
  },
  {
   "cell_type": "code",
   "execution_count": null,
   "metadata": {
    "ExecuteTime": {
     "end_time": "2021-02-11T14:38:10.575185Z",
     "start_time": "2021-02-11T14:37:32.737Z"
    }
   },
   "outputs": [],
   "source": [
    "ax = lgb.plot_tree(model, tree_index=0, figsize=(20, 8), show_info=['split_gain'])\n",
    "plt.show()"
   ]
  },
  {
   "cell_type": "code",
   "execution_count": null,
   "metadata": {
    "ExecuteTime": {
     "end_time": "2021-02-11T14:38:10.577173Z",
     "start_time": "2021-02-11T14:37:32.741Z"
    }
   },
   "outputs": [],
   "source": [
    "for i in range(4):\n",
    "    graph = lgb.create_tree_digraph(model, tree_index=i, name='./trees/Tree' + str(i))\n",
    "    graph.render(view=False)"
   ]
  },
  {
   "cell_type": "markdown",
   "metadata": {},
   "source": [
    "# Predicción"
   ]
  },
  {
   "cell_type": "code",
   "execution_count": null,
   "metadata": {
    "ExecuteTime": {
     "end_time": "2021-02-11T14:38:10.580166Z",
     "start_time": "2021-02-11T14:37:32.745Z"
    }
   },
   "outputs": [],
   "source": [
    "Y_valid_predict = model.predict(X_valid, num_iteration=model.best_iteration).clip(0, 20)\n",
    "\n",
    "rmseAux = mean_squared_error(Y_valid, Y_valid_predict)\n",
    "print (rmseAux)\n",
    "\n",
    "submission = pd.DataFrame({\n",
    "    \"shop_id\": X_valid['shop_id'],\n",
    "    \"item_id\": X_valid['item_id'], \n",
    "    \"item_cnt_month\": Y_valid,\n",
    "    \"predict\": Y_valid_predict,\n",
    "    \"predict_round\": Y_valid_predict.round(),\n",
    "    \"difference\": (Y_valid - Y_valid_predict.round())\n",
    "})\n",
    "submission.to_csv('lgb_submission.csv', index=False)"
   ]
  },
  {
   "cell_type": "code",
   "execution_count": null,
   "metadata": {
    "ExecuteTime": {
     "end_time": "2021-02-11T14:38:10.581165Z",
     "start_time": "2021-02-11T14:37:32.748Z"
    }
   },
   "outputs": [],
   "source": [
    "submission['difference'].describe()"
   ]
  },
  {
   "cell_type": "code",
   "execution_count": null,
   "metadata": {
    "ExecuteTime": {
     "end_time": "2021-02-11T14:38:10.582160Z",
     "start_time": "2021-02-11T14:37:32.751Z"
    }
   },
   "outputs": [],
   "source": [
    "print (\"Nº registros: \", submission['difference'].count())\n",
    "print (\"Nº aciertos: \", submission[submission.difference == 0]['difference'].count())"
   ]
  },
  {
   "cell_type": "code",
   "execution_count": null,
   "metadata": {
    "ExecuteTime": {
     "end_time": "2021-02-11T14:38:10.584155Z",
     "start_time": "2021-02-11T14:37:32.754Z"
    }
   },
   "outputs": [],
   "source": [
    "submission[submission.item_cnt_month > 3].sample(20, random_state =3333) #101, 5555, 3333"
   ]
  },
  {
   "cell_type": "code",
   "execution_count": null,
   "metadata": {
    "ExecuteTime": {
     "end_time": "2021-02-11T14:38:10.585162Z",
     "start_time": "2021-02-11T14:37:32.757Z"
    }
   },
   "outputs": [],
   "source": [
    "ax = sns.distplot(submission['difference'])"
   ]
  },
  {
   "cell_type": "code",
   "execution_count": null,
   "metadata": {
    "ExecuteTime": {
     "end_time": "2021-02-11T14:38:10.586149Z",
     "start_time": "2021-02-11T14:37:32.760Z"
    }
   },
   "outputs": [],
   "source": [
    "ax = sns.distplot(submission[submission.shop_id == 2]['difference'])"
   ]
  },
  {
   "cell_type": "code",
   "execution_count": null,
   "metadata": {
    "ExecuteTime": {
     "end_time": "2021-02-11T14:38:10.588162Z",
     "start_time": "2021-02-11T14:37:32.762Z"
    }
   },
   "outputs": [],
   "source": [
    "ax = sns.distplot(submission[submission.item_id == 30]['difference'])"
   ]
  },
  {
   "cell_type": "code",
   "execution_count": null,
   "metadata": {
    "ExecuteTime": {
     "end_time": "2021-02-11T14:38:10.590138Z",
     "start_time": "2021-02-11T14:37:32.766Z"
    }
   },
   "outputs": [],
   "source": [
    "shops = sorted(submission['shop_id'].unique().tolist())\n",
    "\n",
    "@interact(shopid=shops)\n",
    "def DiffShops(shopid):\n",
    "     ax = sns.distplot(submission[submission.shop_id == shopid]['difference'])"
   ]
  },
  {
   "cell_type": "code",
   "execution_count": null,
   "metadata": {
    "ExecuteTime": {
     "end_time": "2021-02-11T14:38:10.591136Z",
     "start_time": "2021-02-11T14:37:32.769Z"
    }
   },
   "outputs": [],
   "source": [
    "items = sorted(submission['item_id'].unique().tolist())\n",
    "\n",
    "@interact(itemid=items)\n",
    "def DiffItems(itemid):\n",
    "     ax = sns.distplot(submission[submission.item_id == itemid]['difference'])"
   ]
  },
  {
   "cell_type": "code",
   "execution_count": null,
   "metadata": {},
   "outputs": [],
   "source": []
  }
 ],
 "metadata": {
  "kernelspec": {
   "display_name": "Python 3",
   "language": "python",
   "name": "python3"
  },
  "language_info": {
   "codemirror_mode": {
    "name": "ipython",
    "version": 3
   },
   "file_extension": ".py",
   "mimetype": "text/x-python",
   "name": "python",
   "nbconvert_exporter": "python",
   "pygments_lexer": "ipython3",
   "version": "3.8.5"
  }
 },
 "nbformat": 4,
 "nbformat_minor": 2
}
