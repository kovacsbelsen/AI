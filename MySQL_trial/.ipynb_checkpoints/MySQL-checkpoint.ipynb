{
 "cells": [
  {
   "cell_type": "code",
   "execution_count": 11,
   "metadata": {},
   "outputs": [],
   "source": [
    "import sqlite3\n",
    "from sqlalchemy import create_engine\n",
    "import pandas as pd\n",
    "import pymysql"
   ]
  },
  {
   "cell_type": "code",
   "execution_count": 12,
   "metadata": {},
   "outputs": [],
   "source": [
    "def get_conn():\n",
    "    try:\n",
    "        conn = sqlite3.connect(\"strive.db\")\n",
    "        return conn\n",
    "    except Exception as ex:\n",
    "        return ex\n",
    "\n",
    "def get_remote_conn(user, pas, IP, port):\n",
    "    try:\n",
    "        engine = create_engine(\"mysql+pymysql://{}:{}@{}/{}?host={}?port={}\").format(user,pas,IP,user,IP,port)\n",
    "        conn = engine.connect()\n",
    "        return conn\n",
    "    except Exception as ex:\n",
    "        print(ex)\n",
    "        return ex\n",
    "    \n"
   ]
  },
  {
   "cell_type": "code",
   "execution_count": 13,
   "metadata": {},
   "outputs": [],
   "source": [
    "sentence = \"\"\"CREATE TABLE IF NOT EXISTS student(\n",
    "                                        name varchar(20) NOT NULL,\n",
    "                                        surname varchar(20) NOT NULL DEFAULT 'a',\n",
    "                                        id int NOT NULL,\n",
    "                                        country varchar(20),\n",
    "                                        city varchar(20),\n",
    "                                        CONSTRAINT pk PRIMARY KEY(id),\n",
    "                                        CONSTRAINT fk FOREIGN KEY(id) REFERENCES projects(st) ON UPDATE CASCADE\n",
    "                                    )\"\"\""
   ]
  },
  {
   "cell_type": "code",
   "execution_count": 14,
   "metadata": {},
   "outputs": [],
   "source": [
    "def sql_exectue(sentence):\n",
    "    try:\n",
    "        c = get_conn().cursor()\n",
    "        a = c.execute(sentence)\n",
    "        print(a)\n",
    "    except Exception as ex:\n",
    "        print(ex)\n",
    "        return ex"
   ]
  },
  {
   "cell_type": "code",
   "execution_count": 17,
   "metadata": {},
   "outputs": [],
   "source": [
    "def pd_execute(sentence):\n",
    "    \n",
    "    try:\n",
    "        df = pd.read_sql_query(sentence, get_conn())\n",
    "        return df\n",
    "    except Exception as ex:\n",
    "        print(ex)\n",
    "        return ex"
   ]
  },
  {
   "cell_type": "code",
   "execution_count": 18,
   "metadata": {},
   "outputs": [],
   "source": [
    "def pd_upload_csv(name : str, pth, head = 0):\n",
    "    \n",
    "    try:\n",
    "        df = pd.read_csv(pth, header = head)\n",
    "        frame = df.to_sql(name, get_conn(), if_exists = 'replace')\n",
    "        return frame\n",
    "    except Exception as ex:\n",
    "        print(ex)\n",
    "        return ex"
   ]
  },
  {
   "cell_type": "code",
   "execution_count": null,
   "metadata": {},
   "outputs": [],
   "source": []
  }
 ],
 "metadata": {
  "kernelspec": {
   "display_name": "Python 3",
   "language": "python",
   "name": "python3"
  },
  "language_info": {
   "codemirror_mode": {
    "name": "ipython",
    "version": 3
   },
   "file_extension": ".py",
   "mimetype": "text/x-python",
   "name": "python",
   "nbconvert_exporter": "python",
   "pygments_lexer": "ipython3",
   "version": "3.8.5"
  }
 },
 "nbformat": 4,
 "nbformat_minor": 4
}
