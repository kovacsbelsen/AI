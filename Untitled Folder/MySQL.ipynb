{
 "cells": [
  {
   "cell_type": "code",
   "execution_count": 11,
   "metadata": {},
   "outputs": [],
   "source": [
    "import sqlite3\n",
    "from sqlalchemy import create_engine\n",
    "import pandas as pd\n",
    "import pymysql"
   ]
  },
  {
   "cell_type": "code",
   "execution_count": 20,
   "metadata": {},
   "outputs": [],
   "source": [
    "def get_conn():\n",
    "    try:\n",
    "        conn = sqlite3.connect(\"strive.db\")\n",
    "        return conn\n",
    "    except Exception as ex:\n",
    "        return ex\n",
    "\n"
   ]
  },
  {
   "cell_type": "code",
   "execution_count": 21,
   "metadata": {},
   "outputs": [],
   "source": [
    "def get_remote_conn(user, pas, IP, port):\n",
    "    try:\n",
    "        engine = create_engine(\"mysql+pymysql://{}:{}@{}/{}?host={}?port={}\").format(user,pas,IP,user,IP,port)\n",
    "        conn = engine.connect()\n",
    "        return conn\n",
    "    except Exception as ex:\n",
    "        print(ex)\n",
    "        return ex"
   ]
  },
  {
   "cell_type": "code",
   "execution_count": 13,
   "metadata": {},
   "outputs": [],
   "source": [
    "sentence = \"\"\"CREATE TABLE IF NOT EXISTS student(\n",
    "                                        name varchar(20) NOT NULL,\n",
    "                                        surname varchar(20) NOT NULL DEFAULT 'a',\n",
    "                                        id int NOT NULL,\n",
    "                                        country varchar(20),\n",
    "                                        city varchar(20),\n",
    "                                        CONSTRAINT pk PRIMARY KEY(id),\n",
    "                                        CONSTRAINT fk FOREIGN KEY(id) REFERENCES projects(st) ON UPDATE CASCADE\n",
    "                                    )\"\"\""
   ]
  },
  {
   "cell_type": "code",
   "execution_count": null,
   "metadata": {},
   "outputs": [],
   "source": [
    "CREATE TABLE IF NOT EXISTS student (\n",
    "                                    name varchar(20) NOT NULL,\n",
    "                                    surname varchar(20) NOT NULL DEFAULT 'a',\n",
    "                                    id int NOT NULL,\n",
    "                                    country varchar(20),\n",
    "                                    city varchar(20),\n",
    "                                    CONSTRAINT pk PRIMARY KEY(id),\n",
    "                                    CONSTRAINT fk FOREIGN KEY(id) REFERENCES projects(st) ON UPDATE CASCADE\n",
    "                                );\n"
   ]
  },
  {
   "cell_type": "code",
   "execution_count": 14,
   "metadata": {},
   "outputs": [],
   "source": [
    "def sql_exectue(sentence):\n",
    "    try:\n",
    "        c = get_conn().cursor()\n",
    "        a = c.execute(sentence)\n",
    "        print(a)\n",
    "    except Exception as ex:\n",
    "        print(ex)\n",
    "        return ex"
   ]
  },
  {
   "cell_type": "code",
   "execution_count": 17,
   "metadata": {},
   "outputs": [],
   "source": [
    "def pd_execute(sentence):\n",
    "    \n",
    "    try:\n",
    "        df = pd.read_sql_query(sentence, get_conn())\n",
    "        return df\n",
    "    except Exception as ex:\n",
    "        print(ex)\n",
    "        return ex"
   ]
  },
  {
   "cell_type": "code",
   "execution_count": 18,
   "metadata": {},
   "outputs": [],
   "source": [
    "def pd_upload_csv(name : str, pth, head = 0):\n",
    "    \n",
    "    try:\n",
    "        df = pd.read_csv(pth, header = head)\n",
    "        frame = df.to_sql(name, get_conn(), if_exists = 'replace')\n",
    "        return frame\n",
    "    except Exception as ex:\n",
    "        print(ex)\n",
    "        return ex"
   ]
  },
  {
   "cell_type": "code",
   "execution_count": null,
   "metadata": {},
   "outputs": [],
   "source": [
    "#live coding below for sql interface"
   ]
  },
  {
   "cell_type": "code",
   "execution_count": null,
   "metadata": {},
   "outputs": [],
   "source": [
    "import sqlite3    # use sqlite for local projects\n",
    "import pandas as pd\n",
    "\n",
    "conn = sqlite.connect(\"strive.db\")\n",
    "\n",
    "\n",
    "conn = \"\"\n",
    "try:\n",
    "    conn = sqlite.connect(\"strive.db\")\n",
    "except Exception as ex:\n",
    "    print(ex)"
   ]
  },
  {
   "cell_type": "code",
   "execution_count": null,
   "metadata": {},
   "outputs": [],
   "source": [
    "# stc = sentence\n",
    "def sql_query(stc):\n",
    "    try:\n",
    "        \n",
    "        c = conn.cursor()\n",
    "        reply = c.execute(stc)\n",
    "        conn.commit()\n",
    "    except Exception as ex:\n",
    "        print(ex)"
   ]
  },
  {
   "cell_type": "code",
   "execution_count": 1,
   "metadata": {
    "ExecuteTime": {
     "end_time": "2021-04-14T13:21:09.395914Z",
     "start_time": "2021-04-14T13:21:09.365992Z"
    }
   },
   "outputs": [],
   "source": [
    "def pandas_select(stc):\n",
    "    \n",
    "    try:\n",
    "        if stc.split()[0].lower() == \"select\":\n",
    "            df = pd.read_sql_query(stc, conn)\n",
    "            return df\n",
    "        else:\n",
    "            return pd.DataFrame()\n",
    "    except Exception as ex:\n",
    "        return pd.DataFrame()"
   ]
  },
  {
   "cell_type": "code",
   "execution_count": null,
   "metadata": {},
   "outputs": [],
   "source": [
    "def upload_data(name : str, path, head = 0)\n",
    "    try:\n",
    "        df = pd.read_csv(path)\n",
    "        frame = df.to_sql(name, conn, if_exist = 'append')\n",
    "    except Exception as ex:\n",
    "        print(ex)"
   ]
  },
  {
   "cell_type": "code",
   "execution_count": 6,
   "metadata": {
    "ExecuteTime": {
     "end_time": "2021-04-14T13:38:55.688102Z",
     "start_time": "2021-04-14T13:38:55.683115Z"
    }
   },
   "outputs": [],
   "source": [
    "# live coding for data tables\n"
   ]
  },
  {
   "cell_type": "code",
   "execution_count": 7,
   "metadata": {
    "ExecuteTime": {
     "end_time": "2021-04-14T13:42:50.206612Z",
     "start_time": "2021-04-14T13:42:50.193648Z"
    }
   },
   "outputs": [
    {
     "ename": "ModuleNotFoundError",
     "evalue": "No module named 'sql_interface'",
     "output_type": "error",
     "traceback": [
      "\u001b[1;31m---------------------------------------------------------------------------\u001b[0m",
      "\u001b[1;31mModuleNotFoundError\u001b[0m                       Traceback (most recent call last)",
      "\u001b[1;32m<ipython-input-7-b06dd2fca245>\u001b[0m in \u001b[0;36m<module>\u001b[1;34m\u001b[0m\n\u001b[1;32m----> 1\u001b[1;33m \u001b[1;32mimport\u001b[0m \u001b[0msql_interface\u001b[0m \u001b[1;32mas\u001b[0m \u001b[0msql\u001b[0m\u001b[1;33m\u001b[0m\u001b[1;33m\u001b[0m\u001b[0m\n\u001b[0m\u001b[0;32m      2\u001b[0m \u001b[1;32mimport\u001b[0m \u001b[0msqlite3\u001b[0m\u001b[1;33m\u001b[0m\u001b[1;33m\u001b[0m\u001b[0m\n\u001b[0;32m      3\u001b[0m \u001b[1;32mimport\u001b[0m \u001b[0mpandas\u001b[0m \u001b[1;32mas\u001b[0m \u001b[0mpd\u001b[0m\u001b[1;33m\u001b[0m\u001b[1;33m\u001b[0m\u001b[0m\n\u001b[0;32m      4\u001b[0m \u001b[1;33m\u001b[0m\u001b[0m\n\u001b[0;32m      5\u001b[0m \u001b[1;33m\u001b[0m\u001b[0m\n",
      "\u001b[1;31mModuleNotFoundError\u001b[0m: No module named 'sql_interface'"
     ]
    }
   ],
   "source": [
    "import sql_interface as sql\n",
    "import sqlite3\n",
    "import pandas as pd\n",
    "\n",
    "\n",
    "create_student_table = \"\"\"CREATE TABLE student(\n",
    "                            name char(20) NOT NULL,\n",
    "                            surname char(20) NOT NULL,\n",
    "                            id int NOT NULL PRIMARY KEY,\n",
    "                            country char(20),\n",
    "                            FOREIGN KEY(id) REFERENCES projects (st)\n",
    "                            );\n",
    "                            \"\"\"\n",
    "\n"
   ]
  },
  {
   "cell_type": "code",
   "execution_count": null,
   "metadata": {},
   "outputs": [],
   "source": [
    "create_student = \"\"\"INSERT INTO \n",
    "                    student(name, surname, id)\n",
    "                    VALUES('tobias', 'schulz', 00);\n",
    "                    \"\"\"\n",
    "\n",
    "select = \"SELECT * FROM student\"\n",
    "\n",
    "drop_table = \"DROP TABLE student\"\n",
    "\n",
    "add_pk = \"ALTER TABLE students ADD PRIMARY KEY(id)\"\n",
    "\n",
    "sql.sql_query(add_pk)\n",
    "\n",
    "\n",
    "print(sql.sql_query(create_student_table))\n",
    "\n",
    "print(sql.sql_query(create_student))\n",
    "    \n",
    "print(sql.pandas_select(select))"
   ]
  },
  {
   "cell_type": "code",
   "execution_count": null,
   "metadata": {},
   "outputs": [],
   "source": []
  }
 ],
 "metadata": {
  "kernelspec": {
   "display_name": "Python 3",
   "language": "python",
   "name": "python3"
  },
  "language_info": {
   "codemirror_mode": {
    "name": "ipython",
    "version": 3
   },
   "file_extension": ".py",
   "mimetype": "text/x-python",
   "name": "python",
   "nbconvert_exporter": "python",
   "pygments_lexer": "ipython3",
   "version": "3.8.5"
  }
 },
 "nbformat": 4,
 "nbformat_minor": 4
}
