{
 "cells": [
  {
   "cell_type": "markdown",
   "metadata": {},
   "source": [
    "<h1 align=\"center\">3.1 Feature Engeneering (Shops)</h1>\n",
    "<h3 align=\"center\">Dataset: <a href=\"https://www.kaggle.com/c/competitive-data-science-predict-future-sales\">Predict future sales</a></h3>"
   ]
  },
  {
   "cell_type": "markdown",
   "metadata": {},
   "source": [
    "### Imports"
   ]
  },
  {
   "cell_type": "code",
   "execution_count": 1,
   "metadata": {
    "ExecuteTime": {
     "end_time": "2021-02-11T14:27:11.409243Z",
     "start_time": "2021-02-11T14:27:09.735609Z"
    }
   },
   "outputs": [],
   "source": [
    "import pandas as pd\n",
    "import numpy as np\n",
    "import matplotlib.pyplot as plt\n",
    "\n",
    "from geopy.geocoders import Nominatim # pacman -S python-geopy\n",
    "#from mpl_toolkits.basemap import Basemap # pacman -S python-basemap\n",
    "\n",
    "from itertools import product\n",
    "from collections import Counter\n",
    "from sklearn.cluster import KMeans"
   ]
  },
  {
   "cell_type": "markdown",
   "metadata": {},
   "source": [
    "### Constants"
   ]
  },
  {
   "cell_type": "code",
   "execution_count": 2,
   "metadata": {
    "ExecuteTime": {
     "end_time": "2021-02-11T14:27:11.415204Z",
     "start_time": "2021-02-11T14:27:11.411189Z"
    }
   },
   "outputs": [],
   "source": [
    "ENGLISH = True\n",
    "\n",
    "DATA_RUS_PATH = \"../DATA/1. Original data Russian (96Mb)/\"\n",
    "DATA_ENG_PATH = \"../DATA/2. Translated data English (1Mb)/\"\n",
    "DATA_FE_PATH  = \"../DATA/3. Feature Engeneering/\"\n",
    "DATA_SUB_PATH = \"../DATA/5. Submissions/\""
   ]
  },
  {
   "cell_type": "markdown",
   "metadata": {},
   "source": [
    "### Load data"
   ]
  },
  {
   "cell_type": "code",
   "execution_count": 3,
   "metadata": {
    "ExecuteTime": {
     "end_time": "2021-02-11T14:27:13.061336Z",
     "start_time": "2021-02-11T14:27:11.421160Z"
    }
   },
   "outputs": [],
   "source": [
    "sales = pd.read_csv(DATA_RUS_PATH + \"sales_train.csv\")          # Dayly sales  Jan 2013 -> Oct 2015\n",
    "test  = pd.read_csv(DATA_RUS_PATH + \"test.csv\", index_col=\"ID\") # Predict Noviember 2015\n",
    "sub   = pd.read_csv(DATA_RUS_PATH + \"sample_submission.csv\", index_col=\"ID\")\n",
    "\n",
    "if ENGLISH: \n",
    "    shops = pd.read_csv(DATA_ENG_PATH + \"shops.csv\", index_col=\"shop_id\") # shops    (60)\n",
    "    items = pd.read_csv(DATA_ENG_PATH + \"items.csv\")           # products  (22170)\n",
    "    cats  = pd.read_csv(DATA_ENG_PATH + \"item_categories.csv\") # product categories (84)\n",
    "\n",
    "else:\n",
    "    shops = pd.read_csv(DATA_RUS_PATH + \"shops.csv\", index_col=\"shop_id\")           # shops    (60)\n",
    "    items = pd.read_csv(DATA_RUS_PATH + \"items.csv\")           # products  (22170)\n",
    "    cats  = pd.read_csv(DATA_RUS_PATH + \"item_categories.csv\") # product categories (84)"
   ]
  },
  {
   "cell_type": "markdown",
   "metadata": {},
   "source": [
    "### Shops"
   ]
  },
  {
   "cell_type": "code",
   "execution_count": 4,
   "metadata": {
    "ExecuteTime": {
     "end_time": "2021-02-11T14:27:13.081325Z",
     "start_time": "2021-02-11T14:27:13.062337Z"
    }
   },
   "outputs": [
    {
     "data": {
      "text/html": [
       "<div>\n",
       "<style scoped>\n",
       "    .dataframe tbody tr th:only-of-type {\n",
       "        vertical-align: middle;\n",
       "    }\n",
       "\n",
       "    .dataframe tbody tr th {\n",
       "        vertical-align: top;\n",
       "    }\n",
       "\n",
       "    .dataframe thead th {\n",
       "        text-align: right;\n",
       "    }\n",
       "</style>\n",
       "<table border=\"1\" class=\"dataframe\">\n",
       "  <thead>\n",
       "    <tr style=\"text-align: right;\">\n",
       "      <th></th>\n",
       "      <th>shop_name</th>\n",
       "    </tr>\n",
       "    <tr>\n",
       "      <th>shop_id</th>\n",
       "      <th></th>\n",
       "    </tr>\n",
       "  </thead>\n",
       "  <tbody>\n",
       "    <tr>\n",
       "      <th>0</th>\n",
       "      <td>Yakutsk Ordzhonikidze - 56 francs</td>\n",
       "    </tr>\n",
       "    <tr>\n",
       "      <th>1</th>\n",
       "      <td>Yakutsk TC Central fran</td>\n",
       "    </tr>\n",
       "    <tr>\n",
       "      <th>2</th>\n",
       "      <td>Adygea TC Mega</td>\n",
       "    </tr>\n",
       "  </tbody>\n",
       "</table>\n",
       "</div>"
      ],
      "text/plain": [
       "                                 shop_name\n",
       "shop_id                                   \n",
       "0        Yakutsk Ordzhonikidze - 56 francs\n",
       "1                  Yakutsk TC Central fran\n",
       "2                           Adygea TC Mega"
      ]
     },
     "execution_count": 4,
     "metadata": {},
     "output_type": "execute_result"
    }
   ],
   "source": [
    "shops.head(3)"
   ]
  },
  {
   "cell_type": "markdown",
   "metadata": {},
   "source": [
    "### Lowercase"
   ]
  },
  {
   "cell_type": "code",
   "execution_count": 5,
   "metadata": {
    "ExecuteTime": {
     "end_time": "2021-02-11T14:27:13.093256Z",
     "start_time": "2021-02-11T14:27:13.083280Z"
    }
   },
   "outputs": [
    {
     "data": {
      "text/html": [
       "<div>\n",
       "<style scoped>\n",
       "    .dataframe tbody tr th:only-of-type {\n",
       "        vertical-align: middle;\n",
       "    }\n",
       "\n",
       "    .dataframe tbody tr th {\n",
       "        vertical-align: top;\n",
       "    }\n",
       "\n",
       "    .dataframe thead th {\n",
       "        text-align: right;\n",
       "    }\n",
       "</style>\n",
       "<table border=\"1\" class=\"dataframe\">\n",
       "  <thead>\n",
       "    <tr style=\"text-align: right;\">\n",
       "      <th></th>\n",
       "      <th>shop_name</th>\n",
       "    </tr>\n",
       "    <tr>\n",
       "      <th>shop_id</th>\n",
       "      <th></th>\n",
       "    </tr>\n",
       "  </thead>\n",
       "  <tbody>\n",
       "    <tr>\n",
       "      <th>0</th>\n",
       "      <td>yakutsk ordzhonikidze - 56 francs</td>\n",
       "    </tr>\n",
       "    <tr>\n",
       "      <th>1</th>\n",
       "      <td>yakutsk tc central fran</td>\n",
       "    </tr>\n",
       "    <tr>\n",
       "      <th>2</th>\n",
       "      <td>adygea tc mega</td>\n",
       "    </tr>\n",
       "  </tbody>\n",
       "</table>\n",
       "</div>"
      ],
      "text/plain": [
       "                                 shop_name\n",
       "shop_id                                   \n",
       "0        yakutsk ordzhonikidze - 56 francs\n",
       "1                  yakutsk tc central fran\n",
       "2                           adygea tc mega"
      ]
     },
     "execution_count": 5,
     "metadata": {},
     "output_type": "execute_result"
    }
   ],
   "source": [
    "shops['shop_name'] = shops['shop_name'].str.lower()\n",
    "# shops['shop_name'] = shops['shop_name'].str.replace(r'[^\\w\\d\\s]', ' ')\n",
    "shops.head(3)"
   ]
  },
  {
   "cell_type": "markdown",
   "metadata": {},
   "source": [
    "### Shop type"
   ]
  },
  {
   "cell_type": "code",
   "execution_count": 6,
   "metadata": {
    "ExecuteTime": {
     "end_time": "2021-02-11T14:27:13.099240Z",
     "start_time": "2021-02-11T14:27:13.095248Z"
    }
   },
   "outputs": [],
   "source": [
    "\"\"\"\n",
    "shops['shop_type'] = shops['shop_name'].apply(lambda x: 'МТРЦ' if 'МТРЦ' in x\n",
    "                                              else 'ТРЦ' if 'ТРЦ' in x\n",
    "                                              else 'ТРК' if 'ТРК' in x\n",
    "                                              else 'ТЦ' if 'ТЦ' in x\n",
    "                                              else 'ТК' if 'ТК' in x\n",
    "                                              else 'NO_DATA')\n",
    "\"\"\";"
   ]
  },
  {
   "cell_type": "code",
   "execution_count": 7,
   "metadata": {
    "ExecuteTime": {
     "end_time": "2021-02-11T14:27:13.487627Z",
     "start_time": "2021-02-11T14:27:13.103239Z"
    },
    "scrolled": true
   },
   "outputs": [
    {
     "data": {
      "image/png": "[encoded data removed]",
      "text/plain": [
       "<Figure size 432x288 with 1 Axes>"
      ]
     },
     "metadata": {},
     "output_type": "display_data"
    }
   ],
   "source": [
    "shops['shop_type'] = 'regular' # By default all shops are regular shops\n",
    "\n",
    "#there is some overlap in tc and mall, mall is given precedence\n",
    "shops.loc[ shops['shop_name'].str.contains(r'tc'), 'shop_type' ]               = 'tc'\n",
    "shops.loc[ shops['shop_name'].str.contains(r'mall|center|mega'), 'shop_type' ] = 'mall'\n",
    "shops.loc[ shops.index.isin([9,20]), 'shop_type' ]                             = 'special'\n",
    "shops.loc[ shops.index.isin([12,55]), 'shop_type' ]                            = 'online'\n",
    "\n",
    "shops['shop_type'].value_counts().plot.pie();"
   ]
  },
  {
   "cell_type": "markdown",
   "metadata": {},
   "source": [
    "### Shop city"
   ]
  },
  {
   "cell_type": "code",
   "execution_count": 8,
   "metadata": {
    "ExecuteTime": {
     "end_time": "2021-02-11T14:27:13.792782Z",
     "start_time": "2021-02-11T14:27:13.490590Z"
    }
   },
   "outputs": [
    {
     "data": {
      "image/png": "[encoded data removed]",
      "text/plain": [
       "<Figure size 432x288 with 1 Axes>"
      ]
     },
     "metadata": {},
     "output_type": "display_data"
    }
   ],
   "source": [
    "shops['shop_city'] = shops['shop_name'].str.split().str[0]\n",
    "shops.loc[shops.index.isin([9,12,55]), 'shop_city'] = 'No-city'\n",
    "\n",
    "shops['shop_city'].value_counts().plot.pie();"
   ]
  },
  {
   "cell_type": "markdown",
   "metadata": {},
   "source": [
    "### Latitude & Longitude"
   ]
  },
  {
   "cell_type": "code",
   "execution_count": 9,
   "metadata": {
    "ExecuteTime": {
     "end_time": "2021-02-11T14:27:13.803755Z",
     "start_time": "2021-02-11T14:27:13.794777Z"
    }
   },
   "outputs": [
    {
     "data": {
      "text/plain": [
       "array(['yakutsk', 'adygea', 'balashikha', 'volga', 'vologda', 'voronezh',\n",
       "       'No-city', 'zhukovsky', 'kazan', 'kaluga', 'kolomna',\n",
       "       'krasnoyarsk', 'kursk', 'moscow', 'mytishchi', 'nizhni.novgorod',\n",
       "       'novosibirsk', 'omsk', 'rostov-on-don', 'st.petersburg', 'samara',\n",
       "       'sergiev', 'surgut', 'tomsk', 'tyumen', 'ufa', 'khimki', 'chekhov',\n",
       "       'yaroslavl'], dtype=object)"
      ]
     },
     "execution_count": 9,
     "metadata": {},
     "output_type": "execute_result"
    }
   ],
   "source": [
    "cities = pd.DataFrame(shops['shop_city'].unique(), columns=[\"shop_city\"])\n",
    "shops['shop_city'].unique()"
   ]
  },
  {
   "cell_type": "code",
   "execution_count": 10,
   "metadata": {
    "ExecuteTime": {
     "end_time": "2021-02-11T14:27:30.692951Z",
     "start_time": "2021-02-11T14:27:13.805749Z"
    },
    "scrolled": false
   },
   "outputs": [],
   "source": [
    "def add_lat_lon(df):\n",
    "\n",
    "    city = df[\"shop_city\"]\n",
    "    \n",
    "    if city==\"No-city\":\n",
    "        df['latitude']  = 0\n",
    "        df['longitude'] = 0\n",
    "        \n",
    "    else:\n",
    "        country =\"Ru\"\n",
    "        geolocator = Nominatim(user_agent=\"my_user_agent\")\n",
    "        loc = geolocator.geocode(city+','+ country)\n",
    "    \n",
    "        if loc != None:\n",
    "            df['latitude'] = loc.latitude\n",
    "            df['longitude'] = loc.longitude\n",
    "            \n",
    "    return df\n",
    "\n",
    "cities = cities.apply(add_lat_lon, axis=1)"
   ]
  },
  {
   "cell_type": "code",
   "execution_count": 11,
   "metadata": {
    "ExecuteTime": {
     "end_time": "2021-02-11T14:27:30.711900Z",
     "start_time": "2021-02-11T14:27:30.695956Z"
    }
   },
   "outputs": [
    {
     "data": {
      "text/html": [
       "<div>\n",
       "<style scoped>\n",
       "    .dataframe tbody tr th:only-of-type {\n",
       "        vertical-align: middle;\n",
       "    }\n",
       "\n",
       "    .dataframe tbody tr th {\n",
       "        vertical-align: top;\n",
       "    }\n",
       "\n",
       "    .dataframe thead th {\n",
       "        text-align: right;\n",
       "    }\n",
       "</style>\n",
       "<table border=\"1\" class=\"dataframe\">\n",
       "  <thead>\n",
       "    <tr style=\"text-align: right;\">\n",
       "      <th></th>\n",
       "      <th>shop_city</th>\n",
       "      <th>latitude</th>\n",
       "      <th>longitude</th>\n",
       "    </tr>\n",
       "  </thead>\n",
       "  <tbody>\n",
       "    <tr>\n",
       "      <th>0</th>\n",
       "      <td>yakutsk</td>\n",
       "      <td>62.027287</td>\n",
       "      <td>129.732086</td>\n",
       "    </tr>\n",
       "    <tr>\n",
       "      <th>1</th>\n",
       "      <td>adygea</td>\n",
       "      <td>44.693901</td>\n",
       "      <td>40.152042</td>\n",
       "    </tr>\n",
       "    <tr>\n",
       "      <th>2</th>\n",
       "      <td>balashikha</td>\n",
       "      <td>55.803623</td>\n",
       "      <td>37.964649</td>\n",
       "    </tr>\n",
       "    <tr>\n",
       "      <th>3</th>\n",
       "      <td>volga</td>\n",
       "      <td>56.167024</td>\n",
       "      <td>44.215057</td>\n",
       "    </tr>\n",
       "    <tr>\n",
       "      <th>4</th>\n",
       "      <td>vologda</td>\n",
       "      <td>59.218876</td>\n",
       "      <td>39.893276</td>\n",
       "    </tr>\n",
       "    <tr>\n",
       "      <th>5</th>\n",
       "      <td>voronezh</td>\n",
       "      <td>51.660598</td>\n",
       "      <td>39.200586</td>\n",
       "    </tr>\n",
       "    <tr>\n",
       "      <th>6</th>\n",
       "      <td>No-city</td>\n",
       "      <td>0.000000</td>\n",
       "      <td>0.000000</td>\n",
       "    </tr>\n",
       "    <tr>\n",
       "      <th>7</th>\n",
       "      <td>zhukovsky</td>\n",
       "      <td>55.597280</td>\n",
       "      <td>38.119986</td>\n",
       "    </tr>\n",
       "    <tr>\n",
       "      <th>8</th>\n",
       "      <td>kazan</td>\n",
       "      <td>55.782355</td>\n",
       "      <td>49.124227</td>\n",
       "    </tr>\n",
       "    <tr>\n",
       "      <th>9</th>\n",
       "      <td>kaluga</td>\n",
       "      <td>54.510109</td>\n",
       "      <td>36.259811</td>\n",
       "    </tr>\n",
       "    <tr>\n",
       "      <th>10</th>\n",
       "      <td>kolomna</td>\n",
       "      <td>55.093874</td>\n",
       "      <td>38.767012</td>\n",
       "    </tr>\n",
       "    <tr>\n",
       "      <th>11</th>\n",
       "      <td>krasnoyarsk</td>\n",
       "      <td>63.323381</td>\n",
       "      <td>97.097997</td>\n",
       "    </tr>\n",
       "    <tr>\n",
       "      <th>12</th>\n",
       "      <td>kursk</td>\n",
       "      <td>51.739433</td>\n",
       "      <td>36.179604</td>\n",
       "    </tr>\n",
       "    <tr>\n",
       "      <th>13</th>\n",
       "      <td>moscow</td>\n",
       "      <td>55.750446</td>\n",
       "      <td>37.617494</td>\n",
       "    </tr>\n",
       "    <tr>\n",
       "      <th>14</th>\n",
       "      <td>mytishchi</td>\n",
       "      <td>55.909493</td>\n",
       "      <td>37.733936</td>\n",
       "    </tr>\n",
       "    <tr>\n",
       "      <th>15</th>\n",
       "      <td>nizhni.novgorod</td>\n",
       "      <td>56.328571</td>\n",
       "      <td>44.003506</td>\n",
       "    </tr>\n",
       "    <tr>\n",
       "      <th>16</th>\n",
       "      <td>novosibirsk</td>\n",
       "      <td>55.028217</td>\n",
       "      <td>82.923451</td>\n",
       "    </tr>\n",
       "    <tr>\n",
       "      <th>17</th>\n",
       "      <td>omsk</td>\n",
       "      <td>54.991375</td>\n",
       "      <td>73.371529</td>\n",
       "    </tr>\n",
       "    <tr>\n",
       "      <th>18</th>\n",
       "      <td>rostov-on-don</td>\n",
       "      <td>47.221386</td>\n",
       "      <td>39.711420</td>\n",
       "    </tr>\n",
       "    <tr>\n",
       "      <th>19</th>\n",
       "      <td>st.petersburg</td>\n",
       "      <td>59.938732</td>\n",
       "      <td>30.316229</td>\n",
       "    </tr>\n",
       "    <tr>\n",
       "      <th>20</th>\n",
       "      <td>samara</td>\n",
       "      <td>53.198627</td>\n",
       "      <td>50.113987</td>\n",
       "    </tr>\n",
       "    <tr>\n",
       "      <th>21</th>\n",
       "      <td>sergiev</td>\n",
       "      <td>56.313340</td>\n",
       "      <td>38.132073</td>\n",
       "    </tr>\n",
       "    <tr>\n",
       "      <th>22</th>\n",
       "      <td>surgut</td>\n",
       "      <td>61.254032</td>\n",
       "      <td>73.396400</td>\n",
       "    </tr>\n",
       "    <tr>\n",
       "      <th>23</th>\n",
       "      <td>tomsk</td>\n",
       "      <td>58.612428</td>\n",
       "      <td>82.047532</td>\n",
       "    </tr>\n",
       "    <tr>\n",
       "      <th>24</th>\n",
       "      <td>tyumen</td>\n",
       "      <td>57.153534</td>\n",
       "      <td>65.542274</td>\n",
       "    </tr>\n",
       "    <tr>\n",
       "      <th>25</th>\n",
       "      <td>ufa</td>\n",
       "      <td>54.726141</td>\n",
       "      <td>55.947499</td>\n",
       "    </tr>\n",
       "    <tr>\n",
       "      <th>26</th>\n",
       "      <td>khimki</td>\n",
       "      <td>55.889285</td>\n",
       "      <td>37.444990</td>\n",
       "    </tr>\n",
       "    <tr>\n",
       "      <th>27</th>\n",
       "      <td>chekhov</td>\n",
       "      <td>55.142660</td>\n",
       "      <td>37.454533</td>\n",
       "    </tr>\n",
       "    <tr>\n",
       "      <th>28</th>\n",
       "      <td>yaroslavl</td>\n",
       "      <td>57.626388</td>\n",
       "      <td>39.893371</td>\n",
       "    </tr>\n",
       "  </tbody>\n",
       "</table>\n",
       "</div>"
      ],
      "text/plain": [
       "          shop_city   latitude   longitude\n",
       "0           yakutsk  62.027287  129.732086\n",
       "1            adygea  44.693901   40.152042\n",
       "2        balashikha  55.803623   37.964649\n",
       "3             volga  56.167024   44.215057\n",
       "4           vologda  59.218876   39.893276\n",
       "5          voronezh  51.660598   39.200586\n",
       "6           No-city   0.000000    0.000000\n",
       "7         zhukovsky  55.597280   38.119986\n",
       "8             kazan  55.782355   49.124227\n",
       "9            kaluga  54.510109   36.259811\n",
       "10          kolomna  55.093874   38.767012\n",
       "11      krasnoyarsk  63.323381   97.097997\n",
       "12            kursk  51.739433   36.179604\n",
       "13           moscow  55.750446   37.617494\n",
       "14        mytishchi  55.909493   37.733936\n",
       "15  nizhni.novgorod  56.328571   44.003506\n",
       "16      novosibirsk  55.028217   82.923451\n",
       "17             omsk  54.991375   73.371529\n",
       "18    rostov-on-don  47.221386   39.711420\n",
       "19    st.petersburg  59.938732   30.316229\n",
       "20           samara  53.198627   50.113987\n",
       "21          sergiev  56.313340   38.132073\n",
       "22           surgut  61.254032   73.396400\n",
       "23            tomsk  58.612428   82.047532\n",
       "24           tyumen  57.153534   65.542274\n",
       "25              ufa  54.726141   55.947499\n",
       "26           khimki  55.889285   37.444990\n",
       "27          chekhov  55.142660   37.454533\n",
       "28        yaroslavl  57.626388   39.893371"
      ]
     },
     "execution_count": 11,
     "metadata": {},
     "output_type": "execute_result"
    }
   ],
   "source": [
    "cities"
   ]
  },
  {
   "cell_type": "code",
   "execution_count": 12,
   "metadata": {
    "ExecuteTime": {
     "end_time": "2021-02-11T14:27:31.430523Z",
     "start_time": "2021-02-11T14:27:30.716888Z"
    }
   },
   "outputs": [
    {
     "ename": "NameError",
     "evalue": "name 'Basemap' is not defined",
     "output_type": "error",
     "traceback": [
      "\u001b[1;31m---------------------------------------------------------------------------\u001b[0m",
      "\u001b[1;31mNameError\u001b[0m                                 Traceback (most recent call last)",
      "\u001b[1;32m<ipython-input-12-3bf03fc0137a>\u001b[0m in \u001b[0;36m<module>\u001b[1;34m\u001b[0m\n\u001b[0;32m      1\u001b[0m \u001b[0mfig\u001b[0m \u001b[1;33m=\u001b[0m \u001b[0mplt\u001b[0m\u001b[1;33m.\u001b[0m\u001b[0mfigure\u001b[0m\u001b[1;33m(\u001b[0m\u001b[0mfigsize\u001b[0m\u001b[1;33m=\u001b[0m\u001b[1;33m(\u001b[0m\u001b[1;36m14\u001b[0m\u001b[1;33m,\u001b[0m \u001b[1;36m7\u001b[0m\u001b[1;33m)\u001b[0m\u001b[1;33m)\u001b[0m\u001b[1;33m\u001b[0m\u001b[1;33m\u001b[0m\u001b[0m\n\u001b[1;32m----> 2\u001b[1;33m m = Basemap(projection='lcc', resolution=None,\n\u001b[0m\u001b[0;32m      3\u001b[0m             \u001b[0mwidth\u001b[0m\u001b[1;33m=\u001b[0m\u001b[1;36m6E6\u001b[0m\u001b[1;33m,\u001b[0m \u001b[0mheight\u001b[0m\u001b[1;33m=\u001b[0m\u001b[1;36m3E6\u001b[0m\u001b[1;33m,\u001b[0m\u001b[1;33m\u001b[0m\u001b[1;33m\u001b[0m\u001b[0m\n\u001b[0;32m      4\u001b[0m             lon_0=75, lat_0=60)\n\u001b[0;32m      5\u001b[0m \u001b[1;33m\u001b[0m\u001b[0m\n",
      "\u001b[1;31mNameError\u001b[0m: name 'Basemap' is not defined"
     ]
    },
    {
     "data": {
      "text/plain": [
       "<Figure size 1008x504 with 0 Axes>"
      ]
     },
     "metadata": {},
     "output_type": "display_data"
    }
   ],
   "source": [
    "fig = plt.figure(figsize=(14, 7))\n",
    "m = Basemap(projection='lcc', resolution=None,\n",
    "            width=6E6, height=3E6, \n",
    "            lon_0=75, lat_0=60)\n",
    "\n",
    "m.etopo(scale=0.5, alpha=0.5)\n",
    "\n",
    "for index, row in cities.iterrows():\n",
    "    city_name = row[\"shop_city\"]\n",
    "    if city_name==\"No-city\": continue\n",
    "    city_lat  = row[\"latitude\"]\n",
    "    city_lon  = row[\"longitude\"]\n",
    "    \n",
    "    x, y = m(city_lon, city_lat) # Map (long, lat) to (x, y) for plotting\n",
    "    plt.plot(x, y, 'ok', markersize=4)\n",
    "    plt.text(x, y, city_name, fontsize=10);"
   ]
  },
  {
   "cell_type": "code",
   "execution_count": null,
   "metadata": {
    "ExecuteTime": {
     "end_time": "2021-02-11T14:27:31.434509Z",
     "start_time": "2021-02-11T14:27:09.761Z"
    }
   },
   "outputs": [],
   "source": [
    "fig = plt.figure(figsize=(12, 6))\n",
    "m = Basemap(projection='lcc', resolution=None,\n",
    "            width=0.8E6, height=0.4E6, \n",
    "            lon_0=40, lat_0=56)\n",
    "\n",
    "m.etopo(scale=0.5, alpha=0.5)\n",
    "\n",
    "for index, row in cities.iterrows():\n",
    "    city_name = row[\"shop_city\"]\n",
    "    city_lat  = row[\"latitude\"]\n",
    "    city_lon  = row[\"longitude\"]\n",
    "    \n",
    "    if city_name==\"No-city\": continue\n",
    "    if city_lon<31 or 45<city_lon: continue\n",
    "    if city_lat<54 or 59<city_lat: continue\n",
    "    \n",
    "    x, y = m(city_lon, city_lat) # Map (long, lat) to (x, y) for plotting\n",
    "    plt.plot(x, y, 'ok', markersize=4)\n",
    "    plt.text(x, y, city_name, fontsize=10);"
   ]
  },
  {
   "cell_type": "markdown",
   "metadata": {},
   "source": [
    "### JOIN shops & cities"
   ]
  },
  {
   "cell_type": "code",
   "execution_count": null,
   "metadata": {
    "ExecuteTime": {
     "end_time": "2021-02-11T14:27:31.436504Z",
     "start_time": "2021-02-11T14:27:09.766Z"
    }
   },
   "outputs": [],
   "source": [
    "shops = pd.merge(shops, cities, on=\"shop_city\", how=\"left\")\n",
    "shops"
   ]
  },
  {
   "cell_type": "markdown",
   "metadata": {},
   "source": [
    "### Categorical Encoding"
   ]
  },
  {
   "cell_type": "code",
   "execution_count": null,
   "metadata": {
    "ExecuteTime": {
     "end_time": "2021-02-11T14:27:31.438499Z",
     "start_time": "2021-02-11T14:27:09.771Z"
    }
   },
   "outputs": [],
   "source": [
    "# Codificar las ciudades y los tipos de tienda\n",
    "#shops['shop_city'] = LabelEncoder().fit_transform(shops['shop_city']) \n",
    "#shops['shop_type'] = LabelEncoder().fit_transform(shops['shop_type'])\n",
    "#shops = shops[['shop_id', 'shop_city', 'shop_type']]\n",
    "#shops.head()"
   ]
  },
  {
   "cell_type": "markdown",
   "metadata": {},
   "source": [
    "### Save"
   ]
  },
  {
   "cell_type": "code",
   "execution_count": null,
   "metadata": {
    "ExecuteTime": {
     "end_time": "2021-02-11T14:27:31.439496Z",
     "start_time": "2021-02-11T14:27:09.773Z"
    }
   },
   "outputs": [],
   "source": [
    "shops.to_csv(DATA_FE_PATH + \"shops.csv\")"
   ]
  },
  {
   "cell_type": "markdown",
   "metadata": {},
   "source": [
    "# <center> EXTRA"
   ]
  },
  {
   "cell_type": "markdown",
   "metadata": {},
   "source": [
    "### Training Dataframe (df)"
   ]
  },
  {
   "cell_type": "code",
   "execution_count": null,
   "metadata": {
    "ExecuteTime": {
     "end_time": "2021-02-11T14:27:31.441492Z",
     "start_time": "2021-02-11T14:27:09.776Z"
    }
   },
   "outputs": [],
   "source": [
    "df = [] \n",
    "for block_num in sales['date_block_num'].unique():\n",
    "    cur_shops = sales.loc[sales['date_block_num'] == block_num, 'shop_id'].unique()\n",
    "    cur_items = sales.loc[sales['date_block_num'] == block_num, 'item_id'].unique()\n",
    "    df.append(np.array(list(product(*[cur_shops, cur_items, [block_num]]))))\n",
    "\n",
    "df = pd.DataFrame(np.vstack(df), columns=['shop_id', 'item_id', 'date_block_num'])\n",
    "df.head()"
   ]
  },
  {
   "cell_type": "code",
   "execution_count": null,
   "metadata": {
    "ExecuteTime": {
     "end_time": "2021-02-11T14:27:31.443489Z",
     "start_time": "2021-02-11T14:27:09.778Z"
    }
   },
   "outputs": [],
   "source": [
    "sales_items = pd.merge(sales, items, on=['item_id'], how='left')\n",
    "sales_items"
   ]
  },
  {
   "cell_type": "code",
   "execution_count": null,
   "metadata": {
    "ExecuteTime": {
     "end_time": "2021-02-11T14:27:31.444483Z",
     "start_time": "2021-02-11T14:27:09.781Z"
    }
   },
   "outputs": [],
   "source": [
    "\n",
    "\n",
    "shop_cats   = sales_items.groupby(['item_category_id', 'shop_id']).agg({'item_cnt_day':'sum'}).unstack().fillna(0)\n",
    "\n",
    "shop_cats"
   ]
  },
  {
   "cell_type": "code",
   "execution_count": null,
   "metadata": {
    "ExecuteTime": {
     "end_time": "2021-02-11T14:27:31.446479Z",
     "start_time": "2021-02-11T14:27:09.783Z"
    }
   },
   "outputs": [],
   "source": [
    "shop_cats_norm = shop_cats / shop_cats.sum()"
   ]
  },
  {
   "cell_type": "code",
   "execution_count": null,
   "metadata": {
    "ExecuteTime": {
     "end_time": "2021-02-11T14:27:31.447474Z",
     "start_time": "2021-02-11T14:27:09.785Z"
    },
    "scrolled": true
   },
   "outputs": [],
   "source": [
    "sb.clustermap(shop_cats_norm.T, col_cluster=False, figsize=(10, 16))"
   ]
  },
  {
   "cell_type": "code",
   "execution_count": null,
   "metadata": {
    "ExecuteTime": {
     "end_time": "2021-02-11T14:27:31.450466Z",
     "start_time": "2021-02-11T14:27:09.787Z"
    }
   },
   "outputs": [],
   "source": [
    "plt.figure(figsize=(10, 12))\n",
    "sb.heatmap(shop_cats_norm.T)"
   ]
  },
  {
   "cell_type": "code",
   "execution_count": null,
   "metadata": {
    "ExecuteTime": {
     "end_time": "2021-02-11T14:27:31.451464Z",
     "start_time": "2021-02-11T14:27:09.789Z"
    }
   },
   "outputs": [],
   "source": [
    "shop_cats_norm"
   ]
  },
  {
   "cell_type": "code",
   "execution_count": null,
   "metadata": {
    "ExecuteTime": {
     "end_time": "2021-02-11T14:27:31.452461Z",
     "start_time": "2021-02-11T14:27:09.792Z"
    }
   },
   "outputs": [],
   "source": [
    "from sklearn.manifold import TSNE\n",
    "\n",
    "shop_cats_tsne = TSNE(n_components=2, perplexity=10.0).fit_transform(shop_cats_norm.T)\n",
    "\n",
    "sb.scatterplot(x=shop_cats_tsne[:,0], y=shop_cats_tsne[:,1])"
   ]
  },
  {
   "cell_type": "code",
   "execution_count": null,
   "metadata": {},
   "outputs": [],
   "source": []
  },
  {
   "cell_type": "code",
   "execution_count": null,
   "metadata": {
    "ExecuteTime": {
     "end_time": "2021-02-11T14:27:31.453459Z",
     "start_time": "2021-02-11T14:27:09.795Z"
    }
   },
   "outputs": [],
   "source": [
    "shops_cats = pd.DataFrame(\n",
    "    np.array(list(product(*[shops['shop_id'].unique(), cats['item_category_id'].unique()]))),\n",
    "    columns =['shop_id', 'item_category_id']\n",
    ")\n",
    "\n",
    "shops_cats"
   ]
  },
  {
   "cell_type": "code",
   "execution_count": null,
   "metadata": {
    "ExecuteTime": {
     "end_time": "2021-02-11T14:27:31.455453Z",
     "start_time": "2021-02-11T14:27:09.797Z"
    }
   },
   "outputs": [],
   "source": [
    "price = train[['item_id', 'item_price']]\n",
    "price = price.groupby(['item_id'])['item_price'].mean().reset_index()\n",
    "price\n",
    "\n",
    "price"
   ]
  },
  {
   "cell_type": "code",
   "execution_count": null,
   "metadata": {
    "ExecuteTime": {
     "end_time": "2021-02-11T14:27:31.456451Z",
     "start_time": "2021-02-11T14:27:09.798Z"
    }
   },
   "outputs": [],
   "source": [
    "shopprice = train[['shop_id', 'item_id', 'item_price']]\n",
    "shopprice = shopprice.groupby(['item_id', 'shop_id'])['item_price'].mean().reset_index()\n",
    "shopprice"
   ]
  },
  {
   "cell_type": "code",
   "execution_count": null,
   "metadata": {
    "ExecuteTime": {
     "end_time": "2021-02-11T14:27:31.458445Z",
     "start_time": "2021-02-11T14:27:09.800Z"
    }
   },
   "outputs": [],
   "source": [
    "testtmp = test.merge(shopprice, on=['item_id', 'shop_id'], how='left')\n",
    "testtmp"
   ]
  },
  {
   "cell_type": "code",
   "execution_count": null,
   "metadata": {
    "ExecuteTime": {
     "end_time": "2021-02-11T14:27:31.459449Z",
     "start_time": "2021-02-11T14:27:09.802Z"
    }
   },
   "outputs": [],
   "source": [
    "testtmp.loc[testtmp['item_price'].isnull(), 'item_price'] = df['Pclass'].map(price.item_price)"
   ]
  },
  {
   "cell_type": "code",
   "execution_count": null,
   "metadata": {
    "ExecuteTime": {
     "end_time": "2021-02-11T14:27:31.461437Z",
     "start_time": "2021-02-11T14:27:09.804Z"
    }
   },
   "outputs": [],
   "source": [
    "price.head()"
   ]
  },
  {
   "cell_type": "code",
   "execution_count": null,
   "metadata": {},
   "outputs": [],
   "source": []
  },
  {
   "cell_type": "code",
   "execution_count": null,
   "metadata": {},
   "outputs": [],
   "source": []
  }
 ],
 "metadata": {
  "kernelspec": {
   "display_name": "Python 3",
   "language": "python",
   "name": "python3"
  },
  "language_info": {
   "codemirror_mode": {
    "name": "ipython",
    "version": 3
   },
   "file_extension": ".py",
   "mimetype": "text/x-python",
   "name": "python",
   "nbconvert_exporter": "python",
   "pygments_lexer": "ipython3",
   "version": "3.8.5"
  }
 },
 "nbformat": 4,
 "nbformat_minor": 4
}
