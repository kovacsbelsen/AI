{
 "cells": [
  {
   "cell_type": "code",
   "execution_count": 1,
   "metadata": {
    "ExecuteTime": {
     "end_time": "2021-04-27T14:35:34.184467Z",
     "start_time": "2021-04-27T14:35:34.164523Z"
    }
   },
   "outputs": [
    {
     "name": "stdout",
     "output_type": "stream",
     "text": [
      "xs values:  [0, 1, 2, 3, 4, 5, 6, 7, 8, 9]\n",
      "ys values:  [10, 11, 12, 13, 14, 15, 16, 17, 18, 19]\n"
     ]
    },
    {
     "data": {
      "text/plain": [
       "10"
      ]
     },
     "execution_count": 1,
     "metadata": {},
     "output_type": "execute_result"
    }
   ],
   "source": [
    "xs = list(range(10))\n",
    "ys = list(range(10,20))\n",
    "print('xs values: ', xs)\n",
    "print('ys values: ', ys)\n",
    "\n",
    "dataset = list(zip(xs,ys))\n",
    "dataset[0] # returns the tuple (x[0], y[0])\n",
    "\n",
    "len(dataset)"
   ]
  },
  {
   "cell_type": "code",
   "execution_count": 2,
   "metadata": {
    "ExecuteTime": {
     "end_time": "2021-04-27T14:35:34.199467Z",
     "start_time": "2021-04-27T14:35:34.187460Z"
    }
   },
   "outputs": [
    {
     "data": {
      "text/plain": [
       "10"
      ]
     },
     "execution_count": 2,
     "metadata": {},
     "output_type": "execute_result"
    }
   ],
   "source": [
    "#collapse-show\n",
    "\n",
    "class MyDataset:\n",
    "    def __init__(self, xs, ys):\n",
    "        self.xs = xs\n",
    "        self.ys = ys\n",
    "    \n",
    "    def __getitem__(self, i):\n",
    "        return self.xs[i], self.ys[i]\n",
    "    \n",
    "    def __len__(self):\n",
    "        return len(self.xs)\n",
    "dataset = MyDataset(xs, ys)\n",
    "dataset[2] # returns the tuple (x[2], y[2])\n",
    "\n",
    "len(dataset)"
   ]
  },
  {
   "cell_type": "code",
   "execution_count": 3,
   "metadata": {
    "ExecuteTime": {
     "end_time": "2021-04-27T14:35:34.766329Z",
     "start_time": "2021-04-27T14:35:34.202419Z"
    }
   },
   "outputs": [
    {
     "name": "stdout",
     "output_type": "stream",
     "text": [
      "tensor([0]) tensor([10])\n",
      "tensor([1]) tensor([11])\n",
      "tensor([2]) tensor([12])\n",
      "tensor([3]) tensor([13])\n",
      "tensor([4]) tensor([14])\n",
      "tensor([5]) tensor([15])\n",
      "tensor([6]) tensor([16])\n",
      "tensor([7]) tensor([17])\n",
      "tensor([8]) tensor([18])\n",
      "tensor([9]) tensor([19])\n"
     ]
    }
   ],
   "source": [
    "\n",
    "from torch.utils.data import DataLoader\n",
    "\n",
    "for x, y in DataLoader(dataset):\n",
    "    print(x,y)"
   ]
  },
  {
   "cell_type": "code",
   "execution_count": 4,
   "metadata": {
    "ExecuteTime": {
     "end_time": "2021-04-27T14:35:34.782284Z",
     "start_time": "2021-04-27T14:35:34.768280Z"
    }
   },
   "outputs": [
    {
     "name": "stdout",
     "output_type": "stream",
     "text": [
      "tensor([0, 1]) tensor([10, 11])\n",
      "tensor([2, 3]) tensor([12, 13])\n",
      "tensor([4, 5]) tensor([14, 15])\n",
      "tensor([6, 7]) tensor([16, 17])\n",
      "tensor([8, 9]) tensor([18, 19])\n"
     ]
    }
   ],
   "source": [
    "for x, y in DataLoader(dataset, batch_size=2):\n",
    "    print(x,y)"
   ]
  },
  {
   "cell_type": "code",
   "execution_count": 5,
   "metadata": {
    "ExecuteTime": {
     "end_time": "2021-04-27T14:35:34.797203Z",
     "start_time": "2021-04-27T14:35:34.784238Z"
    }
   },
   "outputs": [
    {
     "name": "stdout",
     "output_type": "stream",
     "text": [
      "tensor([1, 9]) tensor([11, 19])\n",
      "tensor([8, 3]) tensor([18, 13])\n",
      "tensor([0, 4]) tensor([10, 14])\n",
      "tensor([6, 2]) tensor([16, 12])\n",
      "tensor([5, 7]) tensor([15, 17])\n"
     ]
    }
   ],
   "source": [
    "\n",
    "for x, y in DataLoader(dataset, batch_size=2, shuffle=True):\n",
    "    print(x,y)"
   ]
  },
  {
   "cell_type": "code",
   "execution_count": 6,
   "metadata": {
    "ExecuteTime": {
     "end_time": "2021-04-27T14:35:34.813195Z",
     "start_time": "2021-04-27T14:35:34.800206Z"
    }
   },
   "outputs": [],
   "source": [
    "default_sampler = DataLoader(dataset).sampler"
   ]
  },
  {
   "cell_type": "code",
   "execution_count": 7,
   "metadata": {
    "ExecuteTime": {
     "end_time": "2021-04-27T14:35:34.829141Z",
     "start_time": "2021-04-27T14:35:34.815179Z"
    }
   },
   "outputs": [
    {
     "name": "stdout",
     "output_type": "stream",
     "text": [
      "0\n",
      "1\n",
      "2\n",
      "3\n",
      "4\n",
      "5\n",
      "6\n",
      "7\n",
      "8\n",
      "9\n"
     ]
    }
   ],
   "source": [
    "\n",
    "for i in default_sampler:\n",
    "    # iterating over the SequentialSampler\n",
    "    print(i)"
   ]
  },
  {
   "cell_type": "code",
   "execution_count": 8,
   "metadata": {
    "ExecuteTime": {
     "end_time": "2021-04-27T14:35:34.844107Z",
     "start_time": "2021-04-27T14:35:34.831136Z"
    }
   },
   "outputs": [
    {
     "data": {
      "text/plain": [
       "torch.utils.data.sampler.SequentialSampler"
      ]
     },
     "execution_count": 8,
     "metadata": {},
     "output_type": "execute_result"
    }
   ],
   "source": [
    "\n",
    "type(default_sampler)"
   ]
  },
  {
   "cell_type": "code",
   "execution_count": 9,
   "metadata": {
    "ExecuteTime": {
     "end_time": "2021-04-27T14:35:34.860057Z",
     "start_time": "2021-04-27T14:35:34.852079Z"
    }
   },
   "outputs": [
    {
     "name": "stdout",
     "output_type": "stream",
     "text": [
      "0\n",
      "1\n",
      "2\n",
      "3\n",
      "4\n",
      "5\n",
      "6\n",
      "7\n",
      "8\n",
      "9\n"
     ]
    }
   ],
   "source": [
    "from torch.utils.data.sampler import SequentialSampler\n",
    "\n",
    "sampler = SequentialSampler(dataset)\n",
    "\n",
    "for x in sampler:\n",
    "    print(x)"
   ]
  },
  {
   "cell_type": "code",
   "execution_count": 10,
   "metadata": {
    "ExecuteTime": {
     "end_time": "2021-04-27T14:35:34.875017Z",
     "start_time": "2021-04-27T14:35:34.864050Z"
    }
   },
   "outputs": [
    {
     "name": "stdout",
     "output_type": "stream",
     "text": [
      "2\n",
      "3\n",
      "1\n",
      "7\n",
      "6\n",
      "0\n",
      "5\n",
      "4\n",
      "8\n",
      "9\n"
     ]
    }
   ],
   "source": [
    "random_sampler = DataLoader(dataset, shuffle=True).sampler\n",
    "for index in random_sampler:\n",
    "    print(index)"
   ]
  },
  {
   "cell_type": "code",
   "execution_count": 11,
   "metadata": {
    "ExecuteTime": {
     "end_time": "2021-04-27T14:35:34.890682Z",
     "start_time": "2021-04-27T14:35:34.878009Z"
    }
   },
   "outputs": [
    {
     "data": {
      "text/plain": [
       "torch.utils.data.sampler.RandomSampler"
      ]
     },
     "execution_count": 11,
     "metadata": {},
     "output_type": "execute_result"
    }
   ],
   "source": [
    "type(random_sampler)"
   ]
  },
  {
   "cell_type": "code",
   "execution_count": 12,
   "metadata": {
    "ExecuteTime": {
     "end_time": "2021-04-27T14:35:34.906627Z",
     "start_time": "2021-04-27T14:35:34.893674Z"
    }
   },
   "outputs": [
    {
     "name": "stdout",
     "output_type": "stream",
     "text": [
      "7\n",
      "8\n",
      "1\n",
      "9\n",
      "5\n",
      "2\n",
      "6\n",
      "4\n",
      "3\n",
      "0\n"
     ]
    }
   ],
   "source": [
    "\n",
    "from torch.utils.data.sampler import RandomSampler\n",
    "\n",
    "random_sampler = RandomSampler(dataset)\n",
    "\n",
    "for x in random_sampler:\n",
    "    print(x)"
   ]
  },
  {
   "cell_type": "code",
   "execution_count": 13,
   "metadata": {
    "ExecuteTime": {
     "end_time": "2021-04-27T14:35:34.922587Z",
     "start_time": "2021-04-27T14:35:34.909619Z"
    }
   },
   "outputs": [
    {
     "name": "stdout",
     "output_type": "stream",
     "text": [
      "0\n",
      "9\n",
      "6\n",
      "8\n",
      "4\n",
      "7\n",
      "3\n",
      "2\n",
      "5\n",
      "1\n"
     ]
    }
   ],
   "source": [
    "dl = DataLoader(dataset, sampler=random_sampler)\n",
    "for i in dl.sampler:\n",
    "    print(i)"
   ]
  },
  {
   "cell_type": "code",
   "execution_count": 14,
   "metadata": {
    "ExecuteTime": {
     "end_time": "2021-04-27T14:35:34.938543Z",
     "start_time": "2021-04-27T14:35:34.925579Z"
    }
   },
   "outputs": [],
   "source": [
    "\n",
    "#collapse-hide\n",
    "import random\n",
    "from torch.utils.data.sampler import Sampler\n",
    "\n",
    "class IndependentHalvesSampler(Sampler):\n",
    "    def __init__(self, dataset):\n",
    "        halfway_point = int(len(dataset)/2)\n",
    "        self.first_half_indices = list(range(halfway_point))\n",
    "        self.second_half_indices = list(range(halfway_point, len(dataset)))\n",
    "        \n",
    "    def __iter__(self):\n",
    "        random.shuffle(self.first_half_indices)\n",
    "        random.shuffle(self.second_half_indices)\n",
    "        return iter(self.first_half_indices + self.second_half_indices)\n",
    "    \n",
    "    def __len__(self):\n",
    "        return len(self.first_half_indices) + len(self.second_half_indices)"
   ]
  },
  {
   "cell_type": "code",
   "execution_count": 15,
   "metadata": {
    "ExecuteTime": {
     "end_time": "2021-04-27T14:35:34.953743Z",
     "start_time": "2021-04-27T14:35:34.940537Z"
    }
   },
   "outputs": [
    {
     "name": "stdout",
     "output_type": "stream",
     "text": [
      "First half indices:  [0, 1, 2, 3, 4]\n",
      "Second half indices: [5, 6, 7, 8, 9]\n"
     ]
    }
   ],
   "source": [
    "our_sampler = IndependentHalvesSampler(dataset)\n",
    "print('First half indices: ', our_sampler.first_half_indices)\n",
    "print('Second half indices:', our_sampler.second_half_indices)"
   ]
  },
  {
   "cell_type": "code",
   "execution_count": 16,
   "metadata": {
    "ExecuteTime": {
     "end_time": "2021-04-27T14:35:34.969459Z",
     "start_time": "2021-04-27T14:35:34.955504Z"
    }
   },
   "outputs": [
    {
     "name": "stdout",
     "output_type": "stream",
     "text": [
      "3\n",
      "4\n",
      "0\n",
      "1\n",
      "2\n",
      "8\n",
      "5\n",
      "7\n",
      "6\n",
      "9\n"
     ]
    }
   ],
   "source": [
    "\n",
    "for i in our_sampler:\n",
    "    print(i)"
   ]
  },
  {
   "cell_type": "code",
   "execution_count": 17,
   "metadata": {
    "ExecuteTime": {
     "end_time": "2021-04-27T14:35:34.999665Z",
     "start_time": "2021-04-27T14:35:34.972462Z"
    }
   },
   "outputs": [
    {
     "name": "stdout",
     "output_type": "stream",
     "text": [
      "tensor([0]) tensor([10])\n",
      "tensor([2]) tensor([12])\n",
      "tensor([3]) tensor([13])\n",
      "tensor([4]) tensor([14])\n",
      "tensor([1]) tensor([11])\n",
      "tensor([6]) tensor([16])\n",
      "tensor([9]) tensor([19])\n",
      "tensor([5]) tensor([15])\n",
      "tensor([8]) tensor([18])\n",
      "tensor([7]) tensor([17])\n"
     ]
    }
   ],
   "source": [
    "\n",
    "dl = DataLoader(dataset, sampler=our_sampler)\n",
    "for xb, yb in dl:\n",
    "    print(xb, yb)"
   ]
  },
  {
   "cell_type": "code",
   "execution_count": 19,
   "metadata": {
    "ExecuteTime": {
     "end_time": "2021-04-27T14:36:02.788744Z",
     "start_time": "2021-04-27T14:36:02.777801Z"
    }
   },
   "outputs": [
    {
     "name": "stdout",
     "output_type": "stream",
     "text": [
      "tensor([0, 1, 3, 2, 4, 9, 8]) tensor([10, 11, 13, 12, 14, 19, 18])\n",
      "tensor([6, 7, 5]) tensor([16, 17, 15])\n"
     ]
    }
   ],
   "source": [
    "batch_size=7\n",
    "dl = DataLoader(dataset, batch_size=batch_size, sampler=our_sampler)\n",
    "for xb, yb in dl:\n",
    "    print(xb, yb)"
   ]
  },
  {
   "cell_type": "code",
   "execution_count": 20,
   "metadata": {
    "ExecuteTime": {
     "end_time": "2021-04-27T14:36:13.978851Z",
     "start_time": "2021-04-27T14:36:13.966873Z"
    }
   },
   "outputs": [
    {
     "name": "stdout",
     "output_type": "stream",
     "text": [
      "Batch #0 indices:  [0, 1, 2]\n",
      "Batch #1 indices:  [3, 4, 5]\n",
      "Batch #2 indices:  [6, 7, 8]\n",
      "Batch #3 indices:  [9]\n"
     ]
    }
   ],
   "source": [
    "\n",
    "batch_size = 3\n",
    "default_batch_sampler = DataLoader(dataset, batch_size=batch_size).batch_sampler\n",
    "for i, batch_indices in enumerate(default_batch_sampler):\n",
    "    print(f'Batch #{i} indices: ', batch_indices)"
   ]
  },
  {
   "cell_type": "code",
   "execution_count": 21,
   "metadata": {
    "ExecuteTime": {
     "end_time": "2021-04-27T14:36:21.152848Z",
     "start_time": "2021-04-27T14:36:21.134857Z"
    }
   },
   "outputs": [
    {
     "data": {
      "text/plain": [
       "torch.utils.data.sampler.BatchSampler"
      ]
     },
     "execution_count": 21,
     "metadata": {},
     "output_type": "execute_result"
    }
   ],
   "source": [
    "type(default_batch_sampler)"
   ]
  },
  {
   "cell_type": "code",
   "execution_count": 22,
   "metadata": {
    "ExecuteTime": {
     "end_time": "2021-04-27T14:36:27.411613Z",
     "start_time": "2021-04-27T14:36:27.393625Z"
    }
   },
   "outputs": [],
   "source": [
    "\n",
    "from torch.utils.data.sampler import BatchSampler"
   ]
  },
  {
   "cell_type": "code",
   "execution_count": 23,
   "metadata": {
    "ExecuteTime": {
     "end_time": "2021-04-27T14:36:31.785448Z",
     "start_time": "2021-04-27T14:36:31.769462Z"
    }
   },
   "outputs": [
    {
     "name": "stdout",
     "output_type": "stream",
     "text": [
      "Wraps another sampler to yield a mini-batch of indices.\n",
      "\n",
      "    Args:\n",
      "        sampler (Sampler or Iterable): Base sampler. Can be any iterable object\n",
      "        batch_size (int): Size of mini-batch.\n",
      "        drop_last (bool): If ``True``, the sampler will drop the last batch if\n",
      "            its size would be less than ``batch_size``\n",
      "\n",
      "    Example:\n",
      "        >>> list(BatchSampler(SequentialSampler(range(10)), batch_size=3, drop_last=False))\n",
      "        [[0, 1, 2], [3, 4, 5], [6, 7, 8], [9]]\n",
      "        >>> list(BatchSampler(SequentialSampler(range(10)), batch_size=3, drop_last=True))\n",
      "        [[0, 1, 2], [3, 4, 5], [6, 7, 8]]\n",
      "    \n"
     ]
    }
   ],
   "source": [
    "print(BatchSampler.__doc__)"
   ]
  },
  {
   "cell_type": "code",
   "execution_count": 24,
   "metadata": {
    "ExecuteTime": {
     "end_time": "2021-04-27T14:55:58.101198Z",
     "start_time": "2021-04-27T14:55:58.086229Z"
    }
   },
   "outputs": [
    {
     "name": "stdout",
     "output_type": "stream",
     "text": [
      "Batch #0 indices:  [3, 2]\n",
      "Batch #1 indices:  [0, 4]\n",
      "Batch #2 indices:  [1, 5]\n",
      "Batch #3 indices:  [7, 6]\n",
      "Batch #4 indices:  [8, 9]\n"
     ]
    }
   ],
   "source": [
    "batch_sampler = BatchSampler(our_sampler, batch_size=2, drop_last=False)\n",
    "for i, batch_indices in enumerate(batch_sampler):\n",
    "    print(f'Batch #{i} indices: ', batch_indices)"
   ]
  },
  {
   "cell_type": "code",
   "execution_count": 25,
   "metadata": {
    "ExecuteTime": {
     "end_time": "2021-04-27T14:56:32.630189Z",
     "start_time": "2021-04-27T14:56:32.616226Z"
    }
   },
   "outputs": [],
   "source": [
    "import torch"
   ]
  },
  {
   "cell_type": "code",
   "execution_count": 26,
   "metadata": {
    "ExecuteTime": {
     "end_time": "2021-04-27T14:56:42.390461Z",
     "start_time": "2021-04-27T14:56:42.377524Z"
    }
   },
   "outputs": [],
   "source": [
    "def chunk(indices, chunk_size):\n",
    "    return torch.split(torch.tensor(indices), chunk_size)\n",
    "\n",
    "class EachHalfTogetherBatchSampler(Sampler):\n",
    "    def __init__(self, dataset, batch_size):\n",
    "        halfway_point = len(dataset) // 2 \n",
    "        self.first_half_indices = list(range(halfway_point))\n",
    "        self.second_half_indices = list(range(halfway_point, len(dataset)))\n",
    "        self.batch_size = batch_size\n",
    "    \n",
    "    def __iter__(self):\n",
    "        random.shuffle(self.first_half_indices)\n",
    "        random.shuffle(self.second_half_indices)\n",
    "        first_half_batches  = chunk(self.first_half_indices, self.batch_size)\n",
    "        second_half_batches = chunk(self.second_half_indices, self.batch_size)\n",
    "        combined = list(first_half_batches + second_half_batches)\n",
    "        combined = [batch.tolist() for batch in combined]\n",
    "        random.shuffle(combined)\n",
    "        return iter(combined)\n",
    "    \n",
    "    def __len__(self):\n",
    "        return (len(self.first_half_indices) + len(self.second_half_indices)) // self.batch_size\n"
   ]
  },
  {
   "cell_type": "code",
   "execution_count": 27,
   "metadata": {
    "ExecuteTime": {
     "end_time": "2021-04-27T14:56:54.440623Z",
     "start_time": "2021-04-27T14:56:54.413654Z"
    }
   },
   "outputs": [
    {
     "name": "stdout",
     "output_type": "stream",
     "text": [
      "[0, 1]\n",
      "[8, 5]\n",
      "[4, 3]\n",
      "[7]\n",
      "[6, 9]\n",
      "[2]\n"
     ]
    }
   ],
   "source": [
    "batch_size = 2\n",
    "each_half_together_batch_sampler = EachHalfTogetherBatchSampler(dataset, batch_size)\n",
    "for x in each_half_together_batch_sampler:\n",
    "    print(x)"
   ]
  },
  {
   "cell_type": "code",
   "execution_count": 28,
   "metadata": {
    "ExecuteTime": {
     "end_time": "2021-04-27T14:57:02.630799Z",
     "start_time": "2021-04-27T14:57:02.605824Z"
    }
   },
   "outputs": [
    {
     "name": "stdout",
     "output_type": "stream",
     "text": [
      "Batch #0. x0: tensor([9, 8])\n",
      "          y0: tensor([19, 18])\n",
      "Batch #1. x1: tensor([0])\n",
      "          y1: tensor([10])\n",
      "Batch #2. x2: tensor([4, 3])\n",
      "          y2: tensor([14, 13])\n",
      "Batch #3. x3: tensor([5])\n",
      "          y3: tensor([15])\n",
      "Batch #4. x4: tensor([6, 7])\n",
      "          y4: tensor([16, 17])\n",
      "Batch #5. x5: tensor([2, 1])\n",
      "          y5: tensor([12, 11])\n"
     ]
    }
   ],
   "source": [
    "for i, (xb,yb) in enumerate(DataLoader(dataset, batch_sampler=each_half_together_batch_sampler)):\n",
    "    print(f'Batch #{i}. x{i}:', xb)\n",
    "    print(f'          y{i}:', yb)"
   ]
  },
  {
   "cell_type": "code",
   "execution_count": null,
   "metadata": {},
   "outputs": [],
   "source": []
  }
 ],
 "metadata": {
  "kernelspec": {
   "display_name": "Python 3",
   "language": "python",
   "name": "python3"
  },
  "language_info": {
   "codemirror_mode": {
    "name": "ipython",
    "version": 3
   },
   "file_extension": ".py",
   "mimetype": "text/x-python",
   "name": "python",
   "nbconvert_exporter": "python",
   "pygments_lexer": "ipython3",
   "version": "3.8.5"
  }
 },
 "nbformat": 4,
 "nbformat_minor": 4
}
