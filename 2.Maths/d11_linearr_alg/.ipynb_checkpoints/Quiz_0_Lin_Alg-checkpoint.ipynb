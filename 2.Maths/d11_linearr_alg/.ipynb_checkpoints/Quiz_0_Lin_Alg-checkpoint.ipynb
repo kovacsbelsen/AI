{
 "cells": [
  {
   "cell_type": "markdown",
   "metadata": {},
   "source": [
    "# Vectors and Matrices\n",
    "Time to work! Do it with numpy first and then if you have time, manually by hand :)"
   ]
  },
  {
   "cell_type": "markdown",
   "metadata": {},
   "source": [
    "## Vectors"
   ]
  },
  {
   "cell_type": "markdown",
   "metadata": {},
   "source": [
    "Lists can be used to represent mathematical vectors. In this exercise and several that follow you will write functions to perform standard operations on vectors. Create a file named vectors.py or use the Jupyter notebook provided\n",
    "\n",
    "Write a function add_vectors(u, v) that takes two lists of numbers of the same length, and returns a new list containing the sums of the corresponding elements of each.\n",
    "\n",
    "**Note that the text in \"\"\" \"\"\" is provided for you to accurately verify that your function works :)**"
   ]
  },
  {
   "cell_type": "code",
   "execution_count": 21,
   "metadata": {
    "ExecuteTime": {
     "end_time": "2020-12-14T13:14:37.584050Z",
     "start_time": "2020-12-14T13:14:37.574071Z"
    }
   },
   "outputs": [
    {
     "name": "stdout",
     "output_type": "stream",
     "text": [
      "[2 1]\n",
      "[2 6]\n",
      "[2 6 4]\n",
      "[13 -4 13  5]\n",
      "[2 3 4]\n"
     ]
    },
    {
     "data": {
      "text/plain": [
       "array([2, 3, 4])"
      ]
     },
     "execution_count": 21,
     "metadata": {},
     "output_type": "execute_result"
    }
   ],
   "source": [
    "import numpy as np\n",
    "\n",
    "def add_vectors(u, v):\n",
    "    \n",
    "    print(np.add(u,v))\n",
    "    return(np.add(u,v))\n",
    "\n",
    "add_vectors([1, 0], [1, 1])\n",
    "add_vectors([1, 2], [1, 4])\n",
    "add_vectors([1, 2, 1], [1, 4, 3])\n",
    "add_vectors([11, 0, -4, 5], [2, -4, 17, 0])\n",
    "\n",
    "a = [1, 2, 3]\n",
    "b = [1, 1, 1]\n",
    "add_vectors(a, b)"
   ]
  },
  {
   "cell_type": "markdown",
   "metadata": {},
   "source": [
    "Write a function scalar_mult(s, v) that takes a number, s, and a list, v and returns the [scalar multiple](https://en.wikipedia.org/wiki/Scalar_multiplication) of v by s."
   ]
  },
  {
   "cell_type": "code",
   "execution_count": 51,
   "metadata": {
    "ExecuteTime": {
     "end_time": "2020-12-14T13:58:08.882682Z",
     "start_time": "2020-12-14T13:58:08.873707Z"
    }
   },
   "outputs": [
    {
     "name": "stdout",
     "output_type": "stream",
     "text": [
      "[ 5 10]\n",
      "[ 3  0 -3]\n",
      "[21  0 35 77 14]\n",
      "[ 4  8 12]\n"
     ]
    },
    {
     "data": {
      "text/plain": [
       "array([ 4,  8, 12])"
      ]
     },
     "execution_count": 51,
     "metadata": {},
     "output_type": "execute_result"
    }
   ],
   "source": [
    "def scalar_mult(s, v):\n",
    " \n",
    "    print(np.multiply(s, v))\n",
    "    return(np.multiply(s, v))\n",
    "    \n",
    "scalar_mult(5, [1, 2]) \n",
    "\n",
    "scalar_mult(3, [1, 0, -1])\n",
    "\n",
    "scalar_mult(7, [3, 0, 5, 11, 2])\n",
    "            \n",
    "a = [1, 2, 3]\n",
    "scalar_mult(4, a)            \n"
   ]
  },
  {
   "cell_type": "markdown",
   "metadata": {},
   "source": [
    "Write a function dot_product(u, v) that takes two lists of numbers of the same length, and returns the sum of the products of the corresponding elements of each (the [dot_product](https://en.wikipedia.org/wiki/Dot_product)."
   ]
  },
  {
   "cell_type": "code",
   "execution_count": 55,
   "metadata": {
    "ExecuteTime": {
     "end_time": "2020-12-14T14:15:11.493981Z",
     "start_time": "2020-12-14T14:15:11.485004Z"
    }
   },
   "outputs": [
    {
     "name": "stdout",
     "output_type": "stream",
     "text": [
      "2\n",
      "9\n",
      "12\n",
      "0\n"
     ]
    },
    {
     "data": {
      "text/plain": [
       "0"
      ]
     },
     "execution_count": 55,
     "metadata": {},
     "output_type": "execute_result"
    }
   ],
   "source": [
    "def dot_product(u, v):\n",
    "   \n",
    "    print(np.dot(u,v))\n",
    "    return(np.dot(u,v))\n",
    "\n",
    "dot_product([1, 1], [1, 1])\n",
    "dot_product([1, 2], [1, 4])\n",
    "dot_product([1, 2, 1], [1, 4, 3])\n",
    "dot_product([2, 0, -1, 1], [1, 5, 2, 0])"
   ]
  },
  {
   "cell_type": "markdown",
   "metadata": {},
   "source": [
    "## Matrices"
   ]
  },
  {
   "cell_type": "markdown",
   "metadata": {},
   "source": [
    "Create a new module named matrices.py or *use the Jupyter notebook provided* and add the following function, which returns a copy of nested lists of numbers such that the lists are not aliases:"
   ]
  },
  {
   "cell_type": "code",
   "execution_count": 30,
   "metadata": {
    "ExecuteTime": {
     "end_time": "2020-12-14T20:51:01.462142Z",
     "start_time": "2020-12-14T20:51:01.441198Z"
    }
   },
   "outputs": [
    {
     "name": "stdout",
     "output_type": "stream",
     "text": [
      "[[2, 2], [3, 4]]\n",
      "[[1, 2, 3], [4, 5, 6]]\n",
      "[[1, 2], [3, 4], [5, 6], [7, 8]]\n",
      "[[1, 0, 0], [0, 2, 0], [0, 0, 3]]\n"
     ]
    },
    {
     "data": {
      "text/plain": [
       "[[1, 0, 0], [0, 2, 0], [0, 0, 3]]"
      ]
     },
     "execution_count": 30,
     "metadata": {},
     "output_type": "execute_result"
    }
   ],
   "source": [
    "import copy\n",
    "\n",
    "def copy_matrix(matrix):\n",
    "    b  = copy.deepcopy(matrix)\n",
    "    print(b)\n",
    "    return(b)\n",
    "copy_matrix([[2, 2], [3, 4]])\n",
    "copy_matrix([[1, 2, 3], [4, 5, 6]])\n",
    "copy_matrix([[1, 2], [3, 4], [5, 6], [7, 8]])\n",
    "m = [[1, 0, 0], [0, 2, 0], [0, 0, 3]]\n",
    "copyofm = copy_matrix(m)\n",
    "\n",
    "\n",
    "for row_num, row in enumerate(copyofm):\n",
    "      for col_num, col_val in enumerate(row):\n",
    "        copyofm[row_num][col_num] = 42\n",
    "\n",
    "copyofm\n",
    "\n",
    "m\n",
    "\n",
    "      #>>> copy_matrix([[1, 2], [3, 4]])\n",
    "     # [[1, 2], [3, 4]]\n",
    "     # >>> copy_matrix([[1, 2, 3], [4, 5, 6]])\n",
    "     # [[1, 2, 3], [4, 5, 6]]\n",
    "     # >>> copy_matrix([[1, 2], [3, 4], [5, 6], [7, 8]])\n",
    "     # [[1, 2], [3, 4], [5, 6], [7, 8]]\n",
    "     # >>> m = [[1, 0, 0], [0, 2, 0], [0, 0, 3]]\n",
    "      #>>> copyofm = copy_matrix(m)\n",
    "     # >>> copyofm\n",
    "     # [[1, 0, 0], [0, 2, 0], [0, 0, 3]]\n",
    "      #>>> for row_num, row in enumerate(copyofm):\n",
    "      #...     for col_num, col_val in enumerate(row):\n",
    "      #...         copyofm[row_num][col_num] = 42\n",
    "     # ...\n",
    "      #>>> copyofm\n",
    "      #[[42, 42, 42], [42, 42, 42], [42, 42, 42]]\n",
    "     # >>> m\n",
    "     #[[1, 0, 0], [0, 2, 0], [0, 0, 3]]"
   ]
  },
  {
   "cell_type": "code",
   "execution_count": 3,
   "metadata": {
    "ExecuteTime": {
     "end_time": "2020-12-15T12:41:29.046911Z",
     "start_time": "2020-12-15T12:41:28.301166Z"
    }
   },
   "outputs": [
    {
     "data": {
      "text/plain": [
       "array([[0, 0, 0],\n",
       "       [0, 0, 0]])"
      ]
     },
     "execution_count": 3,
     "metadata": {},
     "output_type": "execute_result"
    }
   ],
   "source": [
    "import numpy as np\n",
    "\n",
    "def add_column(matrix):\n",
    "        \n",
    "    \"\"\"\n",
    "      >>> m = [[0, 0], [0, 0]]\n",
    "      >>> add_column(m)\n",
    "      [[0, 0, 0], [0, 0, 0]]\n",
    "      >>> n = [[3, 2], [5, 1], [4, 7]]\n",
    "      >>> add_column(n)\n",
    "      [[3, 2, 0], [5, 1, 0], [4, 7, 0]]\n",
    "      >>> n\n",
    "      [[3, 2], [5, 1], [4, 7]]\n",
    "    \"\"\"\n",
    "    #z = np.matrix(np.ones(np.shape(m)[0]))\n",
    "    #print(z.T)\n",
    "    #return np.append(m, z.T, axis=1)\n",
    "    \n",
    "    \n",
    "    \n",
    "    m = []\n",
    "    ml = len(matrix)\n",
    "    for i in range(ml):\n",
    "        m.append(0)\n",
    "    return np.column_stack([matrix,m])\n",
    "    \n",
    "    \n",
    "    \n",
    "     \n",
    "n = [[0, 0], [0, 0]]          \n",
    "add_column(n)\n"
   ]
  },
  {
   "cell_type": "code",
   "execution_count": 40,
   "metadata": {
    "ExecuteTime": {
     "end_time": "2020-12-14T21:28:11.408684Z",
     "start_time": "2020-12-14T21:28:11.402674Z"
    }
   },
   "outputs": [
    {
     "data": {
      "text/plain": [
       "array([[3, 2, 0],\n",
       "       [5, 1, 0],\n",
       "       [4, 7, 0]])"
      ]
     },
     "execution_count": 40,
     "metadata": {},
     "output_type": "execute_result"
    }
   ],
   "source": [
    "def add_column_np(matrix,col):\n",
    "    return np.column_stack([matrix,col])\n",
    "n = [[3, 2], [5, 1], [4, 7]]\n",
    "add_column_np(n,[0,0,0])"
   ]
  },
  {
   "cell_type": "code",
   "execution_count": 13,
   "metadata": {
    "ExecuteTime": {
     "end_time": "2020-12-15T12:46:18.972675Z",
     "start_time": "2020-12-15T12:46:18.963694Z"
    },
    "scrolled": true
   },
   "outputs": [
    {
     "name": "stdout",
     "output_type": "stream",
     "text": [
      "3\n",
      "3\n"
     ]
    },
    {
     "data": {
      "text/plain": [
       "array([[3, 2, 5],\n",
       "       [1, 4, 7],\n",
       "       [0, 0, 0]])"
      ]
     },
     "execution_count": 13,
     "metadata": {},
     "output_type": "execute_result"
    }
   ],
   "source": [
    "def add_row(matrix):\n",
    "    \n",
    "    m = []\n",
    "    for x in matrix:\n",
    "        ml = len(x)\n",
    "        print(ml)\n",
    "    for i in range(ml):\n",
    "        m.append(0)\n",
    "    return np.vstack([matrix,m])\n",
    "    \n",
    "    \n",
    "    \n",
    "    \"\"\"\n",
    "      >>> m = [[0, 0], [0, 0]]\n",
    "      >>> add_row(m)\n",
    "      [[0, 0], [0, 0], [0, 0]]\n",
    "      >>> n = [[3, 2, 5], [1, 4, 7]]\n",
    "      >>> add_row(n)\n",
    "      [[3, 2, 5], [1, 4, 7], [0, 0, 0]]\n",
    "      >>> n\n",
    "      [[3, 2, 5], [1, 4, 7]]\n",
    "    \"\"\"\n",
    "n = [[3, 2, 5], [1, 4, 7]]    \n",
    "add_row(n)"
   ]
  },
  {
   "cell_type": "code",
   "execution_count": 21,
   "metadata": {
    "ExecuteTime": {
     "end_time": "2020-12-15T13:34:52.607914Z",
     "start_time": "2020-12-15T13:34:52.601919Z"
    }
   },
   "outputs": [
    {
     "data": {
      "text/plain": [
       "array([[3, 2, 5],\n",
       "       [1, 4, 7],\n",
       "       [0, 0, 0]])"
      ]
     },
     "execution_count": 21,
     "metadata": {},
     "output_type": "execute_result"
    }
   ],
   "source": [
    "def add_row(matrix, row):\n",
    "    \n",
    "    return(np.vstack([matrix,row]))\n",
    "    \n",
    "m = [[3, 2, 5], [1, 4, 7]]\n",
    "add_row(m, [0, 0, 0])"
   ]
  },
  {
   "cell_type": "markdown",
   "metadata": {},
   "source": [
    "Write a function add_matrices(m1, m2) that adds m1 and m2 and returns a new matrix containing their sum. You can assume that m1 and m2 are the same size. You add two matrices by adding their corresponding values."
   ]
  },
  {
   "cell_type": "code",
   "execution_count": 31,
   "metadata": {
    "ExecuteTime": {
     "end_time": "2020-12-15T13:43:06.061332Z",
     "start_time": "2020-12-15T13:43:06.055322Z"
    }
   },
   "outputs": [
    {
     "data": {
      "text/plain": [
       "array([[3, 4],\n",
       "       [5, 6]])"
      ]
     },
     "execution_count": 31,
     "metadata": {},
     "output_type": "execute_result"
    }
   ],
   "source": [
    "def add_matrices(m1, m2):\n",
    "    \n",
    "    \n",
    "    \"\"\"\n",
    "      >>> a = [[1, 2], [3, 4]]\n",
    "      >>> b = [[2, 2], [2, 2]]\n",
    "      >>> add_matrices(a, b)\n",
    "      [[3, 4], [5, 6]]\n",
    "      >>> c = [[8, 2], [3, 4], [5, 7]]\n",
    "      >>> d = [[3, 2], [9, 2], [10, 12]]\n",
    "      >>> add_matrices(c, d)\n",
    "      [[11, 4], [12, 6], [15, 19]]\n",
    "      >>> c\n",
    "      [[8, 2], [3, 4], [5, 7]]\n",
    "      >>> d\n",
    "      [[3, 2], [9, 2], [10, 12]]\n",
    "   \"\"\"\n",
    "    #print(np.add(m1, m2))\n",
    "    return(np.add(m1, m2))\n",
    "\n",
    "a = [[1, 2], [3, 4]]\n",
    "b = [[2, 2], [2, 2]]\n",
    "\n",
    "add_matrices(a, b)"
   ]
  },
  {
   "cell_type": "markdown",
   "metadata": {},
   "source": [
    "Write a function scalar_mult(s, m) that multiplies a matrix, m, by a scalar, s."
   ]
  },
  {
   "cell_type": "code",
   "execution_count": 40,
   "metadata": {
    "ExecuteTime": {
     "end_time": "2020-12-15T13:46:25.086689Z",
     "start_time": "2020-12-15T13:46:25.080677Z"
    }
   },
   "outputs": [
    {
     "data": {
      "text/plain": [
       "array([[ 3,  6],\n",
       "       [ 9, 12]])"
      ]
     },
     "execution_count": 40,
     "metadata": {},
     "output_type": "execute_result"
    }
   ],
   "source": [
    "def scalar_mult(s, m):\n",
    "    \"\"\"\n",
    "      >>> a = [[1, 2], [3, 4]]\n",
    "      >>> scalar_mult(3, a)\n",
    "      [[3, 6], [9, 12]]\n",
    "      >>> b = [[3, 5, 7], [1, 1, 1], [0, 2, 0], [2, 2, 3]]\n",
    "      >>> scalar_mult(10, b)\n",
    "      [[30, 50, 70], [10, 10, 10], [0, 20, 0], [20, 20, 30]]\n",
    "      >>> b\n",
    "      [[3, 5, 7], [1, 1, 1], [0, 2, 0], [2, 2, 3]]\n",
    "    \"\"\"\n",
    "    \n",
    "    result = np.multiply(s, m)\n",
    "    return(result)\n",
    "\n",
    "a = [[1, 2], [3, 4]]\n",
    "scalar_mult(3, a)"
   ]
  },
  {
   "cell_type": "markdown",
   "metadata": {},
   "source": [
    "Write functions row_times_column and matrix_mult:"
   ]
  },
  {
   "cell_type": "code",
   "execution_count": 49,
   "metadata": {
    "ExecuteTime": {
     "end_time": "2020-12-15T13:57:50.403001Z",
     "start_time": "2020-12-15T13:57:50.395990Z"
    }
   },
   "outputs": [
    {
     "name": "stdout",
     "output_type": "stream",
     "text": [
      "[[19 22]\n",
      " [43 50]]\n"
     ]
    },
    {
     "data": {
      "text/plain": [
       "19"
      ]
     },
     "execution_count": 49,
     "metadata": {},
     "output_type": "execute_result"
    }
   ],
   "source": [
    "def row_times_column(m1, row, m2, column):\n",
    "    a=np.matmul(m1, m2)\n",
    "    print(a)\n",
    "    return  a[row][column]\n",
    "    \n",
    "    \n",
    "    \n",
    "    \"\"\"\n",
    "      >>> row_times_column([[1, 2], [3, 4]], 0, [[5, 6], [7, 8]], 0)\n",
    "      19\n",
    "      >>> row_times_column([[1, 2], [3, 4]], 0, [[5, 6], [7, 8]], 1)\n",
    "      22\n",
    "      >>> row_times_column([[1, 2], [3, 4]], 1, [[5, 6], [7, 8]], 0)\n",
    "      43\n",
    "      >>> row_times_column([[1, 2], [3, 4]], 1, [[5, 6], [7, 8]], 1)\n",
    "      50\n",
    "    \"\"\"\n",
    "\n",
    "row_times_column([[1, 2], [3, 4]], 0, [[5, 6], [7, 8]], 0)"
   ]
  },
  {
   "cell_type": "code",
   "execution_count": 54,
   "metadata": {
    "ExecuteTime": {
     "end_time": "2020-12-15T14:03:41.335179Z",
     "start_time": "2020-12-15T14:03:41.328159Z"
    }
   },
   "outputs": [
    {
     "data": {
      "text/plain": [
       "array([[19, 22],\n",
       "       [43, 50]])"
      ]
     },
     "execution_count": 54,
     "metadata": {},
     "output_type": "execute_result"
    }
   ],
   "source": [
    "def matrix_mult(m1, m2):\n",
    "    \n",
    "    a=np.matmul(m1, m2)\n",
    "    return  a\n",
    "    \n",
    "    \"\"\"\n",
    "      >>> matrix_mult([[1, 2], [3,  4]], [[5, 6], [7, 8]])\n",
    "      [[19, 22], [43, 50]]\n",
    "      >>> matrix_mult([[1, 2, 3], [4,  5, 6]], [[7, 8], [9, 1], [2, 3]])\n",
    "      [[31, 19], [85, 55]]\n",
    "      >>> matrix_mult([[7, 8], [9, 1], [2, 3]], [[1, 2, 3], [4, 5, 6]])\n",
    "      [[39, 54, 69], [13, 23, 33], [14, 19, 24]]\n",
    "    \"\"\"\n",
    "\n",
    "matrix_mult([[1, 2], [3,  4]], [[5, 6], [7, 8]])"
   ]
  },
  {
   "cell_type": "markdown",
   "metadata": {},
   "source": [
    "Write a function transpose that takes a matrix as an argument and returns is transpose:"
   ]
  },
  {
   "cell_type": "code",
   "execution_count": 57,
   "metadata": {
    "ExecuteTime": {
     "end_time": "2020-12-15T14:05:53.048123Z",
     "start_time": "2020-12-15T14:05:53.042133Z"
    }
   },
   "outputs": [
    {
     "data": {
      "text/plain": [
       "array([[3, 1],\n",
       "       [4, 5],\n",
       "       [6, 9]])"
      ]
     },
     "execution_count": 57,
     "metadata": {},
     "output_type": "execute_result"
    }
   ],
   "source": [
    "def transpose(m):\n",
    "    return(np.transpose(m))\n",
    "    \n",
    "    \n",
    "    \"\"\"\n",
    "     >>> m = [[3, 4, 6]]\n",
    "     >>> transpose(m)\n",
    "     [[3], [4], [6]]\n",
    "     >>> m\n",
    "     [3, 4, 6]\n",
    "     >>> m = [[3, 4, 6], [1, 5, 9]]\n",
    "     >>> transpose(m)\n",
    "     [[3, 1], [4, 5], [6, 9]]\n",
    "   \"\"\"\n",
    "    \n",
    "    \n",
    "m = [[3, 4, 6], [1, 5, 9]]\n",
    "transpose(m)"
   ]
  },
  {
   "cell_type": "code",
   "execution_count": null,
   "metadata": {},
   "outputs": [],
   "source": []
  }
 ],
 "metadata": {
  "kernelspec": {
   "display_name": "Python 3",
   "language": "python",
   "name": "python3"
  },
  "language_info": {
   "codemirror_mode": {
    "name": "ipython",
    "version": 3
   },
   "file_extension": ".py",
   "mimetype": "text/x-python",
   "name": "python",
   "nbconvert_exporter": "python",
   "pygments_lexer": "ipython3",
   "version": "3.8.5"
  }
 },
 "nbformat": 4,
 "nbformat_minor": 2
}
